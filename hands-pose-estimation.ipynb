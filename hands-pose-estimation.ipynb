{
 "cells": [
  {
   "cell_type": "code",
   "execution_count": 1,
   "metadata": {
    "execution": {
     "iopub.execute_input": "2025-05-22T05:33:35.013935Z",
     "iopub.status.busy": "2025-05-22T05:33:35.013201Z",
     "iopub.status.idle": "2025-05-22T05:34:54.536986Z",
     "shell.execute_reply": "2025-05-22T05:34:54.536062Z",
     "shell.execute_reply.started": "2025-05-22T05:33:35.013907Z"
    },
    "trusted": true
   },
   "outputs": [
    {
     "name": "stdout",
     "output_type": "stream",
     "text": [
      "Requirement already satisfied: ultralytics in c:\\users\\dell\\appdata\\local\\packages\\pythonsoftwarefoundation.python.3.11_qbz5n2kfra8p0\\localcache\\local-packages\\python311\\site-packages (8.3.137)\n",
      "Requirement already satisfied: numpy>=1.23.0 in c:\\users\\dell\\appdata\\local\\packages\\pythonsoftwarefoundation.python.3.11_qbz5n2kfra8p0\\localcache\\local-packages\\python311\\site-packages (from ultralytics) (1.26.4)\n",
      "Requirement already satisfied: matplotlib>=3.3.0 in c:\\users\\dell\\appdata\\local\\packages\\pythonsoftwarefoundation.python.3.11_qbz5n2kfra8p0\\localcache\\local-packages\\python311\\site-packages (from ultralytics) (3.8.3)\n",
      "Requirement already satisfied: opencv-python>=4.6.0 in c:\\users\\dell\\appdata\\local\\packages\\pythonsoftwarefoundation.python.3.11_qbz5n2kfra8p0\\localcache\\local-packages\\python311\\site-packages (from ultralytics) (4.11.0.86)\n",
      "Requirement already satisfied: pillow>=7.1.2 in c:\\users\\dell\\appdata\\local\\packages\\pythonsoftwarefoundation.python.3.11_qbz5n2kfra8p0\\localcache\\local-packages\\python311\\site-packages (from ultralytics) (11.2.1)\n",
      "Requirement already satisfied: pyyaml>=5.3.1 in c:\\users\\dell\\appdata\\local\\packages\\pythonsoftwarefoundation.python.3.11_qbz5n2kfra8p0\\localcache\\local-packages\\python311\\site-packages (from ultralytics) (6.0.2)\n",
      "Requirement already satisfied: requests>=2.23.0 in c:\\users\\dell\\appdata\\local\\packages\\pythonsoftwarefoundation.python.3.11_qbz5n2kfra8p0\\localcache\\local-packages\\python311\\site-packages (from ultralytics) (2.32.3)\n",
      "Requirement already satisfied: scipy>=1.4.1 in c:\\users\\dell\\appdata\\local\\packages\\pythonsoftwarefoundation.python.3.11_qbz5n2kfra8p0\\localcache\\local-packages\\python311\\site-packages (from ultralytics) (1.15.3)\n",
      "Requirement already satisfied: torch>=1.8.0 in c:\\users\\dell\\appdata\\local\\packages\\pythonsoftwarefoundation.python.3.11_qbz5n2kfra8p0\\localcache\\local-packages\\python311\\site-packages (from ultralytics) (2.7.0+cpu)\n",
      "Requirement already satisfied: torchvision>=0.9.0 in c:\\users\\dell\\appdata\\local\\packages\\pythonsoftwarefoundation.python.3.11_qbz5n2kfra8p0\\localcache\\local-packages\\python311\\site-packages (from ultralytics) (0.22.0+cpu)\n",
      "Requirement already satisfied: tqdm>=4.64.0 in c:\\users\\dell\\appdata\\local\\packages\\pythonsoftwarefoundation.python.3.11_qbz5n2kfra8p0\\localcache\\local-packages\\python311\\site-packages (from ultralytics) (4.67.1)\n",
      "Requirement already satisfied: psutil in c:\\users\\dell\\appdata\\local\\packages\\pythonsoftwarefoundation.python.3.11_qbz5n2kfra8p0\\localcache\\local-packages\\python311\\site-packages (from ultralytics) (7.0.0)\n",
      "Requirement already satisfied: py-cpuinfo in c:\\users\\dell\\appdata\\local\\packages\\pythonsoftwarefoundation.python.3.11_qbz5n2kfra8p0\\localcache\\local-packages\\python311\\site-packages (from ultralytics) (9.0.0)\n",
      "Requirement already satisfied: pandas>=1.1.4 in c:\\users\\dell\\appdata\\local\\packages\\pythonsoftwarefoundation.python.3.11_qbz5n2kfra8p0\\localcache\\local-packages\\python311\\site-packages (from ultralytics) (2.2.0)\n",
      "Requirement already satisfied: ultralytics-thop>=2.0.0 in c:\\users\\dell\\appdata\\local\\packages\\pythonsoftwarefoundation.python.3.11_qbz5n2kfra8p0\\localcache\\local-packages\\python311\\site-packages (from ultralytics) (2.0.14)\n",
      "Requirement already satisfied: contourpy>=1.0.1 in c:\\users\\dell\\appdata\\local\\packages\\pythonsoftwarefoundation.python.3.11_qbz5n2kfra8p0\\localcache\\local-packages\\python311\\site-packages (from matplotlib>=3.3.0->ultralytics) (1.3.2)\n",
      "Requirement already satisfied: cycler>=0.10 in c:\\users\\dell\\appdata\\local\\packages\\pythonsoftwarefoundation.python.3.11_qbz5n2kfra8p0\\localcache\\local-packages\\python311\\site-packages (from matplotlib>=3.3.0->ultralytics) (0.12.1)\n",
      "Requirement already satisfied: fonttools>=4.22.0 in c:\\users\\dell\\appdata\\local\\packages\\pythonsoftwarefoundation.python.3.11_qbz5n2kfra8p0\\localcache\\local-packages\\python311\\site-packages (from matplotlib>=3.3.0->ultralytics) (4.58.0)\n",
      "Requirement already satisfied: kiwisolver>=1.3.1 in c:\\users\\dell\\appdata\\local\\packages\\pythonsoftwarefoundation.python.3.11_qbz5n2kfra8p0\\localcache\\local-packages\\python311\\site-packages (from matplotlib>=3.3.0->ultralytics) (1.4.8)\n",
      "Requirement already satisfied: packaging>=20.0 in c:\\users\\dell\\appdata\\local\\packages\\pythonsoftwarefoundation.python.3.11_qbz5n2kfra8p0\\localcache\\local-packages\\python311\\site-packages (from matplotlib>=3.3.0->ultralytics) (25.0)\n",
      "Requirement already satisfied: pyparsing>=2.3.1 in c:\\users\\dell\\appdata\\local\\packages\\pythonsoftwarefoundation.python.3.11_qbz5n2kfra8p0\\localcache\\local-packages\\python311\\site-packages (from matplotlib>=3.3.0->ultralytics) (3.2.3)\n",
      "Requirement already satisfied: python-dateutil>=2.7 in c:\\users\\dell\\appdata\\local\\packages\\pythonsoftwarefoundation.python.3.11_qbz5n2kfra8p0\\localcache\\local-packages\\python311\\site-packages (from matplotlib>=3.3.0->ultralytics) (2.9.0.post0)\n",
      "Requirement already satisfied: pytz>=2020.1 in c:\\users\\dell\\appdata\\local\\packages\\pythonsoftwarefoundation.python.3.11_qbz5n2kfra8p0\\localcache\\local-packages\\python311\\site-packages (from pandas>=1.1.4->ultralytics) (2025.2)\n",
      "Requirement already satisfied: tzdata>=2022.7 in c:\\users\\dell\\appdata\\local\\packages\\pythonsoftwarefoundation.python.3.11_qbz5n2kfra8p0\\localcache\\local-packages\\python311\\site-packages (from pandas>=1.1.4->ultralytics) (2025.2)\n",
      "Requirement already satisfied: charset-normalizer<4,>=2 in c:\\users\\dell\\appdata\\local\\packages\\pythonsoftwarefoundation.python.3.11_qbz5n2kfra8p0\\localcache\\local-packages\\python311\\site-packages (from requests>=2.23.0->ultralytics) (3.4.2)\n",
      "Requirement already satisfied: idna<4,>=2.5 in c:\\users\\dell\\appdata\\local\\packages\\pythonsoftwarefoundation.python.3.11_qbz5n2kfra8p0\\localcache\\local-packages\\python311\\site-packages (from requests>=2.23.0->ultralytics) (3.10)\n",
      "Requirement already satisfied: urllib3<3,>=1.21.1 in c:\\users\\dell\\appdata\\local\\packages\\pythonsoftwarefoundation.python.3.11_qbz5n2kfra8p0\\localcache\\local-packages\\python311\\site-packages (from requests>=2.23.0->ultralytics) (2.4.0)\n",
      "Requirement already satisfied: certifi>=2017.4.17 in c:\\users\\dell\\appdata\\local\\packages\\pythonsoftwarefoundation.python.3.11_qbz5n2kfra8p0\\localcache\\local-packages\\python311\\site-packages (from requests>=2.23.0->ultralytics) (2025.4.26)\n",
      "Requirement already satisfied: filelock in c:\\users\\dell\\appdata\\local\\packages\\pythonsoftwarefoundation.python.3.11_qbz5n2kfra8p0\\localcache\\local-packages\\python311\\site-packages (from torch>=1.8.0->ultralytics) (3.18.0)\n",
      "Requirement already satisfied: typing-extensions>=4.10.0 in c:\\users\\dell\\appdata\\local\\packages\\pythonsoftwarefoundation.python.3.11_qbz5n2kfra8p0\\localcache\\local-packages\\python311\\site-packages (from torch>=1.8.0->ultralytics) (4.13.2)\n",
      "Requirement already satisfied: sympy>=1.13.3 in c:\\users\\dell\\appdata\\local\\packages\\pythonsoftwarefoundation.python.3.11_qbz5n2kfra8p0\\localcache\\local-packages\\python311\\site-packages (from torch>=1.8.0->ultralytics) (1.14.0)\n",
      "Requirement already satisfied: networkx in c:\\users\\dell\\appdata\\local\\packages\\pythonsoftwarefoundation.python.3.11_qbz5n2kfra8p0\\localcache\\local-packages\\python311\\site-packages (from torch>=1.8.0->ultralytics) (3.4.2)\n",
      "Requirement already satisfied: jinja2 in c:\\users\\dell\\appdata\\local\\packages\\pythonsoftwarefoundation.python.3.11_qbz5n2kfra8p0\\localcache\\local-packages\\python311\\site-packages (from torch>=1.8.0->ultralytics) (3.1.6)\n",
      "Requirement already satisfied: fsspec in c:\\users\\dell\\appdata\\local\\packages\\pythonsoftwarefoundation.python.3.11_qbz5n2kfra8p0\\localcache\\local-packages\\python311\\site-packages (from torch>=1.8.0->ultralytics) (2025.3.2)\n",
      "Requirement already satisfied: colorama in c:\\users\\dell\\appdata\\local\\packages\\pythonsoftwarefoundation.python.3.11_qbz5n2kfra8p0\\localcache\\local-packages\\python311\\site-packages (from tqdm>=4.64.0->ultralytics) (0.4.6)\n",
      "Requirement already satisfied: six>=1.5 in c:\\users\\dell\\appdata\\local\\packages\\pythonsoftwarefoundation.python.3.11_qbz5n2kfra8p0\\localcache\\local-packages\\python311\\site-packages (from python-dateutil>=2.7->matplotlib>=3.3.0->ultralytics) (1.17.0)\n",
      "Requirement already satisfied: mpmath<1.4,>=1.1.0 in c:\\users\\dell\\appdata\\local\\packages\\pythonsoftwarefoundation.python.3.11_qbz5n2kfra8p0\\localcache\\local-packages\\python311\\site-packages (from sympy>=1.13.3->torch>=1.8.0->ultralytics) (1.3.0)\n",
      "Requirement already satisfied: MarkupSafe>=2.0 in c:\\users\\dell\\appdata\\local\\packages\\pythonsoftwarefoundation.python.3.11_qbz5n2kfra8p0\\localcache\\local-packages\\python311\\site-packages (from jinja2->torch>=1.8.0->ultralytics) (3.0.2)\n"
     ]
    },
    {
     "name": "stderr",
     "output_type": "stream",
     "text": [
      "\n",
      "[notice] A new release of pip is available: 24.3.1 -> 25.1.1\n",
      "[notice] To update, run: C:\\Users\\DELL\\AppData\\Local\\Microsoft\\WindowsApps\\PythonSoftwareFoundation.Python.3.11_qbz5n2kfra8p0\\python.exe -m pip install --upgrade pip\n"
     ]
    }
   ],
   "source": [
    "!pip install ultralytics"
   ]
  },
  {
   "cell_type": "code",
   "execution_count": 6,
   "metadata": {
    "execution": {
     "iopub.execute_input": "2025-05-22T05:35:57.167594Z",
     "iopub.status.busy": "2025-05-22T05:35:57.167274Z",
     "iopub.status.idle": "2025-05-22T14:31:48.752994Z",
     "shell.execute_reply": "2025-05-22T14:31:48.751983Z",
     "shell.execute_reply.started": "2025-05-22T05:35:57.167574Z"
    },
    "trusted": true
   },
   "outputs": [
    {
     "name": "stdout",
     "output_type": "stream",
     "text": [
      "Ultralytics 8.3.141 🚀 Python-3.11.11 torch-2.6.0+cu124 CUDA:0 (Tesla P100-PCIE-16GB, 16269MiB)\n",
      "\u001b[34m\u001b[1mengine/trainer: \u001b[0magnostic_nms=False, amp=True, augment=False, auto_augment=randaugment, batch=16, bgr=0.0, box=7.5, cache=False, cfg=None, classes=None, close_mosaic=10, cls=0.5, conf=None, copy_paste=0.0, copy_paste_mode=flip, cos_lr=False, cutmix=0.0, data=hand-keypoints.yaml, degrees=0.0, deterministic=True, device=None, dfl=1.5, dnn=False, dropout=0.0, dynamic=False, embed=None, epochs=100, erasing=0.4, exist_ok=False, fliplr=0.5, flipud=0.0, format=torchscript, fraction=1.0, freeze=None, half=False, hsv_h=0.015, hsv_s=0.7, hsv_v=0.4, imgsz=640, int8=False, iou=0.7, keras=False, kobj=1.0, line_width=None, lr0=0.01, lrf=0.01, mask_ratio=4, max_det=300, mixup=0.0, mode=train, model=yolo11n-pose.pt, momentum=0.937, mosaic=1.0, multi_scale=False, name=train3, nbs=64, nms=False, opset=None, optimize=False, optimizer=auto, overlap_mask=True, patience=100, perspective=0.0, plots=True, pose=12.0, pretrained=True, profile=False, project=None, rect=False, resume=False, retina_masks=False, save=True, save_conf=False, save_crop=False, save_dir=runs/pose/train3, save_frames=False, save_json=False, save_period=-1, save_txt=False, scale=0.5, seed=0, shear=0.0, show=False, show_boxes=True, show_conf=True, show_labels=True, simplify=True, single_cls=False, source=None, split=val, stream_buffer=False, task=pose, time=None, tracker=botsort.yaml, translate=0.1, val=True, verbose=True, vid_stride=1, visualize=False, warmup_bias_lr=0.1, warmup_epochs=3.0, warmup_momentum=0.8, weight_decay=0.0005, workers=8, workspace=None\n",
      "\n",
      "WARNING ⚠️ Dataset 'hand-keypoints.yaml' images not found, missing path '/kaggle/working/datasets/hand-keypoints/val'\n",
      "Downloading https://ultralytics.com/assets/hand-keypoints.zip to '/kaggle/working/datasets/hand-keypoints.zip'...\n"
     ]
    },
    {
     "name": "stderr",
     "output_type": "stream",
     "text": [
      "100%|██████████| 369M/369M [00:04<00:00, 89.3MB/s] \n",
      "Unzipping /kaggle/working/datasets/hand-keypoints.zip to /kaggle/working/datasets/hand-keypoints...: 100%|██████████| 53544/53544 [00:08<00:00, 6666.13file/s]\n"
     ]
    },
    {
     "name": "stdout",
     "output_type": "stream",
     "text": [
      "Dataset download success ✅ (13.9s), saved to \u001b[1m/kaggle/working/datasets\u001b[0m\n",
      "\n",
      "Downloading https://ultralytics.com/assets/Arial.ttf to '/root/.config/Ultralytics/Arial.ttf'...\n"
     ]
    },
    {
     "name": "stderr",
     "output_type": "stream",
     "text": [
      "100%|██████████| 755k/755k [00:00<00:00, 41.8MB/s]\n"
     ]
    },
    {
     "name": "stdout",
     "output_type": "stream",
     "text": [
      "Overriding model.yaml kpt_shape=[17, 3] with kpt_shape=[21, 3]\n",
      "Overriding model.yaml nc=80 with nc=1\n",
      "\n",
      "                   from  n    params  module                                       arguments                     \n",
      "  0                  -1  1       464  ultralytics.nn.modules.conv.Conv             [3, 16, 3, 2]                 \n",
      "  1                  -1  1      4672  ultralytics.nn.modules.conv.Conv             [16, 32, 3, 2]                \n",
      "  2                  -1  1      6640  ultralytics.nn.modules.block.C3k2            [32, 64, 1, False, 0.25]      \n",
      "  3                  -1  1     36992  ultralytics.nn.modules.conv.Conv             [64, 64, 3, 2]                \n",
      "  4                  -1  1     26080  ultralytics.nn.modules.block.C3k2            [64, 128, 1, False, 0.25]     \n",
      "  5                  -1  1    147712  ultralytics.nn.modules.conv.Conv             [128, 128, 3, 2]              \n",
      "  6                  -1  1     87040  ultralytics.nn.modules.block.C3k2            [128, 128, 1, True]           \n",
      "  7                  -1  1    295424  ultralytics.nn.modules.conv.Conv             [128, 256, 3, 2]              \n",
      "  8                  -1  1    346112  ultralytics.nn.modules.block.C3k2            [256, 256, 1, True]           \n",
      "  9                  -1  1    164608  ultralytics.nn.modules.block.SPPF            [256, 256, 5]                 \n",
      " 10                  -1  1    249728  ultralytics.nn.modules.block.C2PSA           [256, 256, 1]                 \n",
      " 11                  -1  1         0  torch.nn.modules.upsampling.Upsample         [None, 2, 'nearest']          \n",
      " 12             [-1, 6]  1         0  ultralytics.nn.modules.conv.Concat           [1]                           \n",
      " 13                  -1  1    111296  ultralytics.nn.modules.block.C3k2            [384, 128, 1, False]          \n",
      " 14                  -1  1         0  torch.nn.modules.upsampling.Upsample         [None, 2, 'nearest']          \n",
      " 15             [-1, 4]  1         0  ultralytics.nn.modules.conv.Concat           [1]                           \n",
      " 16                  -1  1     32096  ultralytics.nn.modules.block.C3k2            [256, 64, 1, False]           \n",
      " 17                  -1  1     36992  ultralytics.nn.modules.conv.Conv             [64, 64, 3, 2]                \n",
      " 18            [-1, 13]  1         0  ultralytics.nn.modules.conv.Concat           [1]                           \n",
      " 19                  -1  1     86720  ultralytics.nn.modules.block.C3k2            [192, 128, 1, False]          \n",
      " 20                  -1  1    147712  ultralytics.nn.modules.conv.Conv             [128, 128, 3, 2]              \n",
      " 21            [-1, 10]  1         0  ultralytics.nn.modules.conv.Concat           [1]                           \n",
      " 22                  -1  1    378880  ultralytics.nn.modules.block.C3k2            [384, 256, 1, True]           \n",
      " 23        [16, 19, 22]  1    804898  ultralytics.nn.modules.head.Pose             [1, [21, 3], [64, 128, 256]]  \n",
      "YOLO11n-pose summary: 196 layers, 2,964,066 parameters, 2,964,050 gradients, 7.9 GFLOPs\n",
      "\n",
      "Transferred 505/541 items from pretrained weights\n",
      "Freezing layer 'model.23.dfl.conv.weight'\n",
      "\u001b[34m\u001b[1mAMP: \u001b[0mrunning Automatic Mixed Precision (AMP) checks...\n",
      "Downloading https://github.com/ultralytics/assets/releases/download/v8.3.0/yolo11n.pt to 'yolo11n.pt'...\n"
     ]
    },
    {
     "name": "stderr",
     "output_type": "stream",
     "text": [
      "100%|██████████| 5.35M/5.35M [00:00<00:00, 170MB/s]\n"
     ]
    },
    {
     "name": "stdout",
     "output_type": "stream",
     "text": [
      "\u001b[34m\u001b[1mAMP: \u001b[0mchecks passed ✅\n",
      "\u001b[34m\u001b[1mtrain: \u001b[0mFast image access ✅ (ping: 0.0±0.0 ms, read: 443.0±238.1 MB/s, size: 12.5 KB)\n"
     ]
    },
    {
     "name": "stderr",
     "output_type": "stream",
     "text": [
      "\u001b[34m\u001b[1mtrain: \u001b[0mScanning /kaggle/working/datasets/hand-keypoints/train/labels... 18776 images, 0 backgrounds, 491 corrupt: 100%|██████████| 18776/18776 [00:17<00:00, 1069.27it/s]"
     ]
    },
    {
     "name": "stdout",
     "output_type": "stream",
     "text": [
      "\u001b[34m\u001b[1mtrain: \u001b[0m/kaggle/working/datasets/hand-keypoints/train/images/IMG_00001070.jpg: ignoring corrupt image/label: non-normalized or out of bounds coordinates [     1.0379]\n",
      "\u001b[34m\u001b[1mtrain: \u001b[0m/kaggle/working/datasets/hand-keypoints/train/images/IMG_00001796.jpg: ignoring corrupt image/label: non-normalized or out of bounds coordinates [     1.0006]\n",
      "\u001b[34m\u001b[1mtrain: \u001b[0m/kaggle/working/datasets/hand-keypoints/train/images/IMG_00001800.jpg: ignoring corrupt image/label: non-normalized or out of bounds coordinates [     1.0027]\n",
      "\u001b[34m\u001b[1mtrain: \u001b[0m/kaggle/working/datasets/hand-keypoints/train/images/IMG_00001801.jpg: ignoring corrupt image/label: non-normalized or out of bounds coordinates [     1.0049]\n",
      "\u001b[34m\u001b[1mtrain: \u001b[0m/kaggle/working/datasets/hand-keypoints/train/images/IMG_00001886.jpg: ignoring corrupt image/label: non-normalized or out of bounds coordinates [     1.0051      1.0038      1.0088      1.0114]\n",
      "\u001b[34m\u001b[1mtrain: \u001b[0m/kaggle/working/datasets/hand-keypoints/train/images/IMG_00001887.jpg: ignoring corrupt image/label: non-normalized or out of bounds coordinates [     1.0048      1.0062      1.0099      1.0121]\n",
      "\u001b[34m\u001b[1mtrain: \u001b[0m/kaggle/working/datasets/hand-keypoints/train/images/IMG_00001888.jpg: ignoring corrupt image/label: non-normalized or out of bounds coordinates [          1      1.0017]\n",
      "\u001b[34m\u001b[1mtrain: \u001b[0m/kaggle/working/datasets/hand-keypoints/train/images/IMG_00001994.jpg: ignoring corrupt image/label: non-normalized or out of bounds coordinates [     1.0059]\n",
      "\u001b[34m\u001b[1mtrain: \u001b[0m/kaggle/working/datasets/hand-keypoints/train/images/IMG_00001998.jpg: ignoring corrupt image/label: non-normalized or out of bounds coordinates [     1.0044]\n",
      "\u001b[34m\u001b[1mtrain: \u001b[0m/kaggle/working/datasets/hand-keypoints/train/images/IMG_00001999.jpg: ignoring corrupt image/label: non-normalized or out of bounds coordinates [      1.007]\n",
      "\u001b[34m\u001b[1mtrain: \u001b[0m/kaggle/working/datasets/hand-keypoints/train/images/IMG_00002000.jpg: ignoring corrupt image/label: non-normalized or out of bounds coordinates [     1.0083]\n",
      "\u001b[34m\u001b[1mtrain: \u001b[0m/kaggle/working/datasets/hand-keypoints/train/images/IMG_00002001.jpg: ignoring corrupt image/label: non-normalized or out of bounds coordinates [     1.0146]\n",
      "\u001b[34m\u001b[1mtrain: \u001b[0m/kaggle/working/datasets/hand-keypoints/train/images/IMG_00002002.jpg: ignoring corrupt image/label: non-normalized or out of bounds coordinates [     1.0178]\n",
      "\u001b[34m\u001b[1mtrain: \u001b[0m/kaggle/working/datasets/hand-keypoints/train/images/IMG_00002003.jpg: ignoring corrupt image/label: non-normalized or out of bounds coordinates [     1.0178]\n",
      "\u001b[34m\u001b[1mtrain: \u001b[0m/kaggle/working/datasets/hand-keypoints/train/images/IMG_00002143.jpg: ignoring corrupt image/label: non-normalized or out of bounds coordinates [     1.0582      1.0216]\n",
      "\u001b[34m\u001b[1mtrain: \u001b[0m/kaggle/working/datasets/hand-keypoints/train/images/IMG_00002144.jpg: ignoring corrupt image/label: non-normalized or out of bounds coordinates [     1.0641      1.0333]\n",
      "\u001b[34m\u001b[1mtrain: \u001b[0m/kaggle/working/datasets/hand-keypoints/train/images/IMG_00002202.jpg: ignoring corrupt image/label: non-normalized or out of bounds coordinates [     1.0041      1.0052       1.008      1.0093      1.0108      1.0112      1.0116]\n",
      "\u001b[34m\u001b[1mtrain: \u001b[0m/kaggle/working/datasets/hand-keypoints/train/images/IMG_00002451.jpg: ignoring corrupt image/label: non-normalized or out of bounds coordinates [     1.0121]\n",
      "\u001b[34m\u001b[1mtrain: \u001b[0m/kaggle/working/datasets/hand-keypoints/train/images/IMG_00002454.jpg: ignoring corrupt image/label: non-normalized or out of bounds coordinates [      1.023      1.0012]\n",
      "\u001b[34m\u001b[1mtrain: \u001b[0m/kaggle/working/datasets/hand-keypoints/train/images/IMG_00002545.jpg: ignoring corrupt image/label: non-normalized or out of bounds coordinates [     1.0051]\n",
      "\u001b[34m\u001b[1mtrain: \u001b[0m/kaggle/working/datasets/hand-keypoints/train/images/IMG_00002744.jpg: ignoring corrupt image/label: non-normalized or out of bounds coordinates [     1.0159]\n",
      "\u001b[34m\u001b[1mtrain: \u001b[0m/kaggle/working/datasets/hand-keypoints/train/images/IMG_00002745.jpg: ignoring corrupt image/label: non-normalized or out of bounds coordinates [     1.0334]\n",
      "\u001b[34m\u001b[1mtrain: \u001b[0m/kaggle/working/datasets/hand-keypoints/train/images/IMG_00002746.jpg: ignoring corrupt image/label: non-normalized or out of bounds coordinates [     1.0399]\n",
      "\u001b[34m\u001b[1mtrain: \u001b[0m/kaggle/working/datasets/hand-keypoints/train/images/IMG_00002747.jpg: ignoring corrupt image/label: non-normalized or out of bounds coordinates [     1.0453      1.0009]\n",
      "\u001b[34m\u001b[1mtrain: \u001b[0m/kaggle/working/datasets/hand-keypoints/train/images/IMG_00002749.jpg: ignoring corrupt image/label: non-normalized or out of bounds coordinates [     1.0701       1.011]\n",
      "\u001b[34m\u001b[1mtrain: \u001b[0m/kaggle/working/datasets/hand-keypoints/train/images/IMG_00002751.jpg: ignoring corrupt image/label: non-normalized or out of bounds coordinates [     1.0658      1.0113]\n",
      "\u001b[34m\u001b[1mtrain: \u001b[0m/kaggle/working/datasets/hand-keypoints/train/images/IMG_00002752.jpg: ignoring corrupt image/label: non-normalized or out of bounds coordinates [     1.0505]\n",
      "\u001b[34m\u001b[1mtrain: \u001b[0m/kaggle/working/datasets/hand-keypoints/train/images/IMG_00002754.jpg: ignoring corrupt image/label: non-normalized or out of bounds coordinates [     1.0313]\n",
      "\u001b[34m\u001b[1mtrain: \u001b[0m/kaggle/working/datasets/hand-keypoints/train/images/IMG_00002760.jpg: ignoring corrupt image/label: non-normalized or out of bounds coordinates [     1.0266]\n",
      "\u001b[34m\u001b[1mtrain: \u001b[0m/kaggle/working/datasets/hand-keypoints/train/images/IMG_00002761.jpg: ignoring corrupt image/label: non-normalized or out of bounds coordinates [     1.0449]\n",
      "\u001b[34m\u001b[1mtrain: \u001b[0m/kaggle/working/datasets/hand-keypoints/train/images/IMG_00002991.jpg: ignoring corrupt image/label: non-normalized or out of bounds coordinates [     1.0021      1.0099]\n",
      "\u001b[34m\u001b[1mtrain: \u001b[0m/kaggle/working/datasets/hand-keypoints/train/images/IMG_00002996.jpg: ignoring corrupt image/label: non-normalized or out of bounds coordinates [      1.007]\n",
      "\u001b[34m\u001b[1mtrain: \u001b[0m/kaggle/working/datasets/hand-keypoints/train/images/IMG_00003001.jpg: ignoring corrupt image/label: non-normalized or out of bounds coordinates [     1.0211      1.0371      1.0143      1.0292      1.0036      1.0175      1.0073]\n",
      "\u001b[34m\u001b[1mtrain: \u001b[0m/kaggle/working/datasets/hand-keypoints/train/images/IMG_00003109.jpg: ignoring corrupt image/label: non-normalized or out of bounds coordinates [     1.0766      1.0215]\n",
      "\u001b[34m\u001b[1mtrain: \u001b[0m/kaggle/working/datasets/hand-keypoints/train/images/IMG_00003111.jpg: ignoring corrupt image/label: non-normalized or out of bounds coordinates [     1.0615      1.0047]\n",
      "\u001b[34m\u001b[1mtrain: \u001b[0m/kaggle/working/datasets/hand-keypoints/train/images/IMG_00003114.jpg: ignoring corrupt image/label: non-normalized or out of bounds coordinates [     1.0173]\n",
      "\u001b[34m\u001b[1mtrain: \u001b[0m/kaggle/working/datasets/hand-keypoints/train/images/IMG_00003162.jpg: ignoring corrupt image/label: non-normalized or out of bounds coordinates [     1.0111      1.0368]\n",
      "\u001b[34m\u001b[1mtrain: \u001b[0m/kaggle/working/datasets/hand-keypoints/train/images/IMG_00003164.jpg: ignoring corrupt image/label: non-normalized or out of bounds coordinates [     1.0071      1.0047      1.0238      1.0125      1.0397        1.01      1.0396      1.0152]\n",
      "\u001b[34m\u001b[1mtrain: \u001b[0m/kaggle/working/datasets/hand-keypoints/train/images/IMG_00003372.jpg: ignoring corrupt image/label: non-normalized or out of bounds coordinates [      1.003      1.0101]\n",
      "\u001b[34m\u001b[1mtrain: \u001b[0m/kaggle/working/datasets/hand-keypoints/train/images/IMG_00003385.jpg: ignoring corrupt image/label: non-normalized or out of bounds coordinates [     1.0125       1.027      1.0279      1.0451      1.0597]\n",
      "\u001b[34m\u001b[1mtrain: \u001b[0m/kaggle/working/datasets/hand-keypoints/train/images/IMG_00003387.jpg: ignoring corrupt image/label: non-normalized or out of bounds coordinates [     1.0005      1.0227      1.0413      1.0243      1.0437      1.0603]\n",
      "\u001b[34m\u001b[1mtrain: \u001b[0m/kaggle/working/datasets/hand-keypoints/train/images/IMG_00003388.jpg: ignoring corrupt image/label: non-normalized or out of bounds coordinates [     1.0187      1.0366      1.0213       1.039      1.0546]\n",
      "\u001b[34m\u001b[1mtrain: \u001b[0m/kaggle/working/datasets/hand-keypoints/train/images/IMG_00003390.jpg: ignoring corrupt image/label: non-normalized or out of bounds coordinates [     1.0208      1.0405      1.0225      1.0423      1.0603]\n",
      "\u001b[34m\u001b[1mtrain: \u001b[0m/kaggle/working/datasets/hand-keypoints/train/images/IMG_00003391.jpg: ignoring corrupt image/label: non-normalized or out of bounds coordinates [     1.0067      1.0217       1.012      1.0306      1.0467]\n",
      "\u001b[34m\u001b[1mtrain: \u001b[0m/kaggle/working/datasets/hand-keypoints/train/images/IMG_00003392.jpg: ignoring corrupt image/label: non-normalized or out of bounds coordinates [      1.016      1.0059      1.0274      1.0465]\n",
      "\u001b[34m\u001b[1mtrain: \u001b[0m/kaggle/working/datasets/hand-keypoints/train/images/IMG_00003393.jpg: ignoring corrupt image/label: non-normalized or out of bounds coordinates [      1.006      1.0067      1.0219]\n",
      "\u001b[34m\u001b[1mtrain: \u001b[0m/kaggle/working/datasets/hand-keypoints/train/images/IMG_00003434.jpg: ignoring corrupt image/label: non-normalized or out of bounds coordinates [     1.0763      1.0129]\n",
      "\u001b[34m\u001b[1mtrain: \u001b[0m/kaggle/working/datasets/hand-keypoints/train/images/IMG_00003438.jpg: ignoring corrupt image/label: non-normalized or out of bounds coordinates [     1.0473]\n",
      "\u001b[34m\u001b[1mtrain: \u001b[0m/kaggle/working/datasets/hand-keypoints/train/images/IMG_00003439.jpg: ignoring corrupt image/label: non-normalized or out of bounds coordinates [     1.0106]\n",
      "\u001b[34m\u001b[1mtrain: \u001b[0m/kaggle/working/datasets/hand-keypoints/train/images/IMG_00003440.jpg: ignoring corrupt image/label: non-normalized or out of bounds coordinates [     1.0347]\n",
      "\u001b[34m\u001b[1mtrain: \u001b[0m/kaggle/working/datasets/hand-keypoints/train/images/IMG_00003442.jpg: ignoring corrupt image/label: non-normalized or out of bounds coordinates [      1.018]\n",
      "\u001b[34m\u001b[1mtrain: \u001b[0m/kaggle/working/datasets/hand-keypoints/train/images/IMG_00003444.jpg: ignoring corrupt image/label: non-normalized or out of bounds coordinates [     1.0436      1.0107]\n",
      "\u001b[34m\u001b[1mtrain: \u001b[0m/kaggle/working/datasets/hand-keypoints/train/images/IMG_00003491.jpg: ignoring corrupt image/label: non-normalized or out of bounds coordinates [     1.0061]\n",
      "\u001b[34m\u001b[1mtrain: \u001b[0m/kaggle/working/datasets/hand-keypoints/train/images/IMG_00003492.jpg: ignoring corrupt image/label: non-normalized or out of bounds coordinates [      1.005]\n",
      "\u001b[34m\u001b[1mtrain: \u001b[0m/kaggle/working/datasets/hand-keypoints/train/images/IMG_00003592.jpg: ignoring corrupt image/label: non-normalized or out of bounds coordinates [     1.0092      1.0162]\n",
      "\u001b[34m\u001b[1mtrain: \u001b[0m/kaggle/working/datasets/hand-keypoints/train/images/IMG_00003593.jpg: ignoring corrupt image/label: non-normalized or out of bounds coordinates [     1.0013      1.0155      1.0172      1.0174]\n",
      "\u001b[34m\u001b[1mtrain: \u001b[0m/kaggle/working/datasets/hand-keypoints/train/images/IMG_00003653.jpg: ignoring corrupt image/label: non-normalized or out of bounds coordinates [      1.016]\n",
      "\u001b[34m\u001b[1mtrain: \u001b[0m/kaggle/working/datasets/hand-keypoints/train/images/IMG_00003654.jpg: ignoring corrupt image/label: non-normalized or out of bounds coordinates [     1.0179]\n",
      "\u001b[34m\u001b[1mtrain: \u001b[0m/kaggle/working/datasets/hand-keypoints/train/images/IMG_00003737.jpg: ignoring corrupt image/label: non-normalized or out of bounds coordinates [     1.0062      1.0065]\n",
      "\u001b[34m\u001b[1mtrain: \u001b[0m/kaggle/working/datasets/hand-keypoints/train/images/IMG_00003738.jpg: ignoring corrupt image/label: non-normalized or out of bounds coordinates [     1.0084      1.0016      1.0135      1.0192      1.0068]\n",
      "\u001b[34m\u001b[1mtrain: \u001b[0m/kaggle/working/datasets/hand-keypoints/train/images/IMG_00003739.jpg: ignoring corrupt image/label: non-normalized or out of bounds coordinates [     1.0047      1.0169      1.0028      1.0193      1.0201      1.0166]\n",
      "\u001b[34m\u001b[1mtrain: \u001b[0m/kaggle/working/datasets/hand-keypoints/train/images/IMG_00003852.jpg: ignoring corrupt image/label: non-normalized or out of bounds coordinates [     1.0196      1.0118      1.0018      1.0866      1.1344      1.1761]\n",
      "\u001b[34m\u001b[1mtrain: \u001b[0m/kaggle/working/datasets/hand-keypoints/train/images/IMG_00003853.jpg: ignoring corrupt image/label: non-normalized or out of bounds coordinates [       1.05      1.0787      1.0921      1.0357      1.1215       1.152      1.1742]\n",
      "\u001b[34m\u001b[1mtrain: \u001b[0m/kaggle/working/datasets/hand-keypoints/train/images/IMG_00003854.jpg: ignoring corrupt image/label: non-normalized or out of bounds coordinates [     1.0046      1.0566      1.0449      1.1035      1.1434      1.0066       1.097      1.1416      1.1766]\n",
      "\u001b[34m\u001b[1mtrain: \u001b[0m/kaggle/working/datasets/hand-keypoints/train/images/IMG_00003855.jpg: ignoring corrupt image/label: non-normalized or out of bounds coordinates [     1.0037      1.0406      1.0541      1.1034      1.1365      1.0208      1.1089      1.1459      1.1759]\n",
      "\u001b[34m\u001b[1mtrain: \u001b[0m/kaggle/working/datasets/hand-keypoints/train/images/IMG_00003856.jpg: ignoring corrupt image/label: non-normalized or out of bounds coordinates [     1.0458      1.0713      1.0808      1.0332      1.1149      1.1384      1.1528]\n",
      "\u001b[34m\u001b[1mtrain: \u001b[0m/kaggle/working/datasets/hand-keypoints/train/images/IMG_00003857.jpg: ignoring corrupt image/label: non-normalized or out of bounds coordinates [      1.037      1.0274      1.0098      1.0259      1.1112      1.1186      1.1206]\n",
      "\u001b[34m\u001b[1mtrain: \u001b[0m/kaggle/working/datasets/hand-keypoints/train/images/IMG_00003859.jpg: ignoring corrupt image/label: non-normalized or out of bounds coordinates [     1.0213        1.02      1.0135      1.0007      1.0944      1.1252      1.1529]\n",
      "\u001b[34m\u001b[1mtrain: \u001b[0m/kaggle/working/datasets/hand-keypoints/train/images/IMG_00003861.jpg: ignoring corrupt image/label: non-normalized or out of bounds coordinates [     1.0086      1.0008      1.0833      1.1328      1.1802]\n",
      "\u001b[34m\u001b[1mtrain: \u001b[0m/kaggle/working/datasets/hand-keypoints/train/images/IMG_00003862.jpg: ignoring corrupt image/label: non-normalized or out of bounds coordinates [     1.0045      1.0807      1.1331      1.1824]\n",
      "\u001b[34m\u001b[1mtrain: \u001b[0m/kaggle/working/datasets/hand-keypoints/train/images/IMG_00003863.jpg: ignoring corrupt image/label: non-normalized or out of bounds coordinates [     1.0736      1.1287      1.1798]\n",
      "\u001b[34m\u001b[1mtrain: \u001b[0m/kaggle/working/datasets/hand-keypoints/train/images/IMG_00003864.jpg: ignoring corrupt image/label: non-normalized or out of bounds coordinates [     1.0684      1.1227      1.1738]\n",
      "\u001b[34m\u001b[1mtrain: \u001b[0m/kaggle/working/datasets/hand-keypoints/train/images/IMG_00003923.jpg: ignoring corrupt image/label: non-normalized or out of bounds coordinates [     1.0157]\n",
      "\u001b[34m\u001b[1mtrain: \u001b[0m/kaggle/working/datasets/hand-keypoints/train/images/IMG_00003924.jpg: ignoring corrupt image/label: non-normalized or out of bounds coordinates [     1.0004]\n",
      "\u001b[34m\u001b[1mtrain: \u001b[0m/kaggle/working/datasets/hand-keypoints/train/images/IMG_00004041.jpg: ignoring corrupt image/label: non-normalized or out of bounds coordinates [     1.0111]\n",
      "\u001b[34m\u001b[1mtrain: \u001b[0m/kaggle/working/datasets/hand-keypoints/train/images/IMG_00004042.jpg: ignoring corrupt image/label: non-normalized or out of bounds coordinates [     1.0108]\n",
      "\u001b[34m\u001b[1mtrain: \u001b[0m/kaggle/working/datasets/hand-keypoints/train/images/IMG_00004044.jpg: ignoring corrupt image/label: non-normalized or out of bounds coordinates [     1.0042]\n",
      "\u001b[34m\u001b[1mtrain: \u001b[0m/kaggle/working/datasets/hand-keypoints/train/images/IMG_00004103.jpg: ignoring corrupt image/label: non-normalized or out of bounds coordinates [     1.0248]\n",
      "\u001b[34m\u001b[1mtrain: \u001b[0m/kaggle/working/datasets/hand-keypoints/train/images/IMG_00004104.jpg: ignoring corrupt image/label: non-normalized or out of bounds coordinates [     1.0378]\n",
      "\u001b[34m\u001b[1mtrain: \u001b[0m/kaggle/working/datasets/hand-keypoints/train/images/IMG_00004250.jpg: ignoring corrupt image/label: non-normalized or out of bounds coordinates [     1.0156]\n",
      "\u001b[34m\u001b[1mtrain: \u001b[0m/kaggle/working/datasets/hand-keypoints/train/images/IMG_00004251.jpg: ignoring corrupt image/label: non-normalized or out of bounds coordinates [     1.0798      1.0169]\n",
      "\u001b[34m\u001b[1mtrain: \u001b[0m/kaggle/working/datasets/hand-keypoints/train/images/IMG_00004253.jpg: ignoring corrupt image/label: non-normalized or out of bounds coordinates [     1.0711      1.0432      1.0118]\n",
      "\u001b[34m\u001b[1mtrain: \u001b[0m/kaggle/working/datasets/hand-keypoints/train/images/IMG_00004367.jpg: ignoring corrupt image/label: non-normalized or out of bounds coordinates [     1.0024      1.0112      1.0186]\n",
      "\u001b[34m\u001b[1mtrain: \u001b[0m/kaggle/working/datasets/hand-keypoints/train/images/IMG_00004427.jpg: ignoring corrupt image/label: non-normalized or out of bounds coordinates [     1.0477]\n",
      "\u001b[34m\u001b[1mtrain: \u001b[0m/kaggle/working/datasets/hand-keypoints/train/images/IMG_00004429.jpg: ignoring corrupt image/label: non-normalized or out of bounds coordinates [     1.1353      1.0797]\n",
      "\u001b[34m\u001b[1mtrain: \u001b[0m/kaggle/working/datasets/hand-keypoints/train/images/IMG_00004488.jpg: ignoring corrupt image/label: non-normalized or out of bounds coordinates [     1.0097]\n",
      "\u001b[34m\u001b[1mtrain: \u001b[0m/kaggle/working/datasets/hand-keypoints/train/images/IMG_00004489.jpg: ignoring corrupt image/label: non-normalized or out of bounds coordinates [     1.0258]\n",
      "\u001b[34m\u001b[1mtrain: \u001b[0m/kaggle/working/datasets/hand-keypoints/train/images/IMG_00004573.jpg: ignoring corrupt image/label: non-normalized or out of bounds coordinates [     1.0139]\n",
      "\u001b[34m\u001b[1mtrain: \u001b[0m/kaggle/working/datasets/hand-keypoints/train/images/IMG_00004574.jpg: ignoring corrupt image/label: non-normalized or out of bounds coordinates [     1.0425      1.0094]\n",
      "\u001b[34m\u001b[1mtrain: \u001b[0m/kaggle/working/datasets/hand-keypoints/train/images/IMG_00004575.jpg: ignoring corrupt image/label: non-normalized or out of bounds coordinates [     1.0578      1.0285]\n",
      "\u001b[34m\u001b[1mtrain: \u001b[0m/kaggle/working/datasets/hand-keypoints/train/images/IMG_00004576.jpg: ignoring corrupt image/label: non-normalized or out of bounds coordinates [     1.0751      1.0412]\n",
      "\u001b[34m\u001b[1mtrain: \u001b[0m/kaggle/working/datasets/hand-keypoints/train/images/IMG_00004577.jpg: ignoring corrupt image/label: non-normalized or out of bounds coordinates [     1.0616      1.0401]\n",
      "\u001b[34m\u001b[1mtrain: \u001b[0m/kaggle/working/datasets/hand-keypoints/train/images/IMG_00004578.jpg: ignoring corrupt image/label: non-normalized or out of bounds coordinates [     1.0448      1.0286]\n",
      "\u001b[34m\u001b[1mtrain: \u001b[0m/kaggle/working/datasets/hand-keypoints/train/images/IMG_00004579.jpg: ignoring corrupt image/label: non-normalized or out of bounds coordinates [     1.0554      1.0387]\n",
      "\u001b[34m\u001b[1mtrain: \u001b[0m/kaggle/working/datasets/hand-keypoints/train/images/IMG_00004580.jpg: ignoring corrupt image/label: non-normalized or out of bounds coordinates [     1.0586      1.0493]\n",
      "\u001b[34m\u001b[1mtrain: \u001b[0m/kaggle/working/datasets/hand-keypoints/train/images/IMG_00004582.jpg: ignoring corrupt image/label: non-normalized or out of bounds coordinates [     1.0443      1.0387]\n",
      "\u001b[34m\u001b[1mtrain: \u001b[0m/kaggle/working/datasets/hand-keypoints/train/images/IMG_00004584.jpg: ignoring corrupt image/label: non-normalized or out of bounds coordinates [     1.0238      1.0153]\n",
      "\u001b[34m\u001b[1mtrain: \u001b[0m/kaggle/working/datasets/hand-keypoints/train/images/IMG_00004612.jpg: ignoring corrupt image/label: non-normalized or out of bounds coordinates [     1.0043      1.0358      1.0635      1.0244      1.0636      1.0873      1.0512      1.0845      1.1043      1.0299       1.074      1.0998      1.1154]\n",
      "\u001b[34m\u001b[1mtrain: \u001b[0m/kaggle/working/datasets/hand-keypoints/train/images/IMG_00004613.jpg: ignoring corrupt image/label: non-normalized or out of bounds coordinates [     1.0082      1.0013      1.0189      1.0272      1.0166      1.0422      1.0464      1.0348      1.0082      1.0573      1.0598      1.0499]\n",
      "\u001b[34m\u001b[1mtrain: \u001b[0m/kaggle/working/datasets/hand-keypoints/train/images/IMG_00004704.jpg: ignoring corrupt image/label: non-normalized or out of bounds coordinates [     1.0265]\n",
      "\u001b[34m\u001b[1mtrain: \u001b[0m/kaggle/working/datasets/hand-keypoints/train/images/IMG_00004934.jpg: ignoring corrupt image/label: non-normalized or out of bounds coordinates [     1.0033]\n",
      "\u001b[34m\u001b[1mtrain: \u001b[0m/kaggle/working/datasets/hand-keypoints/train/images/IMG_00005350.jpg: ignoring corrupt image/label: non-normalized or out of bounds coordinates [     1.0067      1.0204      1.0464      1.0125       1.051      1.0788      1.0337      1.0643      1.0892]\n",
      "\u001b[34m\u001b[1mtrain: \u001b[0m/kaggle/working/datasets/hand-keypoints/train/images/IMG_00005351.jpg: ignoring corrupt image/label: non-normalized or out of bounds coordinates [     1.0042      1.0251      1.0336      1.0223      1.0496      1.0583      1.0463      1.0081      1.0661      1.0757      1.0689]\n",
      "\u001b[34m\u001b[1mtrain: \u001b[0m/kaggle/working/datasets/hand-keypoints/train/images/IMG_00005353.jpg: ignoring corrupt image/label: non-normalized or out of bounds coordinates [     1.0366      1.0631      1.0243      1.0618      1.0868      1.0452      1.0799      1.1035      1.0544      1.0836       1.106]\n",
      "\u001b[34m\u001b[1mtrain: \u001b[0m/kaggle/working/datasets/hand-keypoints/train/images/IMG_00005355.jpg: ignoring corrupt image/label: non-normalized or out of bounds coordinates [     1.0007       1.006      1.0242      1.0139      1.0366]\n",
      "\u001b[34m\u001b[1mtrain: \u001b[0m/kaggle/working/datasets/hand-keypoints/train/images/IMG_00005390.jpg: ignoring corrupt image/label: non-normalized or out of bounds coordinates [     1.0293]\n",
      "\u001b[34m\u001b[1mtrain: \u001b[0m/kaggle/working/datasets/hand-keypoints/train/images/IMG_00005391.jpg: ignoring corrupt image/label: non-normalized or out of bounds coordinates [     1.0319]\n",
      "\u001b[34m\u001b[1mtrain: \u001b[0m/kaggle/working/datasets/hand-keypoints/train/images/IMG_00005394.jpg: ignoring corrupt image/label: non-normalized or out of bounds coordinates [     1.0893      1.0028]\n",
      "\u001b[34m\u001b[1mtrain: \u001b[0m/kaggle/working/datasets/hand-keypoints/train/images/IMG_00005628.jpg: ignoring corrupt image/label: non-normalized or out of bounds coordinates [     1.0205      1.0157      1.0363]\n",
      "\u001b[34m\u001b[1mtrain: \u001b[0m/kaggle/working/datasets/hand-keypoints/train/images/IMG_00005720.jpg: ignoring corrupt image/label: non-normalized or out of bounds coordinates [     1.0182        1.02      1.0388       1.016      1.0375       1.046      1.0294      1.0445      1.0495]\n",
      "\u001b[34m\u001b[1mtrain: \u001b[0m/kaggle/working/datasets/hand-keypoints/train/images/IMG_00005903.jpg: ignoring corrupt image/label: non-normalized or out of bounds coordinates [     1.0049      1.0068      1.0164      1.0244]\n",
      "\u001b[34m\u001b[1mtrain: \u001b[0m/kaggle/working/datasets/hand-keypoints/train/images/IMG_00005904.jpg: ignoring corrupt image/label: non-normalized or out of bounds coordinates [      1.004      1.0135      1.0113      1.0197      1.0274]\n",
      "\u001b[34m\u001b[1mtrain: \u001b[0m/kaggle/working/datasets/hand-keypoints/train/images/IMG_00006055.jpg: ignoring corrupt image/label: non-normalized or out of bounds coordinates [     1.0079      1.0118      1.0136]\n",
      "\u001b[34m\u001b[1mtrain: \u001b[0m/kaggle/working/datasets/hand-keypoints/train/images/IMG_00006120.jpg: ignoring corrupt image/label: non-normalized or out of bounds coordinates [     1.0024      1.0263      1.0203      1.0449      1.0105      1.0348      1.0573]\n",
      "\u001b[34m\u001b[1mtrain: \u001b[0m/kaggle/working/datasets/hand-keypoints/train/images/IMG_00006121.jpg: ignoring corrupt image/label: non-normalized or out of bounds coordinates [      1.018      1.0155      1.0328]\n",
      "\u001b[34m\u001b[1mtrain: \u001b[0m/kaggle/working/datasets/hand-keypoints/train/images/IMG_00006122.jpg: ignoring corrupt image/label: non-normalized or out of bounds coordinates [     1.0042      1.0061      1.0249]\n",
      "\u001b[34m\u001b[1mtrain: \u001b[0m/kaggle/working/datasets/hand-keypoints/train/images/IMG_00006196.jpg: ignoring corrupt image/label: non-normalized or out of bounds coordinates [     1.0073        1.02      1.0234      1.0347      1.0449]\n",
      "\u001b[34m\u001b[1mtrain: \u001b[0m/kaggle/working/datasets/hand-keypoints/train/images/IMG_00006495.jpg: ignoring corrupt image/label: non-normalized or out of bounds coordinates [     1.0246]\n",
      "\u001b[34m\u001b[1mtrain: \u001b[0m/kaggle/working/datasets/hand-keypoints/train/images/IMG_00006497.jpg: ignoring corrupt image/label: non-normalized or out of bounds coordinates [     1.0393      1.0091]\n",
      "\u001b[34m\u001b[1mtrain: \u001b[0m/kaggle/working/datasets/hand-keypoints/train/images/IMG_00006498.jpg: ignoring corrupt image/label: non-normalized or out of bounds coordinates [     1.0589      1.0243]\n",
      "\u001b[34m\u001b[1mtrain: \u001b[0m/kaggle/working/datasets/hand-keypoints/train/images/IMG_00006499.jpg: ignoring corrupt image/label: non-normalized or out of bounds coordinates [     1.0411      1.0177]\n",
      "\u001b[34m\u001b[1mtrain: \u001b[0m/kaggle/working/datasets/hand-keypoints/train/images/IMG_00006620.jpg: ignoring corrupt image/label: non-normalized or out of bounds coordinates [     1.0022      1.0015]\n",
      "\u001b[34m\u001b[1mtrain: \u001b[0m/kaggle/working/datasets/hand-keypoints/train/images/IMG_00006621.jpg: ignoring corrupt image/label: non-normalized or out of bounds coordinates [     1.0297      1.0197]\n",
      "\u001b[34m\u001b[1mtrain: \u001b[0m/kaggle/working/datasets/hand-keypoints/train/images/IMG_00006650.jpg: ignoring corrupt image/label: non-normalized or out of bounds coordinates [     1.0145      1.0334      1.0252        1.05      1.0646      1.0104      1.0409      1.0528      1.0586]\n",
      "\u001b[34m\u001b[1mtrain: \u001b[0m/kaggle/working/datasets/hand-keypoints/train/images/IMG_00006652.jpg: ignoring corrupt image/label: non-normalized or out of bounds coordinates [     1.0063      1.0186      1.0207       1.026      1.0223      1.0198      1.0484      1.0514      1.0466       1.049      1.0724      1.0741      1.0689]\n",
      "\u001b[34m\u001b[1mtrain: \u001b[0m/kaggle/working/datasets/hand-keypoints/train/images/IMG_00006750.jpg: ignoring corrupt image/label: non-normalized or out of bounds coordinates [      1.019      1.0169      1.0473      1.0028      1.0281      1.0539]\n",
      "\u001b[34m\u001b[1mtrain: \u001b[0m/kaggle/working/datasets/hand-keypoints/train/images/IMG_00006751.jpg: ignoring corrupt image/label: non-normalized or out of bounds coordinates [     1.0035      1.0167       1.017]\n",
      "\u001b[34m\u001b[1mtrain: \u001b[0m/kaggle/working/datasets/hand-keypoints/train/images/IMG_00006752.jpg: ignoring corrupt image/label: non-normalized or out of bounds coordinates [     1.0205      1.0113      1.0364]\n",
      "\u001b[34m\u001b[1mtrain: \u001b[0m/kaggle/working/datasets/hand-keypoints/train/images/IMG_00006753.jpg: ignoring corrupt image/label: non-normalized or out of bounds coordinates [     1.0203      1.0186      1.0545      1.0111      1.0447      1.0749]\n",
      "\u001b[34m\u001b[1mtrain: \u001b[0m/kaggle/working/datasets/hand-keypoints/train/images/IMG_00006754.jpg: ignoring corrupt image/label: non-normalized or out of bounds coordinates [     1.0107      1.0062      1.0439      1.0003      1.0341      1.0667]\n",
      "\u001b[34m\u001b[1mtrain: \u001b[0m/kaggle/working/datasets/hand-keypoints/train/images/IMG_00006825.jpg: ignoring corrupt image/label: non-normalized or out of bounds coordinates [     1.0036]\n",
      "\u001b[34m\u001b[1mtrain: \u001b[0m/kaggle/working/datasets/hand-keypoints/train/images/IMG_00007035.jpg: ignoring corrupt image/label: non-normalized or out of bounds coordinates [     1.0023       1.015      1.0258]\n",
      "\u001b[34m\u001b[1mtrain: \u001b[0m/kaggle/working/datasets/hand-keypoints/train/images/IMG_00007050.jpg: ignoring corrupt image/label: non-normalized or out of bounds coordinates [     1.0017      1.0028]\n",
      "\u001b[34m\u001b[1mtrain: \u001b[0m/kaggle/working/datasets/hand-keypoints/train/images/IMG_00007185.jpg: ignoring corrupt image/label: non-normalized or out of bounds coordinates [     1.0028      1.0186]\n",
      "\u001b[34m\u001b[1mtrain: \u001b[0m/kaggle/working/datasets/hand-keypoints/train/images/IMG_00007186.jpg: ignoring corrupt image/label: non-normalized or out of bounds coordinates [     1.0051      1.0267]\n",
      "\u001b[34m\u001b[1mtrain: \u001b[0m/kaggle/working/datasets/hand-keypoints/train/images/IMG_00007188.jpg: ignoring corrupt image/label: non-normalized or out of bounds coordinates [     1.0231      1.0177]\n",
      "\u001b[34m\u001b[1mtrain: \u001b[0m/kaggle/working/datasets/hand-keypoints/train/images/IMG_00007189.jpg: ignoring corrupt image/label: non-normalized or out of bounds coordinates [     1.0053]\n",
      "\u001b[34m\u001b[1mtrain: \u001b[0m/kaggle/working/datasets/hand-keypoints/train/images/IMG_00007303.jpg: ignoring corrupt image/label: non-normalized or out of bounds coordinates [     1.0438      1.0056]\n",
      "\u001b[34m\u001b[1mtrain: \u001b[0m/kaggle/working/datasets/hand-keypoints/train/images/IMG_00007304.jpg: ignoring corrupt image/label: non-normalized or out of bounds coordinates [     1.0917]\n",
      "\u001b[34m\u001b[1mtrain: \u001b[0m/kaggle/working/datasets/hand-keypoints/train/images/IMG_00007313.jpg: ignoring corrupt image/label: non-normalized or out of bounds coordinates [     1.0424]\n",
      "\u001b[34m\u001b[1mtrain: \u001b[0m/kaggle/working/datasets/hand-keypoints/train/images/IMG_00007338.jpg: ignoring corrupt image/label: non-normalized or out of bounds coordinates [     1.0039      1.0134      1.0214]\n",
      "\u001b[34m\u001b[1mtrain: \u001b[0m/kaggle/working/datasets/hand-keypoints/train/images/IMG_00007339.jpg: ignoring corrupt image/label: non-normalized or out of bounds coordinates [     1.0024      1.0076      1.0118      1.0101      1.0268       1.034      1.0397]\n",
      "\u001b[34m\u001b[1mtrain: \u001b[0m/kaggle/working/datasets/hand-keypoints/train/images/IMG_00007382.jpg: ignoring corrupt image/label: non-normalized or out of bounds coordinates [     1.0048      1.0151      1.0221      1.0183      1.0417      1.0506      1.0583       1.043      1.0697       1.082      1.0919]\n",
      "\u001b[34m\u001b[1mtrain: \u001b[0m/kaggle/working/datasets/hand-keypoints/train/images/IMG_00007500.jpg: ignoring corrupt image/label: non-normalized or out of bounds coordinates [     1.0144]\n",
      "\u001b[34m\u001b[1mtrain: \u001b[0m/kaggle/working/datasets/hand-keypoints/train/images/IMG_00007626.jpg: ignoring corrupt image/label: non-normalized or out of bounds coordinates [     1.0013       1.013      1.0269      1.0162       1.026      1.0344]\n",
      "\u001b[34m\u001b[1mtrain: \u001b[0m/kaggle/working/datasets/hand-keypoints/train/images/IMG_00007778.jpg: ignoring corrupt image/label: non-normalized or out of bounds coordinates [     1.0042      1.0074]\n",
      "\u001b[34m\u001b[1mtrain: \u001b[0m/kaggle/working/datasets/hand-keypoints/train/images/IMG_00007808.jpg: ignoring corrupt image/label: non-normalized or out of bounds coordinates [     1.0058      1.0024]\n",
      "\u001b[34m\u001b[1mtrain: \u001b[0m/kaggle/working/datasets/hand-keypoints/train/images/IMG_00007810.jpg: ignoring corrupt image/label: non-normalized or out of bounds coordinates [     1.0079        1.03      1.0229       1.046      1.0042      1.0238      1.0352]\n",
      "\u001b[34m\u001b[1mtrain: \u001b[0m/kaggle/working/datasets/hand-keypoints/train/images/IMG_00007868.jpg: ignoring corrupt image/label: non-normalized or out of bounds coordinates [     1.0044      1.0028      1.0167]\n",
      "\u001b[34m\u001b[1mtrain: \u001b[0m/kaggle/working/datasets/hand-keypoints/train/images/IMG_00007869.jpg: ignoring corrupt image/label: non-normalized or out of bounds coordinates [     1.0033      1.0023      1.0049       1.017      1.0293      1.0338]\n",
      "\u001b[34m\u001b[1mtrain: \u001b[0m/kaggle/working/datasets/hand-keypoints/train/images/IMG_00007870.jpg: ignoring corrupt image/label: non-normalized or out of bounds coordinates [     1.0049      1.0237      1.0139      1.0351      1.0465       1.005      1.0383      1.0548      1.0643]\n",
      "\u001b[34m\u001b[1mtrain: \u001b[0m/kaggle/working/datasets/hand-keypoints/train/images/IMG_00007918.jpg: ignoring corrupt image/label: non-normalized or out of bounds coordinates [     1.0029      1.0092]\n",
      "\u001b[34m\u001b[1mtrain: \u001b[0m/kaggle/working/datasets/hand-keypoints/train/images/IMG_00007919.jpg: ignoring corrupt image/label: non-normalized or out of bounds coordinates [     1.0066      1.0197      1.0177      1.0338       1.047      1.0481]\n",
      "\u001b[34m\u001b[1mtrain: \u001b[0m/kaggle/working/datasets/hand-keypoints/train/images/IMG_00007920.jpg: ignoring corrupt image/label: non-normalized or out of bounds coordinates [     1.0109      1.0184      1.0113      1.0393      1.0473      1.0449      1.0258      1.0667       1.074      1.0697      1.0507      1.0883      1.0999      1.1011]\n",
      "\u001b[34m\u001b[1mtrain: \u001b[0m/kaggle/working/datasets/hand-keypoints/train/images/IMG_00008071.jpg: ignoring corrupt image/label: non-normalized or out of bounds coordinates [     1.0155      1.0095      1.0343      1.0552      1.0278      1.0499      1.0681]\n",
      "\u001b[34m\u001b[1mtrain: \u001b[0m/kaggle/working/datasets/hand-keypoints/train/images/IMG_00008072.jpg: ignoring corrupt image/label: non-normalized or out of bounds coordinates [      1.008      1.0221      1.0416      1.0591      1.0205      1.0596      1.0803      1.0997      1.0481      1.0835      1.1004      1.1151]\n",
      "\u001b[34m\u001b[1mtrain: \u001b[0m/kaggle/working/datasets/hand-keypoints/train/images/IMG_00008190.jpg: ignoring corrupt image/label: non-normalized or out of bounds coordinates [     1.0018       1.023      1.0046      1.0249      1.0385]\n",
      "\u001b[34m\u001b[1mtrain: \u001b[0m/kaggle/working/datasets/hand-keypoints/train/images/IMG_00008191.jpg: ignoring corrupt image/label: non-normalized or out of bounds coordinates [     1.0091      1.0258       1.017        1.04      1.0482      1.0396      1.0599      1.0682]\n",
      "\u001b[34m\u001b[1mtrain: \u001b[0m/kaggle/working/datasets/hand-keypoints/train/images/IMG_00008208.jpg: ignoring corrupt image/label: non-normalized or out of bounds coordinates [     1.0234      1.0228      1.0479      1.0155      1.0423      1.0646]\n",
      "\u001b[34m\u001b[1mtrain: \u001b[0m/kaggle/working/datasets/hand-keypoints/train/images/IMG_00008209.jpg: ignoring corrupt image/label: non-normalized or out of bounds coordinates [     1.0117]\n",
      "\u001b[34m\u001b[1mtrain: \u001b[0m/kaggle/working/datasets/hand-keypoints/train/images/IMG_00008210.jpg: ignoring corrupt image/label: non-normalized or out of bounds coordinates [     1.0008]\n",
      "\u001b[34m\u001b[1mtrain: \u001b[0m/kaggle/working/datasets/hand-keypoints/train/images/IMG_00008313.jpg: ignoring corrupt image/label: non-normalized or out of bounds coordinates [     1.0047]\n",
      "\u001b[34m\u001b[1mtrain: \u001b[0m/kaggle/working/datasets/hand-keypoints/train/images/IMG_00008314.jpg: ignoring corrupt image/label: non-normalized or out of bounds coordinates [     1.0108]\n",
      "\u001b[34m\u001b[1mtrain: \u001b[0m/kaggle/working/datasets/hand-keypoints/train/images/IMG_00008367.jpg: ignoring corrupt image/label: non-normalized or out of bounds coordinates [     1.0044]\n",
      "\u001b[34m\u001b[1mtrain: \u001b[0m/kaggle/working/datasets/hand-keypoints/train/images/IMG_00008369.jpg: ignoring corrupt image/label: non-normalized or out of bounds coordinates [     1.0555]\n",
      "\u001b[34m\u001b[1mtrain: \u001b[0m/kaggle/working/datasets/hand-keypoints/train/images/IMG_00008371.jpg: ignoring corrupt image/label: non-normalized or out of bounds coordinates [     1.0667      1.0074]\n",
      "\u001b[34m\u001b[1mtrain: \u001b[0m/kaggle/working/datasets/hand-keypoints/train/images/IMG_00008372.jpg: ignoring corrupt image/label: non-normalized or out of bounds coordinates [     1.0688      1.0106]\n",
      "\u001b[34m\u001b[1mtrain: \u001b[0m/kaggle/working/datasets/hand-keypoints/train/images/IMG_00008373.jpg: ignoring corrupt image/label: non-normalized or out of bounds coordinates [     1.0607      1.0133]\n",
      "\u001b[34m\u001b[1mtrain: \u001b[0m/kaggle/working/datasets/hand-keypoints/train/images/IMG_00008374.jpg: ignoring corrupt image/label: non-normalized or out of bounds coordinates [     1.0663      1.0187]\n",
      "\u001b[34m\u001b[1mtrain: \u001b[0m/kaggle/working/datasets/hand-keypoints/train/images/IMG_00008376.jpg: ignoring corrupt image/label: non-normalized or out of bounds coordinates [     1.0446      1.0036]\n",
      "\u001b[34m\u001b[1mtrain: \u001b[0m/kaggle/working/datasets/hand-keypoints/train/images/IMG_00008380.jpg: ignoring corrupt image/label: non-normalized or out of bounds coordinates [     1.0435      1.0048]\n",
      "\u001b[34m\u001b[1mtrain: \u001b[0m/kaggle/working/datasets/hand-keypoints/train/images/IMG_00008420.jpg: ignoring corrupt image/label: non-normalized or out of bounds coordinates [     1.0194      1.0398      1.0273      1.0504      1.0707]\n",
      "\u001b[34m\u001b[1mtrain: \u001b[0m/kaggle/working/datasets/hand-keypoints/train/images/IMG_00008463.jpg: ignoring corrupt image/label: non-normalized or out of bounds coordinates [     1.0132      1.0155]\n",
      "\u001b[34m\u001b[1mtrain: \u001b[0m/kaggle/working/datasets/hand-keypoints/train/images/IMG_00008464.jpg: ignoring corrupt image/label: non-normalized or out of bounds coordinates [     1.0057      1.0108]\n",
      "\u001b[34m\u001b[1mtrain: \u001b[0m/kaggle/working/datasets/hand-keypoints/train/images/IMG_00008465.jpg: ignoring corrupt image/label: non-normalized or out of bounds coordinates [     1.0066      1.0168      1.0021      1.0171]\n",
      "\u001b[34m\u001b[1mtrain: \u001b[0m/kaggle/working/datasets/hand-keypoints/train/images/IMG_00008466.jpg: ignoring corrupt image/label: non-normalized or out of bounds coordinates [     1.0065      1.0163      1.0027      1.0193]\n",
      "\u001b[34m\u001b[1mtrain: \u001b[0m/kaggle/working/datasets/hand-keypoints/train/images/IMG_00008467.jpg: ignoring corrupt image/label: non-normalized or out of bounds coordinates [     1.0085]\n",
      "\u001b[34m\u001b[1mtrain: \u001b[0m/kaggle/working/datasets/hand-keypoints/train/images/IMG_00008850.jpg: ignoring corrupt image/label: non-normalized or out of bounds coordinates [      1.027      1.0092]\n",
      "\u001b[34m\u001b[1mtrain: \u001b[0m/kaggle/working/datasets/hand-keypoints/train/images/IMG_00008884.jpg: ignoring corrupt image/label: non-normalized or out of bounds coordinates [     1.0089]\n",
      "\u001b[34m\u001b[1mtrain: \u001b[0m/kaggle/working/datasets/hand-keypoints/train/images/IMG_00008885.jpg: ignoring corrupt image/label: non-normalized or out of bounds coordinates [     1.0212]\n",
      "\u001b[34m\u001b[1mtrain: \u001b[0m/kaggle/working/datasets/hand-keypoints/train/images/IMG_00008886.jpg: ignoring corrupt image/label: non-normalized or out of bounds coordinates [     1.0271]\n",
      "\u001b[34m\u001b[1mtrain: \u001b[0m/kaggle/working/datasets/hand-keypoints/train/images/IMG_00009187.jpg: ignoring corrupt image/label: non-normalized or out of bounds coordinates [     1.0079]\n",
      "\u001b[34m\u001b[1mtrain: \u001b[0m/kaggle/working/datasets/hand-keypoints/train/images/IMG_00009188.jpg: ignoring corrupt image/label: non-normalized or out of bounds coordinates [     1.0102]\n",
      "\u001b[34m\u001b[1mtrain: \u001b[0m/kaggle/working/datasets/hand-keypoints/train/images/IMG_00009189.jpg: ignoring corrupt image/label: non-normalized or out of bounds coordinates [     1.0079]\n",
      "\u001b[34m\u001b[1mtrain: \u001b[0m/kaggle/working/datasets/hand-keypoints/train/images/IMG_00009394.jpg: ignoring corrupt image/label: non-normalized or out of bounds coordinates [     1.0322      1.0412      1.0513]\n",
      "\u001b[34m\u001b[1mtrain: \u001b[0m/kaggle/working/datasets/hand-keypoints/train/images/IMG_00009646.jpg: ignoring corrupt image/label: non-normalized or out of bounds coordinates [     1.0109]\n",
      "\u001b[34m\u001b[1mtrain: \u001b[0m/kaggle/working/datasets/hand-keypoints/train/images/IMG_00009667.jpg: ignoring corrupt image/label: non-normalized or out of bounds coordinates [     1.0036      1.0255      1.0113      1.0275      1.0127      1.0264      1.0079      1.0227]\n",
      "\u001b[34m\u001b[1mtrain: \u001b[0m/kaggle/working/datasets/hand-keypoints/train/images/IMG_00009670.jpg: ignoring corrupt image/label: non-normalized or out of bounds coordinates [     1.0056      1.0283      1.0173      1.0327      1.0196      1.0312      1.0153      1.0277]\n",
      "\u001b[34m\u001b[1mtrain: \u001b[0m/kaggle/working/datasets/hand-keypoints/train/images/IMG_00009785.jpg: ignoring corrupt image/label: non-normalized or out of bounds coordinates [     1.0412]\n",
      "\u001b[34m\u001b[1mtrain: \u001b[0m/kaggle/working/datasets/hand-keypoints/train/images/IMG_00009786.jpg: ignoring corrupt image/label: non-normalized or out of bounds coordinates [     1.0351]\n",
      "\u001b[34m\u001b[1mtrain: \u001b[0m/kaggle/working/datasets/hand-keypoints/train/images/IMG_00009787.jpg: ignoring corrupt image/label: non-normalized or out of bounds coordinates [     1.0073]\n",
      "\u001b[34m\u001b[1mtrain: \u001b[0m/kaggle/working/datasets/hand-keypoints/train/images/IMG_00010179.jpg: ignoring corrupt image/label: non-normalized or out of bounds coordinates [     1.0031]\n",
      "\u001b[34m\u001b[1mtrain: \u001b[0m/kaggle/working/datasets/hand-keypoints/train/images/IMG_00010180.jpg: ignoring corrupt image/label: non-normalized or out of bounds coordinates [     1.0053      1.0135      1.0295      1.0419]\n",
      "\u001b[34m\u001b[1mtrain: \u001b[0m/kaggle/working/datasets/hand-keypoints/train/images/IMG_00010205.jpg: ignoring corrupt image/label: non-normalized or out of bounds coordinates [     1.0317      1.0137]\n",
      "\u001b[34m\u001b[1mtrain: \u001b[0m/kaggle/working/datasets/hand-keypoints/train/images/IMG_00010206.jpg: ignoring corrupt image/label: non-normalized or out of bounds coordinates [     1.0187      1.0007]\n",
      "\u001b[34m\u001b[1mtrain: \u001b[0m/kaggle/working/datasets/hand-keypoints/train/images/IMG_00010207.jpg: ignoring corrupt image/label: non-normalized or out of bounds coordinates [     1.0231]\n",
      "\u001b[34m\u001b[1mtrain: \u001b[0m/kaggle/working/datasets/hand-keypoints/train/images/IMG_00010209.jpg: ignoring corrupt image/label: non-normalized or out of bounds coordinates [     1.0299]\n",
      "\u001b[34m\u001b[1mtrain: \u001b[0m/kaggle/working/datasets/hand-keypoints/train/images/IMG_00010210.jpg: ignoring corrupt image/label: non-normalized or out of bounds coordinates [      1.038]\n",
      "\u001b[34m\u001b[1mtrain: \u001b[0m/kaggle/working/datasets/hand-keypoints/train/images/IMG_00010623.jpg: ignoring corrupt image/label: non-normalized or out of bounds coordinates [     1.0247]\n",
      "\u001b[34m\u001b[1mtrain: \u001b[0m/kaggle/working/datasets/hand-keypoints/train/images/IMG_00010626.jpg: ignoring corrupt image/label: non-normalized or out of bounds coordinates [     1.0391      1.0119]\n",
      "\u001b[34m\u001b[1mtrain: \u001b[0m/kaggle/working/datasets/hand-keypoints/train/images/IMG_00010627.jpg: ignoring corrupt image/label: non-normalized or out of bounds coordinates [     1.0586      1.0358]\n",
      "\u001b[34m\u001b[1mtrain: \u001b[0m/kaggle/working/datasets/hand-keypoints/train/images/IMG_00010628.jpg: ignoring corrupt image/label: non-normalized or out of bounds coordinates [     1.0488      1.0325]\n",
      "\u001b[34m\u001b[1mtrain: \u001b[0m/kaggle/working/datasets/hand-keypoints/train/images/IMG_00010833.jpg: ignoring corrupt image/label: non-normalized or out of bounds coordinates [     1.0085      1.0138]\n",
      "\u001b[34m\u001b[1mtrain: \u001b[0m/kaggle/working/datasets/hand-keypoints/train/images/IMG_00010834.jpg: ignoring corrupt image/label: non-normalized or out of bounds coordinates [     1.0132      1.0727      1.0885      1.1053]\n",
      "\u001b[34m\u001b[1mtrain: \u001b[0m/kaggle/working/datasets/hand-keypoints/train/images/IMG_00010835.jpg: ignoring corrupt image/label: non-normalized or out of bounds coordinates [     1.0166      1.0725      1.0811       1.092]\n",
      "\u001b[34m\u001b[1mtrain: \u001b[0m/kaggle/working/datasets/hand-keypoints/train/images/IMG_00010837.jpg: ignoring corrupt image/label: non-normalized or out of bounds coordinates [     1.0267      1.0489      1.0689]\n",
      "\u001b[34m\u001b[1mtrain: \u001b[0m/kaggle/working/datasets/hand-keypoints/train/images/IMG_00011258.jpg: ignoring corrupt image/label: non-normalized or out of bounds coordinates [     1.0012]\n",
      "\u001b[34m\u001b[1mtrain: \u001b[0m/kaggle/working/datasets/hand-keypoints/train/images/IMG_00011259.jpg: ignoring corrupt image/label: non-normalized or out of bounds coordinates [     1.0121]\n",
      "\u001b[34m\u001b[1mtrain: \u001b[0m/kaggle/working/datasets/hand-keypoints/train/images/IMG_00011260.jpg: ignoring corrupt image/label: non-normalized or out of bounds coordinates [     1.0154      1.0269      1.0051]\n",
      "\u001b[34m\u001b[1mtrain: \u001b[0m/kaggle/working/datasets/hand-keypoints/train/images/IMG_00011378.jpg: ignoring corrupt image/label: non-normalized or out of bounds coordinates [     1.0033       1.004      1.0015]\n",
      "\u001b[34m\u001b[1mtrain: \u001b[0m/kaggle/working/datasets/hand-keypoints/train/images/IMG_00011379.jpg: ignoring corrupt image/label: non-normalized or out of bounds coordinates [     1.0064      1.0066       1.005]\n",
      "\u001b[34m\u001b[1mtrain: \u001b[0m/kaggle/working/datasets/hand-keypoints/train/images/IMG_00011444.jpg: ignoring corrupt image/label: non-normalized or out of bounds coordinates [     1.0417]\n",
      "\u001b[34m\u001b[1mtrain: \u001b[0m/kaggle/working/datasets/hand-keypoints/train/images/IMG_00011445.jpg: ignoring corrupt image/label: non-normalized or out of bounds coordinates [      1.063      1.0218]\n",
      "\u001b[34m\u001b[1mtrain: \u001b[0m/kaggle/working/datasets/hand-keypoints/train/images/IMG_00011715.jpg: ignoring corrupt image/label: non-normalized or out of bounds coordinates [     1.0022]\n",
      "\u001b[34m\u001b[1mtrain: \u001b[0m/kaggle/working/datasets/hand-keypoints/train/images/IMG_00011883.jpg: ignoring corrupt image/label: non-normalized or out of bounds coordinates [     1.0248]\n",
      "\u001b[34m\u001b[1mtrain: \u001b[0m/kaggle/working/datasets/hand-keypoints/train/images/IMG_00011885.jpg: ignoring corrupt image/label: non-normalized or out of bounds coordinates [       1.03       1.009]\n",
      "\u001b[34m\u001b[1mtrain: \u001b[0m/kaggle/working/datasets/hand-keypoints/train/images/IMG_00011887.jpg: ignoring corrupt image/label: non-normalized or out of bounds coordinates [     1.0377      1.0223]\n",
      "\u001b[34m\u001b[1mtrain: \u001b[0m/kaggle/working/datasets/hand-keypoints/train/images/IMG_00011889.jpg: ignoring corrupt image/label: non-normalized or out of bounds coordinates [     1.0479      1.0256]\n",
      "\u001b[34m\u001b[1mtrain: \u001b[0m/kaggle/working/datasets/hand-keypoints/train/images/IMG_00011891.jpg: ignoring corrupt image/label: non-normalized or out of bounds coordinates [     1.0394      1.0315]\n",
      "\u001b[34m\u001b[1mtrain: \u001b[0m/kaggle/working/datasets/hand-keypoints/train/images/IMG_00011893.jpg: ignoring corrupt image/label: non-normalized or out of bounds coordinates [     1.0388      1.0324]\n",
      "\u001b[34m\u001b[1mtrain: \u001b[0m/kaggle/working/datasets/hand-keypoints/train/images/IMG_00011979.jpg: ignoring corrupt image/label: non-normalized or out of bounds coordinates [     1.0025]\n",
      "\u001b[34m\u001b[1mtrain: \u001b[0m/kaggle/working/datasets/hand-keypoints/train/images/IMG_00011980.jpg: ignoring corrupt image/label: non-normalized or out of bounds coordinates [     1.0132]\n",
      "\u001b[34m\u001b[1mtrain: \u001b[0m/kaggle/working/datasets/hand-keypoints/train/images/IMG_00012097.jpg: ignoring corrupt image/label: non-normalized or out of bounds coordinates [     1.0217]\n",
      "\u001b[34m\u001b[1mtrain: \u001b[0m/kaggle/working/datasets/hand-keypoints/train/images/IMG_00012098.jpg: ignoring corrupt image/label: non-normalized or out of bounds coordinates [     1.0388]\n",
      "\u001b[34m\u001b[1mtrain: \u001b[0m/kaggle/working/datasets/hand-keypoints/train/images/IMG_00012103.jpg: ignoring corrupt image/label: non-normalized or out of bounds coordinates [     1.0019]\n",
      "\u001b[34m\u001b[1mtrain: \u001b[0m/kaggle/working/datasets/hand-keypoints/train/images/IMG_00012104.jpg: ignoring corrupt image/label: non-normalized or out of bounds coordinates [     1.0392]\n",
      "\u001b[34m\u001b[1mtrain: \u001b[0m/kaggle/working/datasets/hand-keypoints/train/images/IMG_00012105.jpg: ignoring corrupt image/label: non-normalized or out of bounds coordinates [     1.0198]\n",
      "\u001b[34m\u001b[1mtrain: \u001b[0m/kaggle/working/datasets/hand-keypoints/train/images/IMG_00013289.jpg: ignoring corrupt image/label: non-normalized or out of bounds coordinates [     1.0028]\n",
      "\u001b[34m\u001b[1mtrain: \u001b[0m/kaggle/working/datasets/hand-keypoints/train/images/IMG_00013290.jpg: ignoring corrupt image/label: non-normalized or out of bounds coordinates [     1.0002      1.0047      1.0085]\n",
      "\u001b[34m\u001b[1mtrain: \u001b[0m/kaggle/working/datasets/hand-keypoints/train/images/IMG_00013295.jpg: ignoring corrupt image/label: non-normalized or out of bounds coordinates [      1.001]\n",
      "\u001b[34m\u001b[1mtrain: \u001b[0m/kaggle/working/datasets/hand-keypoints/train/images/IMG_00013336.jpg: ignoring corrupt image/label: non-normalized or out of bounds coordinates [     1.0028]\n",
      "\u001b[34m\u001b[1mtrain: \u001b[0m/kaggle/working/datasets/hand-keypoints/train/images/IMG_00013339.jpg: ignoring corrupt image/label: non-normalized or out of bounds coordinates [     1.0089]\n",
      "\u001b[34m\u001b[1mtrain: \u001b[0m/kaggle/working/datasets/hand-keypoints/train/images/IMG_00013340.jpg: ignoring corrupt image/label: non-normalized or out of bounds coordinates [     1.0092]\n",
      "\u001b[34m\u001b[1mtrain: \u001b[0m/kaggle/working/datasets/hand-keypoints/train/images/IMG_00013341.jpg: ignoring corrupt image/label: non-normalized or out of bounds coordinates [     1.0009]\n",
      "\u001b[34m\u001b[1mtrain: \u001b[0m/kaggle/working/datasets/hand-keypoints/train/images/IMG_00013454.jpg: ignoring corrupt image/label: non-normalized or out of bounds coordinates [     1.0082]\n",
      "\u001b[34m\u001b[1mtrain: \u001b[0m/kaggle/working/datasets/hand-keypoints/train/images/IMG_00013455.jpg: ignoring corrupt image/label: non-normalized or out of bounds coordinates [     1.0409      1.0048]\n",
      "\u001b[34m\u001b[1mtrain: \u001b[0m/kaggle/working/datasets/hand-keypoints/train/images/IMG_00013505.jpg: ignoring corrupt image/label: non-normalized or out of bounds coordinates [     1.0105]\n",
      "\u001b[34m\u001b[1mtrain: \u001b[0m/kaggle/working/datasets/hand-keypoints/train/images/IMG_00013506.jpg: ignoring corrupt image/label: non-normalized or out of bounds coordinates [     1.0162]\n",
      "\u001b[34m\u001b[1mtrain: \u001b[0m/kaggle/working/datasets/hand-keypoints/train/images/IMG_00013508.jpg: ignoring corrupt image/label: non-normalized or out of bounds coordinates [     1.0285]\n",
      "\u001b[34m\u001b[1mtrain: \u001b[0m/kaggle/working/datasets/hand-keypoints/train/images/IMG_00013509.jpg: ignoring corrupt image/label: non-normalized or out of bounds coordinates [     1.0313]\n",
      "\u001b[34m\u001b[1mtrain: \u001b[0m/kaggle/working/datasets/hand-keypoints/train/images/IMG_00013510.jpg: ignoring corrupt image/label: non-normalized or out of bounds coordinates [     1.0256]\n",
      "\u001b[34m\u001b[1mtrain: \u001b[0m/kaggle/working/datasets/hand-keypoints/train/images/IMG_00013512.jpg: ignoring corrupt image/label: non-normalized or out of bounds coordinates [     1.0209]\n",
      "\u001b[34m\u001b[1mtrain: \u001b[0m/kaggle/working/datasets/hand-keypoints/train/images/IMG_00013514.jpg: ignoring corrupt image/label: non-normalized or out of bounds coordinates [     1.0106]\n",
      "\u001b[34m\u001b[1mtrain: \u001b[0m/kaggle/working/datasets/hand-keypoints/train/images/IMG_00014527.jpg: ignoring corrupt image/label: non-normalized or out of bounds coordinates [     1.0054      1.0258      1.0177      1.0275      1.0286      1.0134      1.0204      1.0184      1.0068      1.0139      1.0131      1.0029      1.0046]\n",
      "\u001b[34m\u001b[1mtrain: \u001b[0m/kaggle/working/datasets/hand-keypoints/train/images/IMG_00014528.jpg: ignoring corrupt image/label: non-normalized or out of bounds coordinates [      1.002      1.0205      1.0106      1.0059      1.0076      1.0025      1.0016]\n",
      "\u001b[34m\u001b[1mtrain: \u001b[0m/kaggle/working/datasets/hand-keypoints/train/images/IMG_00014531.jpg: ignoring corrupt image/label: non-normalized or out of bounds coordinates [     1.0165      1.0192       1.013      1.0139      1.0075      1.0061      1.0008]\n",
      "\u001b[34m\u001b[1mtrain: \u001b[0m/kaggle/working/datasets/hand-keypoints/train/images/IMG_00014533.jpg: ignoring corrupt image/label: non-normalized or out of bounds coordinates [     1.0083      1.0133      1.0047       1.017      1.0078      1.0168      1.0083      1.0108      1.0038]\n",
      "\u001b[34m\u001b[1mtrain: \u001b[0m/kaggle/working/datasets/hand-keypoints/train/images/IMG_00014537.jpg: ignoring corrupt image/label: non-normalized or out of bounds coordinates [     1.0039      1.0105      1.0051      1.0159      1.0084      1.0171      1.0103      1.0124      1.0085]\n",
      "\u001b[34m\u001b[1mtrain: \u001b[0m/kaggle/working/datasets/hand-keypoints/train/images/IMG_00014542.jpg: ignoring corrupt image/label: non-normalized or out of bounds coordinates [     1.0069      1.0109      1.0036      1.0082      1.0018       1.001]\n",
      "\u001b[34m\u001b[1mtrain: \u001b[0m/kaggle/working/datasets/hand-keypoints/train/images/IMG_00014543.jpg: ignoring corrupt image/label: non-normalized or out of bounds coordinates [     1.0008      1.0125      1.0145       1.006      1.0104      1.0023      1.0018]\n",
      "\u001b[34m\u001b[1mtrain: \u001b[0m/kaggle/working/datasets/hand-keypoints/train/images/IMG_00014545.jpg: ignoring corrupt image/label: non-normalized or out of bounds coordinates [      1.001      1.0114       1.015      1.0061      1.0126      1.0038      1.0068]\n",
      "\u001b[34m\u001b[1mtrain: \u001b[0m/kaggle/working/datasets/hand-keypoints/train/images/IMG_00014546.jpg: ignoring corrupt image/label: non-normalized or out of bounds coordinates [     1.0057      1.0119      1.0042      1.0139      1.0039      1.0124      1.0033      1.0078]\n",
      "\u001b[34m\u001b[1mtrain: \u001b[0m/kaggle/working/datasets/hand-keypoints/train/images/IMG_00014548.jpg: ignoring corrupt image/label: non-normalized or out of bounds coordinates [     1.0036      1.0127      1.0021      1.0148      1.0041      1.0124      1.0033      1.0065]\n",
      "\u001b[34m\u001b[1mtrain: \u001b[0m/kaggle/working/datasets/hand-keypoints/train/images/IMG_00015178.jpg: ignoring corrupt image/label: non-normalized or out of bounds coordinates [     1.0058]\n",
      "\u001b[34m\u001b[1mtrain: \u001b[0m/kaggle/working/datasets/hand-keypoints/train/images/IMG_00016227.jpg: ignoring corrupt image/label: non-normalized or out of bounds coordinates [     1.0017]\n",
      "\u001b[34m\u001b[1mtrain: \u001b[0m/kaggle/working/datasets/hand-keypoints/train/images/IMG_00016342.jpg: ignoring corrupt image/label: non-normalized or out of bounds coordinates [     1.0046]\n",
      "\u001b[34m\u001b[1mtrain: \u001b[0m/kaggle/working/datasets/hand-keypoints/train/images/IMG_00016499.jpg: ignoring corrupt image/label: non-normalized or out of bounds coordinates [     1.0009      1.0119]\n",
      "\u001b[34m\u001b[1mtrain: \u001b[0m/kaggle/working/datasets/hand-keypoints/train/images/IMG_00016500.jpg: ignoring corrupt image/label: non-normalized or out of bounds coordinates [     1.0002      1.0181      1.0366]\n",
      "\u001b[34m\u001b[1mtrain: \u001b[0m/kaggle/working/datasets/hand-keypoints/train/images/IMG_00016735.jpg: ignoring corrupt image/label: non-normalized or out of bounds coordinates [     1.0016]\n",
      "\u001b[34m\u001b[1mtrain: \u001b[0m/kaggle/working/datasets/hand-keypoints/train/images/IMG_00016740.jpg: ignoring corrupt image/label: non-normalized or out of bounds coordinates [     1.0438      1.0135]\n",
      "\u001b[34m\u001b[1mtrain: \u001b[0m/kaggle/working/datasets/hand-keypoints/train/images/IMG_00016756.jpg: ignoring corrupt image/label: non-normalized or out of bounds coordinates [     1.0037]\n",
      "\u001b[34m\u001b[1mtrain: \u001b[0m/kaggle/working/datasets/hand-keypoints/train/images/IMG_00016854.jpg: ignoring corrupt image/label: non-normalized or out of bounds coordinates [     1.0247      1.0072]\n",
      "\u001b[34m\u001b[1mtrain: \u001b[0m/kaggle/working/datasets/hand-keypoints/train/images/IMG_00016856.jpg: ignoring corrupt image/label: non-normalized or out of bounds coordinates [     1.0501      1.0296]\n",
      "\u001b[34m\u001b[1mtrain: \u001b[0m/kaggle/working/datasets/hand-keypoints/train/images/IMG_00016857.jpg: ignoring corrupt image/label: non-normalized or out of bounds coordinates [     1.0589      1.0131]\n",
      "\u001b[34m\u001b[1mtrain: \u001b[0m/kaggle/working/datasets/hand-keypoints/train/images/IMG_00016858.jpg: ignoring corrupt image/label: non-normalized or out of bounds coordinates [      1.048]\n",
      "\u001b[34m\u001b[1mtrain: \u001b[0m/kaggle/working/datasets/hand-keypoints/train/images/IMG_00016860.jpg: ignoring corrupt image/label: non-normalized or out of bounds coordinates [     1.0587      1.0094]\n",
      "\u001b[34m\u001b[1mtrain: \u001b[0m/kaggle/working/datasets/hand-keypoints/train/images/IMG_00017302.jpg: ignoring corrupt image/label: non-normalized or out of bounds coordinates [     1.0045]\n",
      "\u001b[34m\u001b[1mtrain: \u001b[0m/kaggle/working/datasets/hand-keypoints/train/images/IMG_00017303.jpg: ignoring corrupt image/label: non-normalized or out of bounds coordinates [     1.0552      1.0024]\n",
      "\u001b[34m\u001b[1mtrain: \u001b[0m/kaggle/working/datasets/hand-keypoints/train/images/IMG_00017304.jpg: ignoring corrupt image/label: non-normalized or out of bounds coordinates [     1.0732      1.0227]\n",
      "\u001b[34m\u001b[1mtrain: \u001b[0m/kaggle/working/datasets/hand-keypoints/train/images/IMG_00017305.jpg: ignoring corrupt image/label: non-normalized or out of bounds coordinates [     1.0613      1.0105]\n",
      "\u001b[34m\u001b[1mtrain: \u001b[0m/kaggle/working/datasets/hand-keypoints/train/images/IMG_00017307.jpg: ignoring corrupt image/label: non-normalized or out of bounds coordinates [     1.0627      1.0211]\n",
      "\u001b[34m\u001b[1mtrain: \u001b[0m/kaggle/working/datasets/hand-keypoints/train/images/IMG_00017308.jpg: ignoring corrupt image/label: non-normalized or out of bounds coordinates [     1.0563      1.0204]\n",
      "\u001b[34m\u001b[1mtrain: \u001b[0m/kaggle/working/datasets/hand-keypoints/train/images/IMG_00017309.jpg: ignoring corrupt image/label: non-normalized or out of bounds coordinates [     1.0723      1.0346]\n",
      "\u001b[34m\u001b[1mtrain: \u001b[0m/kaggle/working/datasets/hand-keypoints/train/images/IMG_00017310.jpg: ignoring corrupt image/label: non-normalized or out of bounds coordinates [     1.0717      1.0325]\n",
      "\u001b[34m\u001b[1mtrain: \u001b[0m/kaggle/working/datasets/hand-keypoints/train/images/IMG_00017370.jpg: ignoring corrupt image/label: non-normalized or out of bounds coordinates [     1.0042]\n",
      "\u001b[34m\u001b[1mtrain: \u001b[0m/kaggle/working/datasets/hand-keypoints/train/images/IMG_00017756.jpg: ignoring corrupt image/label: non-normalized or out of bounds coordinates [     1.0059      1.0104]\n",
      "\u001b[34m\u001b[1mtrain: \u001b[0m/kaggle/working/datasets/hand-keypoints/train/images/IMG_00018086.jpg: ignoring corrupt image/label: non-normalized or out of bounds coordinates [     1.0191]\n",
      "\u001b[34m\u001b[1mtrain: \u001b[0m/kaggle/working/datasets/hand-keypoints/train/images/IMG_00018509.jpg: ignoring corrupt image/label: non-normalized or out of bounds coordinates [     1.0036]\n",
      "\u001b[34m\u001b[1mtrain: \u001b[0m/kaggle/working/datasets/hand-keypoints/train/images/IMG_00018539.jpg: ignoring corrupt image/label: non-normalized or out of bounds coordinates [     1.0086]\n",
      "\u001b[34m\u001b[1mtrain: \u001b[0m/kaggle/working/datasets/hand-keypoints/train/images/IMG_00018540.jpg: ignoring corrupt image/label: non-normalized or out of bounds coordinates [     1.0054]\n",
      "\u001b[34m\u001b[1mtrain: \u001b[0m/kaggle/working/datasets/hand-keypoints/train/images/IMG_00018647.jpg: ignoring corrupt image/label: non-normalized or out of bounds coordinates [     1.0362]\n",
      "\u001b[34m\u001b[1mtrain: \u001b[0m/kaggle/working/datasets/hand-keypoints/train/images/IMG_00018648.jpg: ignoring corrupt image/label: non-normalized or out of bounds coordinates [     1.0479      1.0033]\n",
      "\u001b[34m\u001b[1mtrain: \u001b[0m/kaggle/working/datasets/hand-keypoints/train/images/IMG_00018649.jpg: ignoring corrupt image/label: non-normalized or out of bounds coordinates [     1.0437      1.0106]\n",
      "\u001b[34m\u001b[1mtrain: \u001b[0m/kaggle/working/datasets/hand-keypoints/train/images/IMG_00018651.jpg: ignoring corrupt image/label: non-normalized or out of bounds coordinates [      1.014]\n",
      "\u001b[34m\u001b[1mtrain: \u001b[0m/kaggle/working/datasets/hand-keypoints/train/images/IMG_00018653.jpg: ignoring corrupt image/label: non-normalized or out of bounds coordinates [     1.0099]\n",
      "\u001b[34m\u001b[1mtrain: \u001b[0m/kaggle/working/datasets/hand-keypoints/train/images/IMG_00018654.jpg: ignoring corrupt image/label: non-normalized or out of bounds coordinates [     1.0025]\n",
      "\u001b[34m\u001b[1mtrain: \u001b[0m/kaggle/working/datasets/hand-keypoints/train/images/IMG_00018655.jpg: ignoring corrupt image/label: non-normalized or out of bounds coordinates [     1.0164]\n",
      "\u001b[34m\u001b[1mtrain: \u001b[0m/kaggle/working/datasets/hand-keypoints/train/images/IMG_00018657.jpg: ignoring corrupt image/label: non-normalized or out of bounds coordinates [     1.0113]\n",
      "\u001b[34m\u001b[1mtrain: \u001b[0m/kaggle/working/datasets/hand-keypoints/train/images/IMG_00018658.jpg: ignoring corrupt image/label: non-normalized or out of bounds coordinates [     1.0252]\n",
      "\u001b[34m\u001b[1mtrain: \u001b[0m/kaggle/working/datasets/hand-keypoints/train/images/IMG_00018740.jpg: ignoring corrupt image/label: non-normalized or out of bounds coordinates [     1.0212]\n",
      "\u001b[34m\u001b[1mtrain: \u001b[0m/kaggle/working/datasets/hand-keypoints/train/images/IMG_00018741.jpg: ignoring corrupt image/label: non-normalized or out of bounds coordinates [     1.0447]\n",
      "\u001b[34m\u001b[1mtrain: \u001b[0m/kaggle/working/datasets/hand-keypoints/train/images/IMG_00018742.jpg: ignoring corrupt image/label: non-normalized or out of bounds coordinates [     1.0442      1.0027]\n",
      "\u001b[34m\u001b[1mtrain: \u001b[0m/kaggle/working/datasets/hand-keypoints/train/images/IMG_00018744.jpg: ignoring corrupt image/label: non-normalized or out of bounds coordinates [      1.072      1.0168]\n",
      "\u001b[34m\u001b[1mtrain: \u001b[0m/kaggle/working/datasets/hand-keypoints/train/images/IMG_00018942.jpg: ignoring corrupt image/label: non-normalized or out of bounds coordinates [     1.0205]\n",
      "\u001b[34m\u001b[1mtrain: \u001b[0m/kaggle/working/datasets/hand-keypoints/train/images/IMG_00018950.jpg: ignoring corrupt image/label: non-normalized or out of bounds coordinates [     1.0269      1.0001]\n",
      "\u001b[34m\u001b[1mtrain: \u001b[0m/kaggle/working/datasets/hand-keypoints/train/images/IMG_00019282.jpg: ignoring corrupt image/label: non-normalized or out of bounds coordinates [     1.0018]\n",
      "\u001b[34m\u001b[1mtrain: \u001b[0m/kaggle/working/datasets/hand-keypoints/train/images/IMG_00019283.jpg: ignoring corrupt image/label: non-normalized or out of bounds coordinates [      1.009]\n",
      "\u001b[34m\u001b[1mtrain: \u001b[0m/kaggle/working/datasets/hand-keypoints/train/images/IMG_00019284.jpg: ignoring corrupt image/label: non-normalized or out of bounds coordinates [     1.0245]\n",
      "\u001b[34m\u001b[1mtrain: \u001b[0m/kaggle/working/datasets/hand-keypoints/train/images/IMG_00019289.jpg: ignoring corrupt image/label: non-normalized or out of bounds coordinates [     1.0144]\n",
      "\u001b[34m\u001b[1mtrain: \u001b[0m/kaggle/working/datasets/hand-keypoints/train/images/IMG_00019466.jpg: ignoring corrupt image/label: non-normalized or out of bounds coordinates [     1.0342      1.0474       1.041]\n",
      "\u001b[34m\u001b[1mtrain: \u001b[0m/kaggle/working/datasets/hand-keypoints/train/images/IMG_00020013.jpg: ignoring corrupt image/label: non-normalized or out of bounds coordinates [     1.0322      1.0069]\n",
      "\u001b[34m\u001b[1mtrain: \u001b[0m/kaggle/working/datasets/hand-keypoints/train/images/IMG_00020014.jpg: ignoring corrupt image/label: non-normalized or out of bounds coordinates [     1.0325      1.0104]\n",
      "\u001b[34m\u001b[1mtrain: \u001b[0m/kaggle/working/datasets/hand-keypoints/train/images/IMG_00020223.jpg: ignoring corrupt image/label: non-normalized or out of bounds coordinates [     1.0202]\n",
      "\u001b[34m\u001b[1mtrain: \u001b[0m/kaggle/working/datasets/hand-keypoints/train/images/IMG_00020314.jpg: ignoring corrupt image/label: non-normalized or out of bounds coordinates [     1.0155       1.032]\n",
      "\u001b[34m\u001b[1mtrain: \u001b[0m/kaggle/working/datasets/hand-keypoints/train/images/IMG_00020611.jpg: ignoring corrupt image/label: non-normalized or out of bounds coordinates [     1.0633      1.0177]\n",
      "\u001b[34m\u001b[1mtrain: \u001b[0m/kaggle/working/datasets/hand-keypoints/train/images/IMG_00020612.jpg: ignoring corrupt image/label: non-normalized or out of bounds coordinates [      1.137      1.0874]\n",
      "\u001b[34m\u001b[1mtrain: \u001b[0m/kaggle/working/datasets/hand-keypoints/train/images/IMG_00020838.jpg: ignoring corrupt image/label: non-normalized or out of bounds coordinates [     1.0728      1.0069      1.0807      1.0579]\n",
      "\u001b[34m\u001b[1mtrain: \u001b[0m/kaggle/working/datasets/hand-keypoints/train/images/IMG_00021091.jpg: ignoring corrupt image/label: non-normalized or out of bounds coordinates [     1.0198]\n",
      "\u001b[34m\u001b[1mtrain: \u001b[0m/kaggle/working/datasets/hand-keypoints/train/images/IMG_00021092.jpg: ignoring corrupt image/label: non-normalized or out of bounds coordinates [     1.0236]\n",
      "\u001b[34m\u001b[1mtrain: \u001b[0m/kaggle/working/datasets/hand-keypoints/train/images/IMG_00021093.jpg: ignoring corrupt image/label: non-normalized or out of bounds coordinates [     1.0235]\n",
      "\u001b[34m\u001b[1mtrain: \u001b[0m/kaggle/working/datasets/hand-keypoints/train/images/IMG_00021094.jpg: ignoring corrupt image/label: non-normalized or out of bounds coordinates [     1.0152]\n",
      "\u001b[34m\u001b[1mtrain: \u001b[0m/kaggle/working/datasets/hand-keypoints/train/images/IMG_00021303.jpg: ignoring corrupt image/label: non-normalized or out of bounds coordinates [     1.0576      1.0243]\n",
      "\u001b[34m\u001b[1mtrain: \u001b[0m/kaggle/working/datasets/hand-keypoints/train/images/IMG_00021661.jpg: ignoring corrupt image/label: non-normalized or out of bounds coordinates [     1.0526]\n",
      "\u001b[34m\u001b[1mtrain: \u001b[0m/kaggle/working/datasets/hand-keypoints/train/images/IMG_00022077.jpg: ignoring corrupt image/label: non-normalized or out of bounds coordinates [     1.0069]\n",
      "\u001b[34m\u001b[1mtrain: \u001b[0m/kaggle/working/datasets/hand-keypoints/train/images/IMG_00022170.jpg: ignoring corrupt image/label: non-normalized or out of bounds coordinates [     1.0257]\n",
      "\u001b[34m\u001b[1mtrain: \u001b[0m/kaggle/working/datasets/hand-keypoints/train/images/IMG_00022172.jpg: ignoring corrupt image/label: non-normalized or out of bounds coordinates [     1.0291      1.0134]\n",
      "\u001b[34m\u001b[1mtrain: \u001b[0m/kaggle/working/datasets/hand-keypoints/train/images/IMG_00022173.jpg: ignoring corrupt image/label: non-normalized or out of bounds coordinates [      1.023      1.0108]\n",
      "\u001b[34m\u001b[1mtrain: \u001b[0m/kaggle/working/datasets/hand-keypoints/train/images/IMG_00022174.jpg: ignoring corrupt image/label: non-normalized or out of bounds coordinates [     1.0086]\n",
      "\u001b[34m\u001b[1mtrain: \u001b[0m/kaggle/working/datasets/hand-keypoints/train/images/IMG_00022317.jpg: ignoring corrupt image/label: non-normalized or out of bounds coordinates [     1.0897      1.0576]\n",
      "\u001b[34m\u001b[1mtrain: \u001b[0m/kaggle/working/datasets/hand-keypoints/train/images/IMG_00022318.jpg: ignoring corrupt image/label: non-normalized or out of bounds coordinates [     1.0912      1.0579]\n",
      "\u001b[34m\u001b[1mtrain: \u001b[0m/kaggle/working/datasets/hand-keypoints/train/images/IMG_00022321.jpg: ignoring corrupt image/label: non-normalized or out of bounds coordinates [     1.0915      1.0506]\n",
      "\u001b[34m\u001b[1mtrain: \u001b[0m/kaggle/working/datasets/hand-keypoints/train/images/IMG_00022322.jpg: ignoring corrupt image/label: non-normalized or out of bounds coordinates [     1.0756      1.0411]\n",
      "\u001b[34m\u001b[1mtrain: \u001b[0m/kaggle/working/datasets/hand-keypoints/train/images/IMG_00022323.jpg: ignoring corrupt image/label: non-normalized or out of bounds coordinates [      1.075      1.0387]\n",
      "\u001b[34m\u001b[1mtrain: \u001b[0m/kaggle/working/datasets/hand-keypoints/train/images/IMG_00022324.jpg: ignoring corrupt image/label: non-normalized or out of bounds coordinates [     1.0963      1.0595]\n",
      "\u001b[34m\u001b[1mtrain: \u001b[0m/kaggle/working/datasets/hand-keypoints/train/images/IMG_00022384.jpg: ignoring corrupt image/label: non-normalized or out of bounds coordinates [     1.0297      1.0027]\n",
      "\u001b[34m\u001b[1mtrain: \u001b[0m/kaggle/working/datasets/hand-keypoints/train/images/IMG_00022385.jpg: ignoring corrupt image/label: non-normalized or out of bounds coordinates [     1.0126]\n",
      "\u001b[34m\u001b[1mtrain: \u001b[0m/kaggle/working/datasets/hand-keypoints/train/images/IMG_00022386.jpg: ignoring corrupt image/label: non-normalized or out of bounds coordinates [     1.0144]\n",
      "\u001b[34m\u001b[1mtrain: \u001b[0m/kaggle/working/datasets/hand-keypoints/train/images/IMG_00022387.jpg: ignoring corrupt image/label: non-normalized or out of bounds coordinates [     1.0219      1.0043]\n",
      "\u001b[34m\u001b[1mtrain: \u001b[0m/kaggle/working/datasets/hand-keypoints/train/images/IMG_00023745.jpg: ignoring corrupt image/label: non-normalized or out of bounds coordinates [     1.0004]\n",
      "\u001b[34m\u001b[1mtrain: \u001b[0m/kaggle/working/datasets/hand-keypoints/train/images/IMG_00023747.jpg: ignoring corrupt image/label: non-normalized or out of bounds coordinates [     1.0001]\n",
      "\u001b[34m\u001b[1mtrain: \u001b[0m/kaggle/working/datasets/hand-keypoints/train/images/IMG_00023750.jpg: ignoring corrupt image/label: non-normalized or out of bounds coordinates [     1.0042      1.0074]\n",
      "\u001b[34m\u001b[1mtrain: \u001b[0m/kaggle/working/datasets/hand-keypoints/train/images/IMG_00023751.jpg: ignoring corrupt image/label: non-normalized or out of bounds coordinates [     1.0005      1.0063]\n",
      "\u001b[34m\u001b[1mtrain: \u001b[0m/kaggle/working/datasets/hand-keypoints/train/images/IMG_00023752.jpg: ignoring corrupt image/label: non-normalized or out of bounds coordinates [     1.0017      1.0083]\n",
      "\u001b[34m\u001b[1mtrain: \u001b[0m/kaggle/working/datasets/hand-keypoints/train/images/IMG_00023754.jpg: ignoring corrupt image/label: non-normalized or out of bounds coordinates [     1.0004]\n",
      "\u001b[34m\u001b[1mtrain: \u001b[0m/kaggle/working/datasets/hand-keypoints/train/images/IMG_00023755.jpg: ignoring corrupt image/label: non-normalized or out of bounds coordinates [     1.0032      1.0107]\n",
      "\u001b[34m\u001b[1mtrain: \u001b[0m/kaggle/working/datasets/hand-keypoints/train/images/IMG_00023756.jpg: ignoring corrupt image/label: non-normalized or out of bounds coordinates [      1.004      1.0071]\n",
      "\u001b[34m\u001b[1mtrain: \u001b[0m/kaggle/working/datasets/hand-keypoints/train/images/IMG_00023758.jpg: ignoring corrupt image/label: non-normalized or out of bounds coordinates [     1.0031]\n",
      "\u001b[34m\u001b[1mtrain: \u001b[0m/kaggle/working/datasets/hand-keypoints/train/images/IMG_00024072.jpg: ignoring corrupt image/label: non-normalized or out of bounds coordinates [     1.0004]\n",
      "\u001b[34m\u001b[1mtrain: \u001b[0m/kaggle/working/datasets/hand-keypoints/train/images/IMG_00024483.jpg: ignoring corrupt image/label: non-normalized or out of bounds coordinates [     1.0033]\n",
      "\u001b[34m\u001b[1mtrain: \u001b[0m/kaggle/working/datasets/hand-keypoints/train/images/IMG_00024526.jpg: ignoring corrupt image/label: non-normalized or out of bounds coordinates [     1.0012]\n",
      "\u001b[34m\u001b[1mtrain: \u001b[0m/kaggle/working/datasets/hand-keypoints/train/images/IMG_00024527.jpg: ignoring corrupt image/label: non-normalized or out of bounds coordinates [     1.0167]\n",
      "\u001b[34m\u001b[1mtrain: \u001b[0m/kaggle/working/datasets/hand-keypoints/train/images/IMG_00024530.jpg: ignoring corrupt image/label: non-normalized or out of bounds coordinates [     1.0037      1.0012]\n",
      "\u001b[34m\u001b[1mtrain: \u001b[0m/kaggle/working/datasets/hand-keypoints/train/images/IMG_00024531.jpg: ignoring corrupt image/label: non-normalized or out of bounds coordinates [     1.0406]\n",
      "\u001b[34m\u001b[1mtrain: \u001b[0m/kaggle/working/datasets/hand-keypoints/train/images/IMG_00024558.jpg: ignoring corrupt image/label: non-normalized or out of bounds coordinates [      1.011      1.0785]\n",
      "\u001b[34m\u001b[1mtrain: \u001b[0m/kaggle/working/datasets/hand-keypoints/train/images/IMG_00024569.jpg: ignoring corrupt image/label: non-normalized or out of bounds coordinates [     1.0049]\n",
      "\u001b[34m\u001b[1mtrain: \u001b[0m/kaggle/working/datasets/hand-keypoints/train/images/IMG_00024648.jpg: ignoring corrupt image/label: non-normalized or out of bounds coordinates [      1.012]\n",
      "\u001b[34m\u001b[1mtrain: \u001b[0m/kaggle/working/datasets/hand-keypoints/train/images/IMG_00024671.jpg: ignoring corrupt image/label: non-normalized or out of bounds coordinates [      1.025      1.0413      1.0504]\n",
      "\u001b[34m\u001b[1mtrain: \u001b[0m/kaggle/working/datasets/hand-keypoints/train/images/IMG_00024672.jpg: ignoring corrupt image/label: non-normalized or out of bounds coordinates [     1.0461      1.0958]\n",
      "\u001b[34m\u001b[1mtrain: \u001b[0m/kaggle/working/datasets/hand-keypoints/train/images/IMG_00024673.jpg: ignoring corrupt image/label: non-normalized or out of bounds coordinates [     1.0305      1.0921      1.1508]\n",
      "\u001b[34m\u001b[1mtrain: \u001b[0m/kaggle/working/datasets/hand-keypoints/train/images/IMG_00024716.jpg: ignoring corrupt image/label: non-normalized or out of bounds coordinates [     1.0119      1.0612]\n",
      "\u001b[34m\u001b[1mtrain: \u001b[0m/kaggle/working/datasets/hand-keypoints/train/images/IMG_00024718.jpg: ignoring corrupt image/label: non-normalized or out of bounds coordinates [     1.0204]\n",
      "\u001b[34m\u001b[1mtrain: \u001b[0m/kaggle/working/datasets/hand-keypoints/train/images/IMG_00024723.jpg: ignoring corrupt image/label: non-normalized or out of bounds coordinates [     1.0195]\n",
      "\u001b[34m\u001b[1mtrain: \u001b[0m/kaggle/working/datasets/hand-keypoints/train/images/IMG_00024724.jpg: ignoring corrupt image/label: non-normalized or out of bounds coordinates [     1.0008      1.0306]\n",
      "\u001b[34m\u001b[1mtrain: \u001b[0m/kaggle/working/datasets/hand-keypoints/train/images/IMG_00024734.jpg: ignoring corrupt image/label: non-normalized or out of bounds coordinates [     1.0241]\n",
      "\u001b[34m\u001b[1mtrain: \u001b[0m/kaggle/working/datasets/hand-keypoints/train/images/IMG_00024735.jpg: ignoring corrupt image/label: non-normalized or out of bounds coordinates [     1.0358]\n",
      "\u001b[34m\u001b[1mtrain: \u001b[0m/kaggle/working/datasets/hand-keypoints/train/images/IMG_00024736.jpg: ignoring corrupt image/label: non-normalized or out of bounds coordinates [     1.0153      1.0684]\n",
      "\u001b[34m\u001b[1mtrain: \u001b[0m/kaggle/working/datasets/hand-keypoints/train/images/IMG_00024737.jpg: ignoring corrupt image/label: non-normalized or out of bounds coordinates [     1.0329      1.0938]\n",
      "\u001b[34m\u001b[1mtrain: \u001b[0m/kaggle/working/datasets/hand-keypoints/train/images/IMG_00024820.jpg: ignoring corrupt image/label: non-normalized or out of bounds coordinates [     1.0053      1.0129       1.045]\n",
      "\u001b[34m\u001b[1mtrain: \u001b[0m/kaggle/working/datasets/hand-keypoints/train/images/IMG_00024835.jpg: ignoring corrupt image/label: non-normalized or out of bounds coordinates [     1.0082      1.0256]\n",
      "\u001b[34m\u001b[1mtrain: \u001b[0m/kaggle/working/datasets/hand-keypoints/train/images/IMG_00024836.jpg: ignoring corrupt image/label: non-normalized or out of bounds coordinates [     1.0037      1.0252      1.0554]\n",
      "\u001b[34m\u001b[1mtrain: \u001b[0m/kaggle/working/datasets/hand-keypoints/train/images/IMG_00024845.jpg: ignoring corrupt image/label: non-normalized or out of bounds coordinates [     1.0197]\n",
      "\u001b[34m\u001b[1mtrain: \u001b[0m/kaggle/working/datasets/hand-keypoints/train/images/IMG_00024914.jpg: ignoring corrupt image/label: non-normalized or out of bounds coordinates [     1.0287]\n",
      "\u001b[34m\u001b[1mtrain: \u001b[0m/kaggle/working/datasets/hand-keypoints/train/images/IMG_00024967.jpg: ignoring corrupt image/label: non-normalized or out of bounds coordinates [     1.0084]\n",
      "\u001b[34m\u001b[1mtrain: \u001b[0m/kaggle/working/datasets/hand-keypoints/train/images/IMG_00025039.jpg: ignoring corrupt image/label: non-normalized or out of bounds coordinates [     1.0232]\n",
      "\u001b[34m\u001b[1mtrain: \u001b[0m/kaggle/working/datasets/hand-keypoints/train/images/IMG_00025040.jpg: ignoring corrupt image/label: non-normalized or out of bounds coordinates [     1.0114      1.0376]\n",
      "\u001b[34m\u001b[1mtrain: \u001b[0m/kaggle/working/datasets/hand-keypoints/train/images/IMG_00025043.jpg: ignoring corrupt image/label: non-normalized or out of bounds coordinates [     1.0045      1.0132      1.0304]\n",
      "\u001b[34m\u001b[1mtrain: \u001b[0m/kaggle/working/datasets/hand-keypoints/train/images/IMG_00025157.jpg: ignoring corrupt image/label: non-normalized or out of bounds coordinates [     1.0133]\n",
      "\u001b[34m\u001b[1mtrain: \u001b[0m/kaggle/working/datasets/hand-keypoints/train/images/IMG_00025159.jpg: ignoring corrupt image/label: non-normalized or out of bounds coordinates [      1.006]\n",
      "\u001b[34m\u001b[1mtrain: \u001b[0m/kaggle/working/datasets/hand-keypoints/train/images/IMG_00025160.jpg: ignoring corrupt image/label: non-normalized or out of bounds coordinates [     1.0125]\n",
      "\u001b[34m\u001b[1mtrain: \u001b[0m/kaggle/working/datasets/hand-keypoints/train/images/IMG_00025163.jpg: ignoring corrupt image/label: non-normalized or out of bounds coordinates [     1.0229]\n",
      "\u001b[34m\u001b[1mtrain: \u001b[0m/kaggle/working/datasets/hand-keypoints/train/images/IMG_00025164.jpg: ignoring corrupt image/label: non-normalized or out of bounds coordinates [     1.0247]\n",
      "\u001b[34m\u001b[1mtrain: \u001b[0m/kaggle/working/datasets/hand-keypoints/train/images/IMG_00025228.jpg: ignoring corrupt image/label: non-normalized or out of bounds coordinates [     1.0149]\n",
      "\u001b[34m\u001b[1mtrain: \u001b[0m/kaggle/working/datasets/hand-keypoints/train/images/IMG_00025237.jpg: ignoring corrupt image/label: non-normalized or out of bounds coordinates [     1.0436]\n",
      "\u001b[34m\u001b[1mtrain: \u001b[0m/kaggle/working/datasets/hand-keypoints/train/images/IMG_00025241.jpg: ignoring corrupt image/label: non-normalized or out of bounds coordinates [     1.0159]\n",
      "\u001b[34m\u001b[1mtrain: \u001b[0m/kaggle/working/datasets/hand-keypoints/train/images/IMG_00025242.jpg: ignoring corrupt image/label: non-normalized or out of bounds coordinates [     1.0131]\n",
      "\u001b[34m\u001b[1mtrain: \u001b[0m/kaggle/working/datasets/hand-keypoints/train/images/IMG_00025244.jpg: ignoring corrupt image/label: non-normalized or out of bounds coordinates [     1.0122]\n",
      "\u001b[34m\u001b[1mtrain: \u001b[0m/kaggle/working/datasets/hand-keypoints/train/images/IMG_00025246.jpg: ignoring corrupt image/label: non-normalized or out of bounds coordinates [     1.0086]\n",
      "\u001b[34m\u001b[1mtrain: \u001b[0m/kaggle/working/datasets/hand-keypoints/train/images/IMG_00025331.jpg: ignoring corrupt image/label: non-normalized or out of bounds coordinates [     1.0633]\n",
      "\u001b[34m\u001b[1mtrain: \u001b[0m/kaggle/working/datasets/hand-keypoints/train/images/IMG_00025366.jpg: ignoring corrupt image/label: non-normalized or out of bounds coordinates [     1.0299      1.0779]\n",
      "\u001b[34m\u001b[1mtrain: \u001b[0m/kaggle/working/datasets/hand-keypoints/train/images/IMG_00025412.jpg: ignoring corrupt image/label: non-normalized or out of bounds coordinates [     1.0096]\n",
      "\u001b[34m\u001b[1mtrain: \u001b[0m/kaggle/working/datasets/hand-keypoints/train/images/IMG_00025474.jpg: ignoring corrupt image/label: non-normalized or out of bounds coordinates [     1.0096]\n",
      "\u001b[34m\u001b[1mtrain: \u001b[0m/kaggle/working/datasets/hand-keypoints/train/images/IMG_00025478.jpg: ignoring corrupt image/label: non-normalized or out of bounds coordinates [     1.0048]\n",
      "\u001b[34m\u001b[1mtrain: \u001b[0m/kaggle/working/datasets/hand-keypoints/train/images/IMG_00025502.jpg: ignoring corrupt image/label: non-normalized or out of bounds coordinates [     1.0183]\n",
      "\u001b[34m\u001b[1mtrain: \u001b[0m/kaggle/working/datasets/hand-keypoints/train/images/IMG_00025572.jpg: ignoring corrupt image/label: non-normalized or out of bounds coordinates [     1.0598      1.1242]\n",
      "\u001b[34m\u001b[1mtrain: \u001b[0m/kaggle/working/datasets/hand-keypoints/train/images/IMG_00025573.jpg: ignoring corrupt image/label: non-normalized or out of bounds coordinates [     1.0869]\n",
      "\u001b[34m\u001b[1mtrain: \u001b[0m/kaggle/working/datasets/hand-keypoints/train/images/IMG_00025574.jpg: ignoring corrupt image/label: non-normalized or out of bounds coordinates [     1.0636]\n",
      "\u001b[34m\u001b[1mtrain: \u001b[0m/kaggle/working/datasets/hand-keypoints/train/images/IMG_00025604.jpg: ignoring corrupt image/label: non-normalized or out of bounds coordinates [       1.04      1.1085      1.0055]\n",
      "\u001b[34m\u001b[1mtrain: \u001b[0m/kaggle/working/datasets/hand-keypoints/train/images/IMG_00025605.jpg: ignoring corrupt image/label: non-normalized or out of bounds coordinates [     1.0718]\n",
      "\u001b[34m\u001b[1mtrain: \u001b[0m/kaggle/working/datasets/hand-keypoints/train/images/IMG_00025606.jpg: ignoring corrupt image/label: non-normalized or out of bounds coordinates [     1.0708]\n",
      "\u001b[34m\u001b[1mtrain: \u001b[0m/kaggle/working/datasets/hand-keypoints/train/images/IMG_00025607.jpg: ignoring corrupt image/label: non-normalized or out of bounds coordinates [     1.0058      1.0856]\n",
      "\u001b[34m\u001b[1mtrain: \u001b[0m/kaggle/working/datasets/hand-keypoints/train/images/IMG_00025611.jpg: ignoring corrupt image/label: non-normalized or out of bounds coordinates [     1.0818       1.178]\n",
      "\u001b[34m\u001b[1mtrain: \u001b[0m/kaggle/working/datasets/hand-keypoints/train/images/IMG_00025612.jpg: ignoring corrupt image/label: non-normalized or out of bounds coordinates [     1.0596       1.146]\n",
      "\u001b[34m\u001b[1mtrain: \u001b[0m/kaggle/working/datasets/hand-keypoints/train/images/IMG_00025613.jpg: ignoring corrupt image/label: non-normalized or out of bounds coordinates [     1.0002      1.0586]\n",
      "\u001b[34m\u001b[1mtrain: \u001b[0m/kaggle/working/datasets/hand-keypoints/train/images/IMG_00025640.jpg: ignoring corrupt image/label: non-normalized or out of bounds coordinates [     1.0112]\n",
      "\u001b[34m\u001b[1mtrain: \u001b[0m/kaggle/working/datasets/hand-keypoints/train/images/IMG_00025641.jpg: ignoring corrupt image/label: non-normalized or out of bounds coordinates [     1.0109]\n",
      "\u001b[34m\u001b[1mtrain: \u001b[0m/kaggle/working/datasets/hand-keypoints/train/images/IMG_00025643.jpg: ignoring corrupt image/label: non-normalized or out of bounds coordinates [     1.0228]\n",
      "\u001b[34m\u001b[1mtrain: \u001b[0m/kaggle/working/datasets/hand-keypoints/train/images/IMG_00025644.jpg: ignoring corrupt image/label: non-normalized or out of bounds coordinates [     1.0092]\n",
      "\u001b[34m\u001b[1mtrain: \u001b[0m/kaggle/working/datasets/hand-keypoints/train/images/IMG_00025648.jpg: ignoring corrupt image/label: non-normalized or out of bounds coordinates [     1.0087]\n",
      "\u001b[34m\u001b[1mtrain: \u001b[0m/kaggle/working/datasets/hand-keypoints/train/images/IMG_00025649.jpg: ignoring corrupt image/label: non-normalized or out of bounds coordinates [     1.0011]\n",
      "\u001b[34m\u001b[1mtrain: \u001b[0m/kaggle/working/datasets/hand-keypoints/train/images/IMG_00025665.jpg: ignoring corrupt image/label: non-normalized or out of bounds coordinates [       1.02      1.0116       1.025]\n",
      "\u001b[34m\u001b[1mtrain: \u001b[0m/kaggle/working/datasets/hand-keypoints/train/images/IMG_00025666.jpg: ignoring corrupt image/label: non-normalized or out of bounds coordinates [     1.0228      1.0089       1.032]\n",
      "\u001b[34m\u001b[1mtrain: \u001b[0m/kaggle/working/datasets/hand-keypoints/train/images/IMG_00025670.jpg: ignoring corrupt image/label: non-normalized or out of bounds coordinates [     1.0047      1.0165]\n",
      "\u001b[34m\u001b[1mtrain: \u001b[0m/kaggle/working/datasets/hand-keypoints/train/images/IMG_00025671.jpg: ignoring corrupt image/label: non-normalized or out of bounds coordinates [     1.0084      1.0434]\n",
      "\u001b[34m\u001b[1mtrain: \u001b[0m/kaggle/working/datasets/hand-keypoints/train/images/IMG_00025672.jpg: ignoring corrupt image/label: non-normalized or out of bounds coordinates [      1.044      1.1133      1.0034]\n",
      "\u001b[34m\u001b[1mtrain: \u001b[0m/kaggle/working/datasets/hand-keypoints/train/images/IMG_00025761.jpg: ignoring corrupt image/label: non-normalized or out of bounds coordinates [     1.0342]\n",
      "\u001b[34m\u001b[1mtrain: \u001b[0m/kaggle/working/datasets/hand-keypoints/train/images/IMG_00025772.jpg: ignoring corrupt image/label: non-normalized or out of bounds coordinates [     1.0084]\n",
      "\u001b[34m\u001b[1mtrain: \u001b[0m/kaggle/working/datasets/hand-keypoints/train/images/IMG_00025825.jpg: ignoring corrupt image/label: non-normalized or out of bounds coordinates [     1.0084]\n",
      "\u001b[34m\u001b[1mtrain: \u001b[0m/kaggle/working/datasets/hand-keypoints/train/images/IMG_00025856.jpg: ignoring corrupt image/label: non-normalized or out of bounds coordinates [      1.031]\n",
      "\u001b[34m\u001b[1mtrain: \u001b[0m/kaggle/working/datasets/hand-keypoints/train/images/IMG_00025857.jpg: ignoring corrupt image/label: non-normalized or out of bounds coordinates [     1.0112]\n",
      "\u001b[34m\u001b[1mtrain: \u001b[0m/kaggle/working/datasets/hand-keypoints/train/images/IMG_00025858.jpg: ignoring corrupt image/label: non-normalized or out of bounds coordinates [     1.0077]\n",
      "\u001b[34m\u001b[1mtrain: \u001b[0m/kaggle/working/datasets/hand-keypoints/train/images/IMG_00025958.jpg: ignoring corrupt image/label: non-normalized or out of bounds coordinates [     1.0749]\n",
      "\u001b[34m\u001b[1mtrain: \u001b[0m/kaggle/working/datasets/hand-keypoints/train/images/IMG_00025959.jpg: ignoring corrupt image/label: non-normalized or out of bounds coordinates [     1.0956]\n",
      "\u001b[34m\u001b[1mtrain: \u001b[0m/kaggle/working/datasets/hand-keypoints/train/images/IMG_00025960.jpg: ignoring corrupt image/label: non-normalized or out of bounds coordinates [     1.0855]\n",
      "\u001b[34m\u001b[1mtrain: \u001b[0m/kaggle/working/datasets/hand-keypoints/train/images/IMG_00025961.jpg: ignoring corrupt image/label: non-normalized or out of bounds coordinates [     1.0899]\n",
      "\u001b[34m\u001b[1mtrain: \u001b[0m/kaggle/working/datasets/hand-keypoints/train/images/IMG_00025963.jpg: ignoring corrupt image/label: non-normalized or out of bounds coordinates [     1.0745]\n",
      "\u001b[34m\u001b[1mtrain: \u001b[0m/kaggle/working/datasets/hand-keypoints/train/images/IMG_00025964.jpg: ignoring corrupt image/label: non-normalized or out of bounds coordinates [     1.0881]\n",
      "\u001b[34m\u001b[1mtrain: \u001b[0m/kaggle/working/datasets/hand-keypoints/train/images/IMG_00026048.jpg: ignoring corrupt image/label: non-normalized or out of bounds coordinates [     1.0179]\n",
      "\u001b[34m\u001b[1mtrain: \u001b[0m/kaggle/working/datasets/hand-keypoints/train/images/IMG_00026217.jpg: ignoring corrupt image/label: non-normalized or out of bounds coordinates [     1.0078]\n",
      "\u001b[34m\u001b[1mtrain: \u001b[0m/kaggle/working/datasets/hand-keypoints/train/images/IMG_00026218.jpg: ignoring corrupt image/label: non-normalized or out of bounds coordinates [     1.0046]\n",
      "\u001b[34m\u001b[1mtrain: \u001b[0m/kaggle/working/datasets/hand-keypoints/train/images/IMG_00026253.jpg: ignoring corrupt image/label: non-normalized or out of bounds coordinates [     1.0193]\n",
      "\u001b[34m\u001b[1mtrain: \u001b[0m/kaggle/working/datasets/hand-keypoints/train/images/IMG_00026505.jpg: ignoring corrupt image/label: non-normalized or out of bounds coordinates [     1.0128]\n",
      "\u001b[34m\u001b[1mtrain: \u001b[0m/kaggle/working/datasets/hand-keypoints/train/images/IMG_00026820.jpg: ignoring corrupt image/label: non-normalized or out of bounds coordinates [     1.0009      1.0329]\n",
      "\u001b[34m\u001b[1mtrain: \u001b[0m/kaggle/working/datasets/hand-keypoints/train/images/IMG_00026822.jpg: ignoring corrupt image/label: non-normalized or out of bounds coordinates [      1.009      1.0411]\n",
      "\u001b[34m\u001b[1mtrain: \u001b[0m/kaggle/working/datasets/hand-keypoints/train/images/IMG_00026824.jpg: ignoring corrupt image/label: non-normalized or out of bounds coordinates [      1.001      1.0314]\n",
      "\u001b[34m\u001b[1mtrain: \u001b[0m/kaggle/working/datasets/hand-keypoints/train/images/IMG_00026825.jpg: ignoring corrupt image/label: non-normalized or out of bounds coordinates [     1.0227]\n",
      "\u001b[34m\u001b[1mtrain: \u001b[0m/kaggle/working/datasets/hand-keypoints/train/images/IMG_00026826.jpg: ignoring corrupt image/label: non-normalized or out of bounds coordinates [     1.0049      1.0298]\n",
      "\u001b[34m\u001b[1mtrain: \u001b[0m/kaggle/working/datasets/hand-keypoints/train/images/IMG_00026827.jpg: ignoring corrupt image/label: non-normalized or out of bounds coordinates [     1.0047      1.0323]\n",
      "\u001b[34m\u001b[1mtrain: \u001b[0m/kaggle/working/datasets/hand-keypoints/train/images/IMG_00027074.jpg: ignoring corrupt image/label: non-normalized or out of bounds coordinates [     1.0105]\n",
      "\u001b[34m\u001b[1mtrain: \u001b[0m/kaggle/working/datasets/hand-keypoints/train/images/IMG_00027076.jpg: ignoring corrupt image/label: non-normalized or out of bounds coordinates [     1.0232]\n",
      "\u001b[34m\u001b[1mtrain: \u001b[0m/kaggle/working/datasets/hand-keypoints/train/images/IMG_00027077.jpg: ignoring corrupt image/label: non-normalized or out of bounds coordinates [     1.0185]\n",
      "\u001b[34m\u001b[1mtrain: \u001b[0m/kaggle/working/datasets/hand-keypoints/train/images/IMG_00027078.jpg: ignoring corrupt image/label: non-normalized or out of bounds coordinates [     1.0162]\n",
      "\u001b[34m\u001b[1mtrain: \u001b[0m/kaggle/working/datasets/hand-keypoints/train/images/IMG_00027079.jpg: ignoring corrupt image/label: non-normalized or out of bounds coordinates [     1.0139]\n",
      "\u001b[34m\u001b[1mtrain: \u001b[0m/kaggle/working/datasets/hand-keypoints/train/images/IMG_00027346.jpg: ignoring corrupt image/label: non-normalized or out of bounds coordinates [     1.0005]\n",
      "\u001b[34m\u001b[1mtrain: \u001b[0m/kaggle/working/datasets/hand-keypoints/train/images/IMG_00027347.jpg: ignoring corrupt image/label: non-normalized or out of bounds coordinates [     1.0046]\n",
      "\u001b[34m\u001b[1mtrain: \u001b[0m/kaggle/working/datasets/hand-keypoints/train/images/IMG_00027348.jpg: ignoring corrupt image/label: non-normalized or out of bounds coordinates [     1.0063]\n",
      "\u001b[34m\u001b[1mtrain: \u001b[0m/kaggle/working/datasets/hand-keypoints/train/images/IMG_00027702.jpg: ignoring corrupt image/label: non-normalized or out of bounds coordinates [     1.0055]\n",
      "\u001b[34m\u001b[1mtrain: \u001b[0m/kaggle/working/datasets/hand-keypoints/train/images/IMG_00027706.jpg: ignoring corrupt image/label: non-normalized or out of bounds coordinates [     1.0057]\n",
      "\u001b[34m\u001b[1mtrain: \u001b[0m/kaggle/working/datasets/hand-keypoints/train/images/IMG_00027707.jpg: ignoring corrupt image/label: non-normalized or out of bounds coordinates [          1]\n",
      "\u001b[34m\u001b[1mtrain: \u001b[0m/kaggle/working/datasets/hand-keypoints/train/images/IMG_00027708.jpg: ignoring corrupt image/label: non-normalized or out of bounds coordinates [     1.0128]\n",
      "\u001b[34m\u001b[1mtrain: \u001b[0m/kaggle/working/datasets/hand-keypoints/train/images/IMG_00027709.jpg: ignoring corrupt image/label: non-normalized or out of bounds coordinates [     1.0131]\n",
      "\u001b[34m\u001b[1mtrain: \u001b[0m/kaggle/working/datasets/hand-keypoints/train/images/IMG_00027710.jpg: ignoring corrupt image/label: non-normalized or out of bounds coordinates [     1.0128]\n",
      "\u001b[34m\u001b[1mtrain: \u001b[0m/kaggle/working/datasets/hand-keypoints/train/images/IMG_00027711.jpg: ignoring corrupt image/label: non-normalized or out of bounds coordinates [     1.0141]\n",
      "\u001b[34m\u001b[1mtrain: \u001b[0m/kaggle/working/datasets/hand-keypoints/train/images/IMG_00027712.jpg: ignoring corrupt image/label: non-normalized or out of bounds coordinates [     1.0175]\n",
      "\u001b[34m\u001b[1mtrain: \u001b[0m/kaggle/working/datasets/hand-keypoints/train/images/IMG_00027713.jpg: ignoring corrupt image/label: non-normalized or out of bounds coordinates [     1.0136]\n",
      "\u001b[34m\u001b[1mtrain: \u001b[0m/kaggle/working/datasets/hand-keypoints/train/images/IMG_00027714.jpg: ignoring corrupt image/label: non-normalized or out of bounds coordinates [     1.0076]\n",
      "\u001b[34m\u001b[1mtrain: \u001b[0m/kaggle/working/datasets/hand-keypoints/train/images/IMG_00027715.jpg: ignoring corrupt image/label: non-normalized or out of bounds coordinates [      1.021]\n",
      "\u001b[34m\u001b[1mtrain: \u001b[0m/kaggle/working/datasets/hand-keypoints/train/images/IMG_00027716.jpg: ignoring corrupt image/label: non-normalized or out of bounds coordinates [     1.0143]\n",
      "\u001b[34m\u001b[1mtrain: \u001b[0m/kaggle/working/datasets/hand-keypoints/train/images/IMG_00027717.jpg: ignoring corrupt image/label: non-normalized or out of bounds coordinates [     1.0125]\n",
      "\u001b[34m\u001b[1mtrain: \u001b[0m/kaggle/working/datasets/hand-keypoints/train/images/IMG_00027718.jpg: ignoring corrupt image/label: non-normalized or out of bounds coordinates [     1.0119]\n",
      "\u001b[34m\u001b[1mtrain: \u001b[0m/kaggle/working/datasets/hand-keypoints/train/images/IMG_00027974.jpg: ignoring corrupt image/label: non-normalized or out of bounds coordinates [      1.013]\n",
      "\u001b[34m\u001b[1mtrain: \u001b[0m/kaggle/working/datasets/hand-keypoints/train/images/IMG_00027975.jpg: ignoring corrupt image/label: non-normalized or out of bounds coordinates [      1.001      1.0322]\n",
      "\u001b[34m\u001b[1mtrain: \u001b[0m/kaggle/working/datasets/hand-keypoints/train/images/IMG_00027977.jpg: ignoring corrupt image/label: non-normalized or out of bounds coordinates [     1.0041      1.0484       1.095]\n",
      "\u001b[34m\u001b[1mtrain: \u001b[0m/kaggle/working/datasets/hand-keypoints/train/images/IMG_00027978.jpg: ignoring corrupt image/label: non-normalized or out of bounds coordinates [     1.0109      1.0981      1.1791]\n",
      "\u001b[34m\u001b[1mtrain: \u001b[0m/kaggle/working/datasets/hand-keypoints/train/images/IMG_00027979.jpg: ignoring corrupt image/label: non-normalized or out of bounds coordinates [     1.0122]\n",
      "\u001b[34m\u001b[1mtrain: \u001b[0m/kaggle/working/datasets/hand-keypoints/train/images/IMG_00027995.jpg: ignoring corrupt image/label: non-normalized or out of bounds coordinates [     1.0035      1.0399]\n",
      "\u001b[34m\u001b[1mtrain: \u001b[0m/kaggle/working/datasets/hand-keypoints/train/images/IMG_00027996.jpg: ignoring corrupt image/label: non-normalized or out of bounds coordinates [     1.0057       1.047]\n",
      "\u001b[34m\u001b[1mtrain: \u001b[0m/kaggle/working/datasets/hand-keypoints/train/images/IMG_00033677.jpg: ignoring corrupt image/label: non-normalized or out of bounds coordinates [     1.0025]\n",
      "\u001b[34m\u001b[1mtrain: \u001b[0m/kaggle/working/datasets/hand-keypoints/train/images/IMG_00034297.jpg: ignoring corrupt image/label: non-normalized or out of bounds coordinates [     1.0166]\n",
      "\u001b[34m\u001b[1mtrain: \u001b[0m/kaggle/working/datasets/hand-keypoints/train/images/IMG_00034298.jpg: ignoring corrupt image/label: non-normalized or out of bounds coordinates [      1.031]\n",
      "\u001b[34m\u001b[1mtrain: \u001b[0m/kaggle/working/datasets/hand-keypoints/train/images/IMG_00034299.jpg: ignoring corrupt image/label: non-normalized or out of bounds coordinates [     1.0378]\n",
      "\u001b[34m\u001b[1mtrain: \u001b[0m/kaggle/working/datasets/hand-keypoints/train/images/IMG_00034300.jpg: ignoring corrupt image/label: non-normalized or out of bounds coordinates [     1.0359]\n",
      "\u001b[34m\u001b[1mtrain: \u001b[0m/kaggle/working/datasets/hand-keypoints/train/images/IMG_00034301.jpg: ignoring corrupt image/label: non-normalized or out of bounds coordinates [     1.0384]\n",
      "\u001b[34m\u001b[1mtrain: \u001b[0m/kaggle/working/datasets/hand-keypoints/train/images/IMG_00034348.jpg: ignoring corrupt image/label: non-normalized or out of bounds coordinates [     1.0159]\n",
      "\u001b[34m\u001b[1mtrain: \u001b[0m/kaggle/working/datasets/hand-keypoints/train/images/IMG_00034416.jpg: ignoring corrupt image/label: non-normalized or out of bounds coordinates [     1.0078]\n",
      "\u001b[34m\u001b[1mtrain: \u001b[0m/kaggle/working/datasets/hand-keypoints/train/images/IMG_00034417.jpg: ignoring corrupt image/label: non-normalized or out of bounds coordinates [      1.007]\n",
      "\u001b[34m\u001b[1mtrain: \u001b[0m/kaggle/working/datasets/hand-keypoints/train/images/IMG_00034418.jpg: ignoring corrupt image/label: non-normalized or out of bounds coordinates [     1.0102]\n",
      "\u001b[34m\u001b[1mtrain: \u001b[0m/kaggle/working/datasets/hand-keypoints/train/images/IMG_00034419.jpg: ignoring corrupt image/label: non-normalized or out of bounds coordinates [     1.0104]\n",
      "\u001b[34m\u001b[1mtrain: \u001b[0m/kaggle/working/datasets/hand-keypoints/train/images/IMG_00034422.jpg: ignoring corrupt image/label: non-normalized or out of bounds coordinates [     1.0028]\n",
      "\u001b[34m\u001b[1mtrain: \u001b[0m/kaggle/working/datasets/hand-keypoints/train/images/IMG_00034469.jpg: ignoring corrupt image/label: non-normalized or out of bounds coordinates [     1.0086]\n",
      "\u001b[34m\u001b[1mtrain: \u001b[0m/kaggle/working/datasets/hand-keypoints/train/images/IMG_00034526.jpg: ignoring corrupt image/label: non-normalized or out of bounds coordinates [     1.0112]\n",
      "\u001b[34m\u001b[1mtrain: \u001b[0m/kaggle/working/datasets/hand-keypoints/train/images/IMG_00034528.jpg: ignoring corrupt image/label: non-normalized or out of bounds coordinates [     1.0069]\n",
      "\u001b[34m\u001b[1mtrain: \u001b[0m/kaggle/working/datasets/hand-keypoints/train/images/IMG_00034529.jpg: ignoring corrupt image/label: non-normalized or out of bounds coordinates [     1.0068]\n",
      "\u001b[34m\u001b[1mtrain: \u001b[0m/kaggle/working/datasets/hand-keypoints/train/images/IMG_00034829.jpg: ignoring corrupt image/label: non-normalized or out of bounds coordinates [     1.0088]\n",
      "\u001b[34m\u001b[1mtrain: \u001b[0m/kaggle/working/datasets/hand-keypoints/train/images/IMG_00034947.jpg: ignoring corrupt image/label: non-normalized or out of bounds coordinates [     1.0169]\n",
      "\u001b[34m\u001b[1mtrain: \u001b[0m/kaggle/working/datasets/hand-keypoints/train/images/IMG_00034948.jpg: ignoring corrupt image/label: non-normalized or out of bounds coordinates [     1.0249]\n",
      "\u001b[34m\u001b[1mtrain: \u001b[0m/kaggle/working/datasets/hand-keypoints/train/images/IMG_00034949.jpg: ignoring corrupt image/label: non-normalized or out of bounds coordinates [     1.0464]\n",
      "\u001b[34m\u001b[1mtrain: \u001b[0m/kaggle/working/datasets/hand-keypoints/train/images/IMG_00034950.jpg: ignoring corrupt image/label: non-normalized or out of bounds coordinates [     1.0261]\n",
      "\u001b[34m\u001b[1mtrain: \u001b[0m/kaggle/working/datasets/hand-keypoints/train/images/IMG_00034951.jpg: ignoring corrupt image/label: non-normalized or out of bounds coordinates [     1.0258]\n",
      "\u001b[34m\u001b[1mtrain: \u001b[0m/kaggle/working/datasets/hand-keypoints/train/images/IMG_00034952.jpg: ignoring corrupt image/label: non-normalized or out of bounds coordinates [     1.0128]\n",
      "\u001b[34m\u001b[1mtrain: \u001b[0m/kaggle/working/datasets/hand-keypoints/train/images/IMG_00034960.jpg: ignoring corrupt image/label: non-normalized or out of bounds coordinates [     1.0245]\n",
      "\u001b[34m\u001b[1mtrain: \u001b[0m/kaggle/working/datasets/hand-keypoints/train/images/IMG_00034961.jpg: ignoring corrupt image/label: non-normalized or out of bounds coordinates [     1.0343]\n",
      "\u001b[34m\u001b[1mtrain: \u001b[0m/kaggle/working/datasets/hand-keypoints/train/images/IMG_00035026.jpg: ignoring corrupt image/label: non-normalized or out of bounds coordinates [     1.0054]\n",
      "\u001b[34m\u001b[1mtrain: \u001b[0m/kaggle/working/datasets/hand-keypoints/train/images/IMG_00035029.jpg: ignoring corrupt image/label: non-normalized or out of bounds coordinates [     1.0136]\n",
      "\u001b[34m\u001b[1mtrain: \u001b[0m/kaggle/working/datasets/hand-keypoints/train/images/IMG_00035056.jpg: ignoring corrupt image/label: non-normalized or out of bounds coordinates [     1.0351]\n",
      "\u001b[34m\u001b[1mtrain: \u001b[0m/kaggle/working/datasets/hand-keypoints/train/images/IMG_00035058.jpg: ignoring corrupt image/label: non-normalized or out of bounds coordinates [     1.0384]\n",
      "\u001b[34m\u001b[1mtrain: \u001b[0m/kaggle/working/datasets/hand-keypoints/train/images/IMG_00035121.jpg: ignoring corrupt image/label: non-normalized or out of bounds coordinates [       1.08]\n",
      "\u001b[34m\u001b[1mtrain: \u001b[0m/kaggle/working/datasets/hand-keypoints/train/images/IMG_00035122.jpg: ignoring corrupt image/label: non-normalized or out of bounds coordinates [     1.0694]\n",
      "\u001b[34m\u001b[1mtrain: \u001b[0m/kaggle/working/datasets/hand-keypoints/train/images/IMG_00035124.jpg: ignoring corrupt image/label: non-normalized or out of bounds coordinates [      1.041]\n",
      "\u001b[34m\u001b[1mtrain: \u001b[0m/kaggle/working/datasets/hand-keypoints/train/images/IMG_00035126.jpg: ignoring corrupt image/label: non-normalized or out of bounds coordinates [     1.0521]\n",
      "\u001b[34m\u001b[1mtrain: \u001b[0m/kaggle/working/datasets/hand-keypoints/train/images/IMG_00035440.jpg: ignoring corrupt image/label: non-normalized or out of bounds coordinates [     1.0165]\n",
      "\u001b[34m\u001b[1mtrain: \u001b[0m/kaggle/working/datasets/hand-keypoints/train/images/IMG_00035442.jpg: ignoring corrupt image/label: non-normalized or out of bounds coordinates [     1.0132]\n"
     ]
    },
    {
     "name": "stderr",
     "output_type": "stream",
     "text": [
      "\n"
     ]
    },
    {
     "name": "stdout",
     "output_type": "stream",
     "text": [
      "\u001b[34m\u001b[1mtrain: \u001b[0mNew cache created: /kaggle/working/datasets/hand-keypoints/train/labels.cache\n",
      "\u001b[34m\u001b[1malbumentations: \u001b[0mBlur(p=0.01, blur_limit=(3, 7)), MedianBlur(p=0.01, blur_limit=(3, 7)), ToGray(p=0.01, num_output_channels=3, method='weighted_average'), CLAHE(p=0.01, clip_limit=(1.0, 4.0), tile_grid_size=(8, 8))\n",
      "\u001b[34m\u001b[1mval: \u001b[0mFast image access ✅ (ping: 0.0±0.0 ms, read: 266.6±71.7 MB/s, size: 12.9 KB)\n"
     ]
    },
    {
     "name": "stderr",
     "output_type": "stream",
     "text": [
      "\u001b[34m\u001b[1mval: \u001b[0mScanning /kaggle/working/datasets/hand-keypoints/val/labels... 7992 images, 0 backgrounds, 184 corrupt: 100%|██████████| 7992/7992 [00:08<00:00, 983.37it/s] "
     ]
    },
    {
     "name": "stdout",
     "output_type": "stream",
     "text": [
      "\u001b[34m\u001b[1mval: \u001b[0m/kaggle/working/datasets/hand-keypoints/val/images/IMG_00001798.jpg: ignoring corrupt image/label: non-normalized or out of bounds coordinates [     1.0001]\n",
      "\u001b[34m\u001b[1mval: \u001b[0m/kaggle/working/datasets/hand-keypoints/val/images/IMG_00001884.jpg: ignoring corrupt image/label: non-normalized or out of bounds coordinates [     1.0002      1.0106      1.0375       1.046      1.0307       1.016      1.0683      1.0766      1.0667]\n",
      "\u001b[34m\u001b[1mval: \u001b[0m/kaggle/working/datasets/hand-keypoints/val/images/IMG_00001885.jpg: ignoring corrupt image/label: non-normalized or out of bounds coordinates [     1.0049      1.0064      1.0104      1.0126]\n",
      "\u001b[34m\u001b[1mval: \u001b[0m/kaggle/working/datasets/hand-keypoints/val/images/IMG_00001996.jpg: ignoring corrupt image/label: non-normalized or out of bounds coordinates [     1.0029]\n",
      "\u001b[34m\u001b[1mval: \u001b[0m/kaggle/working/datasets/hand-keypoints/val/images/IMG_00001997.jpg: ignoring corrupt image/label: non-normalized or out of bounds coordinates [     1.0053]\n",
      "\u001b[34m\u001b[1mval: \u001b[0m/kaggle/working/datasets/hand-keypoints/val/images/IMG_00002004.jpg: ignoring corrupt image/label: non-normalized or out of bounds coordinates [     1.0202]\n",
      "\u001b[34m\u001b[1mval: \u001b[0m/kaggle/working/datasets/hand-keypoints/val/images/IMG_00002142.jpg: ignoring corrupt image/label: non-normalized or out of bounds coordinates [     1.0163]\n",
      "\u001b[34m\u001b[1mval: \u001b[0m/kaggle/working/datasets/hand-keypoints/val/images/IMG_00002145.jpg: ignoring corrupt image/label: non-normalized or out of bounds coordinates [     1.0362      1.0124]\n",
      "\u001b[34m\u001b[1mval: \u001b[0m/kaggle/working/datasets/hand-keypoints/val/images/IMG_00002452.jpg: ignoring corrupt image/label: non-normalized or out of bounds coordinates [      1.014]\n",
      "\u001b[34m\u001b[1mval: \u001b[0m/kaggle/working/datasets/hand-keypoints/val/images/IMG_00002743.jpg: ignoring corrupt image/label: non-normalized or out of bounds coordinates [     1.0082]\n",
      "\u001b[34m\u001b[1mval: \u001b[0m/kaggle/working/datasets/hand-keypoints/val/images/IMG_00002748.jpg: ignoring corrupt image/label: non-normalized or out of bounds coordinates [     1.0652       1.014]\n",
      "\u001b[34m\u001b[1mval: \u001b[0m/kaggle/working/datasets/hand-keypoints/val/images/IMG_00002750.jpg: ignoring corrupt image/label: non-normalized or out of bounds coordinates [     1.0621      1.0135]\n",
      "\u001b[34m\u001b[1mval: \u001b[0m/kaggle/working/datasets/hand-keypoints/val/images/IMG_00002753.jpg: ignoring corrupt image/label: non-normalized or out of bounds coordinates [     1.0538      1.0036]\n",
      "\u001b[34m\u001b[1mval: \u001b[0m/kaggle/working/datasets/hand-keypoints/val/images/IMG_00002759.jpg: ignoring corrupt image/label: non-normalized or out of bounds coordinates [      1.004      1.0955]\n",
      "\u001b[34m\u001b[1mval: \u001b[0m/kaggle/working/datasets/hand-keypoints/val/images/IMG_00002990.jpg: ignoring corrupt image/label: non-normalized or out of bounds coordinates [     1.0018       1.005      1.0057       1.006]\n",
      "\u001b[34m\u001b[1mval: \u001b[0m/kaggle/working/datasets/hand-keypoints/val/images/IMG_00002995.jpg: ignoring corrupt image/label: non-normalized or out of bounds coordinates [     1.0131      1.0258]\n",
      "\u001b[34m\u001b[1mval: \u001b[0m/kaggle/working/datasets/hand-keypoints/val/images/IMG_00003003.jpg: ignoring corrupt image/label: non-normalized or out of bounds coordinates [     1.0256      1.0387      1.0251      1.0392      1.0155      1.0286      1.0047      1.0172]\n",
      "\u001b[34m\u001b[1mval: \u001b[0m/kaggle/working/datasets/hand-keypoints/val/images/IMG_00003107.jpg: ignoring corrupt image/label: non-normalized or out of bounds coordinates [     1.0463]\n",
      "\u001b[34m\u001b[1mval: \u001b[0m/kaggle/working/datasets/hand-keypoints/val/images/IMG_00003110.jpg: ignoring corrupt image/label: non-normalized or out of bounds coordinates [      1.077      1.0252]\n",
      "\u001b[34m\u001b[1mval: \u001b[0m/kaggle/working/datasets/hand-keypoints/val/images/IMG_00003112.jpg: ignoring corrupt image/label: non-normalized or out of bounds coordinates [     1.0607      1.0144]\n",
      "\u001b[34m\u001b[1mval: \u001b[0m/kaggle/working/datasets/hand-keypoints/val/images/IMG_00003113.jpg: ignoring corrupt image/label: non-normalized or out of bounds coordinates [     1.0215]\n",
      "\u001b[34m\u001b[1mval: \u001b[0m/kaggle/working/datasets/hand-keypoints/val/images/IMG_00003165.jpg: ignoring corrupt image/label: non-normalized or out of bounds coordinates [     1.0131      1.0007       1.019      1.0084]\n",
      "\u001b[34m\u001b[1mval: \u001b[0m/kaggle/working/datasets/hand-keypoints/val/images/IMG_00003267.jpg: ignoring corrupt image/label: non-normalized or out of bounds coordinates [     1.0011]\n",
      "\u001b[34m\u001b[1mval: \u001b[0m/kaggle/working/datasets/hand-keypoints/val/images/IMG_00003373.jpg: ignoring corrupt image/label: non-normalized or out of bounds coordinates [     1.0044      1.0104      1.0154      1.0422      1.0528      1.0594]\n",
      "\u001b[34m\u001b[1mval: \u001b[0m/kaggle/working/datasets/hand-keypoints/val/images/IMG_00003374.jpg: ignoring corrupt image/label: non-normalized or out of bounds coordinates [      1.003      1.0119      1.0218      1.0031      1.0215      1.0294      1.0369      1.0232      1.0379      1.0464      1.0533]\n",
      "\u001b[34m\u001b[1mval: \u001b[0m/kaggle/working/datasets/hand-keypoints/val/images/IMG_00003386.jpg: ignoring corrupt image/label: non-normalized or out of bounds coordinates [     1.0196      1.0371      1.0255      1.0436      1.0596]\n",
      "\u001b[34m\u001b[1mval: \u001b[0m/kaggle/working/datasets/hand-keypoints/val/images/IMG_00003389.jpg: ignoring corrupt image/label: non-normalized or out of bounds coordinates [     1.0003      1.0206       1.038      1.0248      1.0428      1.0588]\n",
      "\u001b[34m\u001b[1mval: \u001b[0m/kaggle/working/datasets/hand-keypoints/val/images/IMG_00003432.jpg: ignoring corrupt image/label: non-normalized or out of bounds coordinates [     1.0285]\n",
      "\u001b[34m\u001b[1mval: \u001b[0m/kaggle/working/datasets/hand-keypoints/val/images/IMG_00003433.jpg: ignoring corrupt image/label: non-normalized or out of bounds coordinates [     1.0516]\n",
      "\u001b[34m\u001b[1mval: \u001b[0m/kaggle/working/datasets/hand-keypoints/val/images/IMG_00003435.jpg: ignoring corrupt image/label: non-normalized or out of bounds coordinates [     1.0782      1.0305]\n",
      "\u001b[34m\u001b[1mval: \u001b[0m/kaggle/working/datasets/hand-keypoints/val/images/IMG_00003436.jpg: ignoring corrupt image/label: non-normalized or out of bounds coordinates [     1.0658      1.0146]\n",
      "\u001b[34m\u001b[1mval: \u001b[0m/kaggle/working/datasets/hand-keypoints/val/images/IMG_00003437.jpg: ignoring corrupt image/label: non-normalized or out of bounds coordinates [     1.0717      1.0134]\n",
      "\u001b[34m\u001b[1mval: \u001b[0m/kaggle/working/datasets/hand-keypoints/val/images/IMG_00003441.jpg: ignoring corrupt image/label: non-normalized or out of bounds coordinates [     1.0714      1.0012]\n",
      "\u001b[34m\u001b[1mval: \u001b[0m/kaggle/working/datasets/hand-keypoints/val/images/IMG_00003493.jpg: ignoring corrupt image/label: non-normalized or out of bounds coordinates [     1.0193]\n",
      "\u001b[34m\u001b[1mval: \u001b[0m/kaggle/working/datasets/hand-keypoints/val/images/IMG_00003594.jpg: ignoring corrupt image/label: non-normalized or out of bounds coordinates [     1.0035      1.0087       1.022      1.0271      1.0303]\n",
      "\u001b[34m\u001b[1mval: \u001b[0m/kaggle/working/datasets/hand-keypoints/val/images/IMG_00003851.jpg: ignoring corrupt image/label: non-normalized or out of bounds coordinates [     1.0404      1.0673       1.088]\n",
      "\u001b[34m\u001b[1mval: \u001b[0m/kaggle/working/datasets/hand-keypoints/val/images/IMG_00003858.jpg: ignoring corrupt image/label: non-normalized or out of bounds coordinates [     1.0223      1.0134      1.0017      1.0087      1.0974      1.1178      1.1361]\n",
      "\u001b[34m\u001b[1mval: \u001b[0m/kaggle/working/datasets/hand-keypoints/val/images/IMG_00003860.jpg: ignoring corrupt image/label: non-normalized or out of bounds coordinates [     1.0141      1.0102      1.0026      1.0888      1.1266      1.1606]\n",
      "\u001b[34m\u001b[1mval: \u001b[0m/kaggle/working/datasets/hand-keypoints/val/images/IMG_00004039.jpg: ignoring corrupt image/label: non-normalized or out of bounds coordinates [     1.0094]\n",
      "\u001b[34m\u001b[1mval: \u001b[0m/kaggle/working/datasets/hand-keypoints/val/images/IMG_00004040.jpg: ignoring corrupt image/label: non-normalized or out of bounds coordinates [     1.0068]\n",
      "\u001b[34m\u001b[1mval: \u001b[0m/kaggle/working/datasets/hand-keypoints/val/images/IMG_00004043.jpg: ignoring corrupt image/label: non-normalized or out of bounds coordinates [     1.0093]\n",
      "\u001b[34m\u001b[1mval: \u001b[0m/kaggle/working/datasets/hand-keypoints/val/images/IMG_00004252.jpg: ignoring corrupt image/label: non-normalized or out of bounds coordinates [     1.0922      1.0439]\n",
      "\u001b[34m\u001b[1mval: \u001b[0m/kaggle/working/datasets/hand-keypoints/val/images/IMG_00004368.jpg: ignoring corrupt image/label: non-normalized or out of bounds coordinates [     1.0078      1.0154      1.0229]\n",
      "\u001b[34m\u001b[1mval: \u001b[0m/kaggle/working/datasets/hand-keypoints/val/images/IMG_00004426.jpg: ignoring corrupt image/label: non-normalized or out of bounds coordinates [     1.0044]\n",
      "\u001b[34m\u001b[1mval: \u001b[0m/kaggle/working/datasets/hand-keypoints/val/images/IMG_00004428.jpg: ignoring corrupt image/label: non-normalized or out of bounds coordinates [     1.1128      1.0317]\n",
      "\u001b[34m\u001b[1mval: \u001b[0m/kaggle/working/datasets/hand-keypoints/val/images/IMG_00004490.jpg: ignoring corrupt image/label: non-normalized or out of bounds coordinates [     1.0538      1.0044]\n",
      "\u001b[34m\u001b[1mval: \u001b[0m/kaggle/working/datasets/hand-keypoints/val/images/IMG_00004581.jpg: ignoring corrupt image/label: non-normalized or out of bounds coordinates [     1.0584      1.0504]\n",
      "\u001b[34m\u001b[1mval: \u001b[0m/kaggle/working/datasets/hand-keypoints/val/images/IMG_00004583.jpg: ignoring corrupt image/label: non-normalized or out of bounds coordinates [     1.0345      1.0199]\n",
      "\u001b[34m\u001b[1mval: \u001b[0m/kaggle/working/datasets/hand-keypoints/val/images/IMG_00004937.jpg: ignoring corrupt image/label: non-normalized or out of bounds coordinates [     1.0006]\n",
      "\u001b[34m\u001b[1mval: \u001b[0m/kaggle/working/datasets/hand-keypoints/val/images/IMG_00005124.jpg: ignoring corrupt image/label: non-normalized or out of bounds coordinates [     1.0298]\n",
      "\u001b[34m\u001b[1mval: \u001b[0m/kaggle/working/datasets/hand-keypoints/val/images/IMG_00005349.jpg: ignoring corrupt image/label: non-normalized or out of bounds coordinates [     1.0054      1.0004      1.0198]\n",
      "\u001b[34m\u001b[1mval: \u001b[0m/kaggle/working/datasets/hand-keypoints/val/images/IMG_00005352.jpg: ignoring corrupt image/label: non-normalized or out of bounds coordinates [     1.0392      1.0602      1.0339      1.0683      1.0882       1.057      1.0888      1.1079      1.0137      1.0693      1.0982      1.1184]\n",
      "\u001b[34m\u001b[1mval: \u001b[0m/kaggle/working/datasets/hand-keypoints/val/images/IMG_00005354.jpg: ignoring corrupt image/label: non-normalized or out of bounds coordinates [     1.0106      1.0268      1.0253      1.0371      1.0186      1.0437      1.0569      1.0254      1.0497      1.0663]\n",
      "\u001b[34m\u001b[1mval: \u001b[0m/kaggle/working/datasets/hand-keypoints/val/images/IMG_00005361.jpg: ignoring corrupt image/label: non-normalized or out of bounds coordinates [     1.0127      1.0003]\n",
      "\u001b[34m\u001b[1mval: \u001b[0m/kaggle/working/datasets/hand-keypoints/val/images/IMG_00005362.jpg: ignoring corrupt image/label: non-normalized or out of bounds coordinates [     1.0033      1.0088      1.0046]\n",
      "\u001b[34m\u001b[1mval: \u001b[0m/kaggle/working/datasets/hand-keypoints/val/images/IMG_00005364.jpg: ignoring corrupt image/label: non-normalized or out of bounds coordinates [     1.0199      1.0003      1.0104]\n",
      "\u001b[34m\u001b[1mval: \u001b[0m/kaggle/working/datasets/hand-keypoints/val/images/IMG_00005629.jpg: ignoring corrupt image/label: non-normalized or out of bounds coordinates [     1.0035       1.022      1.0165      1.0367       1.053      1.0132      1.0399      1.0563      1.0694]\n",
      "\u001b[34m\u001b[1mval: \u001b[0m/kaggle/working/datasets/hand-keypoints/val/images/IMG_00006056.jpg: ignoring corrupt image/label: non-normalized or out of bounds coordinates [     1.0038      1.0051       1.004]\n",
      "\u001b[34m\u001b[1mval: \u001b[0m/kaggle/working/datasets/hand-keypoints/val/images/IMG_00006197.jpg: ignoring corrupt image/label: non-normalized or out of bounds coordinates [      1.005      1.0113      1.0171      1.0191       1.021      1.0207      1.0188]\n",
      "\u001b[34m\u001b[1mval: \u001b[0m/kaggle/working/datasets/hand-keypoints/val/images/IMG_00006367.jpg: ignoring corrupt image/label: non-normalized or out of bounds coordinates [     1.0201      1.0404       1.009      1.0365      1.0573      1.0741]\n",
      "\u001b[34m\u001b[1mval: \u001b[0m/kaggle/working/datasets/hand-keypoints/val/images/IMG_00006368.jpg: ignoring corrupt image/label: non-normalized or out of bounds coordinates [     1.0059      1.0126      1.0335]\n",
      "\u001b[34m\u001b[1mval: \u001b[0m/kaggle/working/datasets/hand-keypoints/val/images/IMG_00006496.jpg: ignoring corrupt image/label: non-normalized or out of bounds coordinates [     1.0309]\n",
      "\u001b[34m\u001b[1mval: \u001b[0m/kaggle/working/datasets/hand-keypoints/val/images/IMG_00006500.jpg: ignoring corrupt image/label: non-normalized or out of bounds coordinates [     1.0097      1.0048]\n",
      "\u001b[34m\u001b[1mval: \u001b[0m/kaggle/working/datasets/hand-keypoints/val/images/IMG_00006502.jpg: ignoring corrupt image/label: non-normalized or out of bounds coordinates [       1.02      1.0133]\n",
      "\u001b[34m\u001b[1mval: \u001b[0m/kaggle/working/datasets/hand-keypoints/val/images/IMG_00006504.jpg: ignoring corrupt image/label: non-normalized or out of bounds coordinates [      1.031      1.0228]\n",
      "\u001b[34m\u001b[1mval: \u001b[0m/kaggle/working/datasets/hand-keypoints/val/images/IMG_00006546.jpg: ignoring corrupt image/label: non-normalized or out of bounds coordinates [     1.0158]\n",
      "\u001b[34m\u001b[1mval: \u001b[0m/kaggle/working/datasets/hand-keypoints/val/images/IMG_00006622.jpg: ignoring corrupt image/label: non-normalized or out of bounds coordinates [     1.0235       1.013]\n",
      "\u001b[34m\u001b[1mval: \u001b[0m/kaggle/working/datasets/hand-keypoints/val/images/IMG_00006623.jpg: ignoring corrupt image/label: non-normalized or out of bounds coordinates [     1.0254      1.0144]\n",
      "\u001b[34m\u001b[1mval: \u001b[0m/kaggle/working/datasets/hand-keypoints/val/images/IMG_00006624.jpg: ignoring corrupt image/label: non-normalized or out of bounds coordinates [     1.0404      1.0188]\n",
      "\u001b[34m\u001b[1mval: \u001b[0m/kaggle/working/datasets/hand-keypoints/val/images/IMG_00006649.jpg: ignoring corrupt image/label: non-normalized or out of bounds coordinates [     1.0006      1.0099]\n",
      "\u001b[34m\u001b[1mval: \u001b[0m/kaggle/working/datasets/hand-keypoints/val/images/IMG_00006651.jpg: ignoring corrupt image/label: non-normalized or out of bounds coordinates [     1.0264      1.0289      1.0207      1.0305      1.0575      1.0579      1.0489]\n",
      "\u001b[34m\u001b[1mval: \u001b[0m/kaggle/working/datasets/hand-keypoints/val/images/IMG_00006755.jpg: ignoring corrupt image/label: non-normalized or out of bounds coordinates [     1.0122]\n",
      "\u001b[34m\u001b[1mval: \u001b[0m/kaggle/working/datasets/hand-keypoints/val/images/IMG_00007187.jpg: ignoring corrupt image/label: non-normalized or out of bounds coordinates [     1.0129      1.0238]\n",
      "\u001b[34m\u001b[1mval: \u001b[0m/kaggle/working/datasets/hand-keypoints/val/images/IMG_00007302.jpg: ignoring corrupt image/label: non-normalized or out of bounds coordinates [     1.0099]\n",
      "\u001b[34m\u001b[1mval: \u001b[0m/kaggle/working/datasets/hand-keypoints/val/images/IMG_00007809.jpg: ignoring corrupt image/label: non-normalized or out of bounds coordinates [     1.0001      1.0027]\n",
      "\u001b[34m\u001b[1mval: \u001b[0m/kaggle/working/datasets/hand-keypoints/val/images/IMG_00008070.jpg: ignoring corrupt image/label: non-normalized or out of bounds coordinates [     1.0078      1.0316]\n",
      "\u001b[34m\u001b[1mval: \u001b[0m/kaggle/working/datasets/hand-keypoints/val/images/IMG_00008073.jpg: ignoring corrupt image/label: non-normalized or out of bounds coordinates [     1.0025      1.0269      1.0338      1.0357      1.0405      1.0645      1.0713      1.0779      1.0698      1.0974      1.1056      1.1133       1.093      1.1204      1.1296      1.1378]\n",
      "\u001b[34m\u001b[1mval: \u001b[0m/kaggle/working/datasets/hand-keypoints/val/images/IMG_00008192.jpg: ignoring corrupt image/label: non-normalized or out of bounds coordinates [     1.0039      1.0157      1.0046      1.0179]\n",
      "\u001b[34m\u001b[1mval: \u001b[0m/kaggle/working/datasets/hand-keypoints/val/images/IMG_00008315.jpg: ignoring corrupt image/label: non-normalized or out of bounds coordinates [     1.0045]\n",
      "\u001b[34m\u001b[1mval: \u001b[0m/kaggle/working/datasets/hand-keypoints/val/images/IMG_00008368.jpg: ignoring corrupt image/label: non-normalized or out of bounds coordinates [     1.0381]\n",
      "\u001b[34m\u001b[1mval: \u001b[0m/kaggle/working/datasets/hand-keypoints/val/images/IMG_00008370.jpg: ignoring corrupt image/label: non-normalized or out of bounds coordinates [     1.0526]\n",
      "\u001b[34m\u001b[1mval: \u001b[0m/kaggle/working/datasets/hand-keypoints/val/images/IMG_00008375.jpg: ignoring corrupt image/label: non-normalized or out of bounds coordinates [     1.0563      1.0126]\n",
      "\u001b[34m\u001b[1mval: \u001b[0m/kaggle/working/datasets/hand-keypoints/val/images/IMG_00008377.jpg: ignoring corrupt image/label: non-normalized or out of bounds coordinates [     1.0441      1.0021]\n",
      "\u001b[34m\u001b[1mval: \u001b[0m/kaggle/working/datasets/hand-keypoints/val/images/IMG_00008378.jpg: ignoring corrupt image/label: non-normalized or out of bounds coordinates [     1.0419      1.0024]\n",
      "\u001b[34m\u001b[1mval: \u001b[0m/kaggle/working/datasets/hand-keypoints/val/images/IMG_00008379.jpg: ignoring corrupt image/label: non-normalized or out of bounds coordinates [     1.0399       1.005]\n",
      "\u001b[34m\u001b[1mval: \u001b[0m/kaggle/working/datasets/hand-keypoints/val/images/IMG_00009392.jpg: ignoring corrupt image/label: non-normalized or out of bounds coordinates [     1.0607       1.078      1.1002]\n",
      "\u001b[34m\u001b[1mval: \u001b[0m/kaggle/working/datasets/hand-keypoints/val/images/IMG_00009641.jpg: ignoring corrupt image/label: non-normalized or out of bounds coordinates [      1.009]\n",
      "\u001b[34m\u001b[1mval: \u001b[0m/kaggle/working/datasets/hand-keypoints/val/images/IMG_00009648.jpg: ignoring corrupt image/label: non-normalized or out of bounds coordinates [      1.001]\n",
      "\u001b[34m\u001b[1mval: \u001b[0m/kaggle/working/datasets/hand-keypoints/val/images/IMG_00009668.jpg: ignoring corrupt image/label: non-normalized or out of bounds coordinates [     1.0021      1.0087      1.0294      1.0165      1.0311      1.0186      1.0306      1.0136      1.0266]\n",
      "\u001b[34m\u001b[1mval: \u001b[0m/kaggle/working/datasets/hand-keypoints/val/images/IMG_00009669.jpg: ignoring corrupt image/label: non-normalized or out of bounds coordinates [     1.0038      1.0081      1.0304      1.0184      1.0352      1.0219      1.0358      1.0184       1.033]\n",
      "\u001b[34m\u001b[1mval: \u001b[0m/kaggle/working/datasets/hand-keypoints/val/images/IMG_00009783.jpg: ignoring corrupt image/label: non-normalized or out of bounds coordinates [     1.0052]\n",
      "\u001b[34m\u001b[1mval: \u001b[0m/kaggle/working/datasets/hand-keypoints/val/images/IMG_00009784.jpg: ignoring corrupt image/label: non-normalized or out of bounds coordinates [     1.0433]\n",
      "\u001b[34m\u001b[1mval: \u001b[0m/kaggle/working/datasets/hand-keypoints/val/images/IMG_00010145.jpg: ignoring corrupt image/label: non-normalized or out of bounds coordinates [     1.0383]\n",
      "\u001b[34m\u001b[1mval: \u001b[0m/kaggle/working/datasets/hand-keypoints/val/images/IMG_00010208.jpg: ignoring corrupt image/label: non-normalized or out of bounds coordinates [     1.0278]\n",
      "\u001b[34m\u001b[1mval: \u001b[0m/kaggle/working/datasets/hand-keypoints/val/images/IMG_00010622.jpg: ignoring corrupt image/label: non-normalized or out of bounds coordinates [     1.0089]\n",
      "\u001b[34m\u001b[1mval: \u001b[0m/kaggle/working/datasets/hand-keypoints/val/images/IMG_00010624.jpg: ignoring corrupt image/label: non-normalized or out of bounds coordinates [     1.0416      1.0044]\n",
      "\u001b[34m\u001b[1mval: \u001b[0m/kaggle/working/datasets/hand-keypoints/val/images/IMG_00010625.jpg: ignoring corrupt image/label: non-normalized or out of bounds coordinates [     1.0426      1.0087]\n",
      "\u001b[34m\u001b[1mval: \u001b[0m/kaggle/working/datasets/hand-keypoints/val/images/IMG_00010629.jpg: ignoring corrupt image/label: non-normalized or out of bounds coordinates [     1.0776      1.0449]\n",
      "\u001b[34m\u001b[1mval: \u001b[0m/kaggle/working/datasets/hand-keypoints/val/images/IMG_00010630.jpg: ignoring corrupt image/label: non-normalized or out of bounds coordinates [     1.0901      1.0618]\n",
      "\u001b[34m\u001b[1mval: \u001b[0m/kaggle/working/datasets/hand-keypoints/val/images/IMG_00010836.jpg: ignoring corrupt image/label: non-normalized or out of bounds coordinates [      1.026      1.0303      1.0448]\n",
      "\u001b[34m\u001b[1mval: \u001b[0m/kaggle/working/datasets/hand-keypoints/val/images/IMG_00010839.jpg: ignoring corrupt image/label: non-normalized or out of bounds coordinates [     1.0039]\n",
      "\u001b[34m\u001b[1mval: \u001b[0m/kaggle/working/datasets/hand-keypoints/val/images/IMG_00011376.jpg: ignoring corrupt image/label: non-normalized or out of bounds coordinates [     1.0061      1.0061       1.005]\n",
      "\u001b[34m\u001b[1mval: \u001b[0m/kaggle/working/datasets/hand-keypoints/val/images/IMG_00011443.jpg: ignoring corrupt image/label: non-normalized or out of bounds coordinates [     1.0294]\n",
      "\u001b[34m\u001b[1mval: \u001b[0m/kaggle/working/datasets/hand-keypoints/val/images/IMG_00012734.jpg: ignoring corrupt image/label: non-normalized or out of bounds coordinates [     1.0361      1.0111]\n",
      "\u001b[34m\u001b[1mval: \u001b[0m/kaggle/working/datasets/hand-keypoints/val/images/IMG_00013507.jpg: ignoring corrupt image/label: non-normalized or out of bounds coordinates [     1.0183]\n",
      "\u001b[34m\u001b[1mval: \u001b[0m/kaggle/working/datasets/hand-keypoints/val/images/IMG_00013511.jpg: ignoring corrupt image/label: non-normalized or out of bounds coordinates [      1.019]\n",
      "\u001b[34m\u001b[1mval: \u001b[0m/kaggle/working/datasets/hand-keypoints/val/images/IMG_00013513.jpg: ignoring corrupt image/label: non-normalized or out of bounds coordinates [     1.0222]\n",
      "\u001b[34m\u001b[1mval: \u001b[0m/kaggle/working/datasets/hand-keypoints/val/images/IMG_00014530.jpg: ignoring corrupt image/label: non-normalized or out of bounds coordinates [     1.0015      1.0085      1.0071      1.0056      1.0083      1.0031      1.0062       1.009      1.0048      1.0017      1.0068      1.0056]\n",
      "\u001b[34m\u001b[1mval: \u001b[0m/kaggle/working/datasets/hand-keypoints/val/images/IMG_00014544.jpg: ignoring corrupt image/label: non-normalized or out of bounds coordinates [     1.0019      1.0155      1.0136      1.0073      1.0122      1.0053      1.0068]\n",
      "\u001b[34m\u001b[1mval: \u001b[0m/kaggle/working/datasets/hand-keypoints/val/images/IMG_00015180.jpg: ignoring corrupt image/label: non-normalized or out of bounds coordinates [     1.0035      1.0139       1.014       1.028      1.0373]\n",
      "\u001b[34m\u001b[1mval: \u001b[0m/kaggle/working/datasets/hand-keypoints/val/images/IMG_00015227.jpg: ignoring corrupt image/label: non-normalized or out of bounds coordinates [     1.0179      1.0305      1.0362]\n",
      "\u001b[34m\u001b[1mval: \u001b[0m/kaggle/working/datasets/hand-keypoints/val/images/IMG_00016736.jpg: ignoring corrupt image/label: non-normalized or out of bounds coordinates [     1.0208]\n",
      "\u001b[34m\u001b[1mval: \u001b[0m/kaggle/working/datasets/hand-keypoints/val/images/IMG_00016737.jpg: ignoring corrupt image/label: non-normalized or out of bounds coordinates [     1.0265]\n",
      "\u001b[34m\u001b[1mval: \u001b[0m/kaggle/working/datasets/hand-keypoints/val/images/IMG_00016738.jpg: ignoring corrupt image/label: non-normalized or out of bounds coordinates [     1.0408      1.0113]\n",
      "\u001b[34m\u001b[1mval: \u001b[0m/kaggle/working/datasets/hand-keypoints/val/images/IMG_00016855.jpg: ignoring corrupt image/label: non-normalized or out of bounds coordinates [     1.0467      1.0238]\n",
      "\u001b[34m\u001b[1mval: \u001b[0m/kaggle/working/datasets/hand-keypoints/val/images/IMG_00016859.jpg: ignoring corrupt image/label: non-normalized or out of bounds coordinates [     1.0646      1.0095]\n",
      "\u001b[34m\u001b[1mval: \u001b[0m/kaggle/working/datasets/hand-keypoints/val/images/IMG_00017306.jpg: ignoring corrupt image/label: non-normalized or out of bounds coordinates [     1.0721      1.0198]\n",
      "\u001b[34m\u001b[1mval: \u001b[0m/kaggle/working/datasets/hand-keypoints/val/images/IMG_00018650.jpg: ignoring corrupt image/label: non-normalized or out of bounds coordinates [     1.0335      1.0055]\n",
      "\u001b[34m\u001b[1mval: \u001b[0m/kaggle/working/datasets/hand-keypoints/val/images/IMG_00018652.jpg: ignoring corrupt image/label: non-normalized or out of bounds coordinates [     1.0171]\n",
      "\u001b[34m\u001b[1mval: \u001b[0m/kaggle/working/datasets/hand-keypoints/val/images/IMG_00018940.jpg: ignoring corrupt image/label: non-normalized or out of bounds coordinates [     1.0196]\n",
      "\u001b[34m\u001b[1mval: \u001b[0m/kaggle/working/datasets/hand-keypoints/val/images/IMG_00019286.jpg: ignoring corrupt image/label: non-normalized or out of bounds coordinates [     1.0141]\n",
      "\u001b[34m\u001b[1mval: \u001b[0m/kaggle/working/datasets/hand-keypoints/val/images/IMG_00019288.jpg: ignoring corrupt image/label: non-normalized or out of bounds coordinates [      1.012]\n",
      "\u001b[34m\u001b[1mval: \u001b[0m/kaggle/working/datasets/hand-keypoints/val/images/IMG_00019979.jpg: ignoring corrupt image/label: non-normalized or out of bounds coordinates [     1.0063]\n",
      "\u001b[34m\u001b[1mval: \u001b[0m/kaggle/working/datasets/hand-keypoints/val/images/IMG_00020313.jpg: ignoring corrupt image/label: non-normalized or out of bounds coordinates [     1.0136      1.0309]\n",
      "\u001b[34m\u001b[1mval: \u001b[0m/kaggle/working/datasets/hand-keypoints/val/images/IMG_00020605.jpg: ignoring corrupt image/label: non-normalized or out of bounds coordinates [     1.0286      1.0169]\n",
      "\u001b[34m\u001b[1mval: \u001b[0m/kaggle/working/datasets/hand-keypoints/val/images/IMG_00020610.jpg: ignoring corrupt image/label: non-normalized or out of bounds coordinates [     1.1015      1.0391]\n",
      "\u001b[34m\u001b[1mval: \u001b[0m/kaggle/working/datasets/hand-keypoints/val/images/IMG_00021089.jpg: ignoring corrupt image/label: non-normalized or out of bounds coordinates [     1.0222]\n",
      "\u001b[34m\u001b[1mval: \u001b[0m/kaggle/working/datasets/hand-keypoints/val/images/IMG_00021090.jpg: ignoring corrupt image/label: non-normalized or out of bounds coordinates [     1.0269]\n",
      "\u001b[34m\u001b[1mval: \u001b[0m/kaggle/working/datasets/hand-keypoints/val/images/IMG_00021634.jpg: ignoring corrupt image/label: non-normalized or out of bounds coordinates [     1.0086]\n",
      "\u001b[34m\u001b[1mval: \u001b[0m/kaggle/working/datasets/hand-keypoints/val/images/IMG_00022171.jpg: ignoring corrupt image/label: non-normalized or out of bounds coordinates [     1.0388      1.0178]\n",
      "\u001b[34m\u001b[1mval: \u001b[0m/kaggle/working/datasets/hand-keypoints/val/images/IMG_00022316.jpg: ignoring corrupt image/label: non-normalized or out of bounds coordinates [     1.0503      1.0218]\n",
      "\u001b[34m\u001b[1mval: \u001b[0m/kaggle/working/datasets/hand-keypoints/val/images/IMG_00022319.jpg: ignoring corrupt image/label: non-normalized or out of bounds coordinates [     1.0913      1.0549]\n",
      "\u001b[34m\u001b[1mval: \u001b[0m/kaggle/working/datasets/hand-keypoints/val/images/IMG_00022320.jpg: ignoring corrupt image/label: non-normalized or out of bounds coordinates [      1.105      1.0617]\n",
      "\u001b[34m\u001b[1mval: \u001b[0m/kaggle/working/datasets/hand-keypoints/val/images/IMG_00023069.jpg: ignoring corrupt image/label: non-normalized or out of bounds coordinates [     1.0035]\n",
      "\u001b[34m\u001b[1mval: \u001b[0m/kaggle/working/datasets/hand-keypoints/val/images/IMG_00023757.jpg: ignoring corrupt image/label: non-normalized or out of bounds coordinates [     1.0078      1.0056]\n",
      "\u001b[34m\u001b[1mval: \u001b[0m/kaggle/working/datasets/hand-keypoints/val/images/IMG_00023759.jpg: ignoring corrupt image/label: non-normalized or out of bounds coordinates [     1.0042      1.0125]\n",
      "\u001b[34m\u001b[1mval: \u001b[0m/kaggle/working/datasets/hand-keypoints/val/images/IMG_00024545.jpg: ignoring corrupt image/label: non-normalized or out of bounds coordinates [     1.0049      1.0167]\n",
      "\u001b[34m\u001b[1mval: \u001b[0m/kaggle/working/datasets/hand-keypoints/val/images/IMG_00024568.jpg: ignoring corrupt image/label: non-normalized or out of bounds coordinates [     1.0195]\n",
      "\u001b[34m\u001b[1mval: \u001b[0m/kaggle/working/datasets/hand-keypoints/val/images/IMG_00024670.jpg: ignoring corrupt image/label: non-normalized or out of bounds coordinates [     1.0176      1.0662       1.115]\n",
      "\u001b[34m\u001b[1mval: \u001b[0m/kaggle/working/datasets/hand-keypoints/val/images/IMG_00024674.jpg: ignoring corrupt image/label: non-normalized or out of bounds coordinates [     1.0295      1.0714      1.1099]\n",
      "\u001b[34m\u001b[1mval: \u001b[0m/kaggle/working/datasets/hand-keypoints/val/images/IMG_00024715.jpg: ignoring corrupt image/label: non-normalized or out of bounds coordinates [     1.0325      1.0847]\n",
      "\u001b[34m\u001b[1mval: \u001b[0m/kaggle/working/datasets/hand-keypoints/val/images/IMG_00024725.jpg: ignoring corrupt image/label: non-normalized or out of bounds coordinates [     1.0152       1.056]\n",
      "\u001b[34m\u001b[1mval: \u001b[0m/kaggle/working/datasets/hand-keypoints/val/images/IMG_00024726.jpg: ignoring corrupt image/label: non-normalized or out of bounds coordinates [     1.0372      1.0936]\n",
      "\u001b[34m\u001b[1mval: \u001b[0m/kaggle/working/datasets/hand-keypoints/val/images/IMG_00024843.jpg: ignoring corrupt image/label: non-normalized or out of bounds coordinates [     1.0065]\n",
      "\u001b[34m\u001b[1mval: \u001b[0m/kaggle/working/datasets/hand-keypoints/val/images/IMG_00024915.jpg: ignoring corrupt image/label: non-normalized or out of bounds coordinates [     1.0348]\n",
      "\u001b[34m\u001b[1mval: \u001b[0m/kaggle/working/datasets/hand-keypoints/val/images/IMG_00025165.jpg: ignoring corrupt image/label: non-normalized or out of bounds coordinates [     1.0215]\n",
      "\u001b[34m\u001b[1mval: \u001b[0m/kaggle/working/datasets/hand-keypoints/val/images/IMG_00025227.jpg: ignoring corrupt image/label: non-normalized or out of bounds coordinates [     1.0277]\n",
      "\u001b[34m\u001b[1mval: \u001b[0m/kaggle/working/datasets/hand-keypoints/val/images/IMG_00025240.jpg: ignoring corrupt image/label: non-normalized or out of bounds coordinates [     1.0029]\n",
      "\u001b[34m\u001b[1mval: \u001b[0m/kaggle/working/datasets/hand-keypoints/val/images/IMG_00025243.jpg: ignoring corrupt image/label: non-normalized or out of bounds coordinates [     1.0294]\n",
      "\u001b[34m\u001b[1mval: \u001b[0m/kaggle/working/datasets/hand-keypoints/val/images/IMG_00025367.jpg: ignoring corrupt image/label: non-normalized or out of bounds coordinates [     1.0035      1.0583      1.0963]\n",
      "\u001b[34m\u001b[1mval: \u001b[0m/kaggle/working/datasets/hand-keypoints/val/images/IMG_00025411.jpg: ignoring corrupt image/label: non-normalized or out of bounds coordinates [     1.0004      1.0947      1.0339]\n",
      "\u001b[34m\u001b[1mval: \u001b[0m/kaggle/working/datasets/hand-keypoints/val/images/IMG_00025492.jpg: ignoring corrupt image/label: non-normalized or out of bounds coordinates [     1.0107]\n",
      "\u001b[34m\u001b[1mval: \u001b[0m/kaggle/working/datasets/hand-keypoints/val/images/IMG_00025493.jpg: ignoring corrupt image/label: non-normalized or out of bounds coordinates [     1.0198]\n",
      "\u001b[34m\u001b[1mval: \u001b[0m/kaggle/working/datasets/hand-keypoints/val/images/IMG_00025501.jpg: ignoring corrupt image/label: non-normalized or out of bounds coordinates [     1.0143]\n",
      "\u001b[34m\u001b[1mval: \u001b[0m/kaggle/working/datasets/hand-keypoints/val/images/IMG_00025503.jpg: ignoring corrupt image/label: non-normalized or out of bounds coordinates [     1.0087]\n",
      "\u001b[34m\u001b[1mval: \u001b[0m/kaggle/working/datasets/hand-keypoints/val/images/IMG_00025610.jpg: ignoring corrupt image/label: non-normalized or out of bounds coordinates [       1.02      1.0758      1.1245]\n",
      "\u001b[34m\u001b[1mval: \u001b[0m/kaggle/working/datasets/hand-keypoints/val/images/IMG_00025669.jpg: ignoring corrupt image/label: non-normalized or out of bounds coordinates [     1.0228]\n",
      "\u001b[34m\u001b[1mval: \u001b[0m/kaggle/working/datasets/hand-keypoints/val/images/IMG_00025785.jpg: ignoring corrupt image/label: non-normalized or out of bounds coordinates [     1.0138]\n",
      "\u001b[34m\u001b[1mval: \u001b[0m/kaggle/working/datasets/hand-keypoints/val/images/IMG_00025826.jpg: ignoring corrupt image/label: non-normalized or out of bounds coordinates [     1.0025]\n",
      "\u001b[34m\u001b[1mval: \u001b[0m/kaggle/working/datasets/hand-keypoints/val/images/IMG_00025962.jpg: ignoring corrupt image/label: non-normalized or out of bounds coordinates [     1.0764]\n",
      "\u001b[34m\u001b[1mval: \u001b[0m/kaggle/working/datasets/hand-keypoints/val/images/IMG_00026254.jpg: ignoring corrupt image/label: non-normalized or out of bounds coordinates [     1.0257]\n",
      "\u001b[34m\u001b[1mval: \u001b[0m/kaggle/working/datasets/hand-keypoints/val/images/IMG_00026255.jpg: ignoring corrupt image/label: non-normalized or out of bounds coordinates [     1.0264]\n",
      "\u001b[34m\u001b[1mval: \u001b[0m/kaggle/working/datasets/hand-keypoints/val/images/IMG_00026506.jpg: ignoring corrupt image/label: non-normalized or out of bounds coordinates [     1.0013]\n",
      "\u001b[34m\u001b[1mval: \u001b[0m/kaggle/working/datasets/hand-keypoints/val/images/IMG_00026507.jpg: ignoring corrupt image/label: non-normalized or out of bounds coordinates [     1.0183]\n",
      "\u001b[34m\u001b[1mval: \u001b[0m/kaggle/working/datasets/hand-keypoints/val/images/IMG_00026508.jpg: ignoring corrupt image/label: non-normalized or out of bounds coordinates [     1.0182]\n",
      "\u001b[34m\u001b[1mval: \u001b[0m/kaggle/working/datasets/hand-keypoints/val/images/IMG_00026821.jpg: ignoring corrupt image/label: non-normalized or out of bounds coordinates [     1.0078      1.0395]\n",
      "\u001b[34m\u001b[1mval: \u001b[0m/kaggle/working/datasets/hand-keypoints/val/images/IMG_00026823.jpg: ignoring corrupt image/label: non-normalized or out of bounds coordinates [     1.0004       1.032]\n",
      "\u001b[34m\u001b[1mval: \u001b[0m/kaggle/working/datasets/hand-keypoints/val/images/IMG_00027075.jpg: ignoring corrupt image/label: non-normalized or out of bounds coordinates [     1.0074]\n",
      "\u001b[34m\u001b[1mval: \u001b[0m/kaggle/working/datasets/hand-keypoints/val/images/IMG_00027080.jpg: ignoring corrupt image/label: non-normalized or out of bounds coordinates [     1.0135]\n",
      "\u001b[34m\u001b[1mval: \u001b[0m/kaggle/working/datasets/hand-keypoints/val/images/IMG_00027704.jpg: ignoring corrupt image/label: non-normalized or out of bounds coordinates [     1.0027]\n",
      "\u001b[34m\u001b[1mval: \u001b[0m/kaggle/working/datasets/hand-keypoints/val/images/IMG_00027976.jpg: ignoring corrupt image/label: non-normalized or out of bounds coordinates [     1.0408      1.0878]\n",
      "\u001b[34m\u001b[1mval: \u001b[0m/kaggle/working/datasets/hand-keypoints/val/images/IMG_00027994.jpg: ignoring corrupt image/label: non-normalized or out of bounds coordinates [     1.0138]\n",
      "\u001b[34m\u001b[1mval: \u001b[0m/kaggle/working/datasets/hand-keypoints/val/images/IMG_00034349.jpg: ignoring corrupt image/label: non-normalized or out of bounds coordinates [     1.0249]\n",
      "\u001b[34m\u001b[1mval: \u001b[0m/kaggle/working/datasets/hand-keypoints/val/images/IMG_00034421.jpg: ignoring corrupt image/label: non-normalized or out of bounds coordinates [     1.0076]\n",
      "\u001b[34m\u001b[1mval: \u001b[0m/kaggle/working/datasets/hand-keypoints/val/images/IMG_00034527.jpg: ignoring corrupt image/label: non-normalized or out of bounds coordinates [     1.0115]\n",
      "\u001b[34m\u001b[1mval: \u001b[0m/kaggle/working/datasets/hand-keypoints/val/images/IMG_00034962.jpg: ignoring corrupt image/label: non-normalized or out of bounds coordinates [     1.0867]\n",
      "\u001b[34m\u001b[1mval: \u001b[0m/kaggle/working/datasets/hand-keypoints/val/images/IMG_00035027.jpg: ignoring corrupt image/label: non-normalized or out of bounds coordinates [     1.0038]\n",
      "\u001b[34m\u001b[1mval: \u001b[0m/kaggle/working/datasets/hand-keypoints/val/images/IMG_00035055.jpg: ignoring corrupt image/label: non-normalized or out of bounds coordinates [     1.0369]\n",
      "\u001b[34m\u001b[1mval: \u001b[0m/kaggle/working/datasets/hand-keypoints/val/images/IMG_00035057.jpg: ignoring corrupt image/label: non-normalized or out of bounds coordinates [     1.0388]\n",
      "\u001b[34m\u001b[1mval: \u001b[0m/kaggle/working/datasets/hand-keypoints/val/images/IMG_00035059.jpg: ignoring corrupt image/label: non-normalized or out of bounds coordinates [     1.0393]\n",
      "\u001b[34m\u001b[1mval: \u001b[0m/kaggle/working/datasets/hand-keypoints/val/images/IMG_00035123.jpg: ignoring corrupt image/label: non-normalized or out of bounds coordinates [     1.0529]\n",
      "\u001b[34m\u001b[1mval: \u001b[0m/kaggle/working/datasets/hand-keypoints/val/images/IMG_00035125.jpg: ignoring corrupt image/label: non-normalized or out of bounds coordinates [     1.0406]\n",
      "\u001b[34m\u001b[1mval: \u001b[0m/kaggle/working/datasets/hand-keypoints/val/images/IMG_00035439.jpg: ignoring corrupt image/label: non-normalized or out of bounds coordinates [     1.0209]\n",
      "\u001b[34m\u001b[1mval: \u001b[0m/kaggle/working/datasets/hand-keypoints/val/images/IMG_00035441.jpg: ignoring corrupt image/label: non-normalized or out of bounds coordinates [     1.0093]\n"
     ]
    },
    {
     "name": "stderr",
     "output_type": "stream",
     "text": [
      "\n"
     ]
    },
    {
     "name": "stdout",
     "output_type": "stream",
     "text": [
      "\u001b[34m\u001b[1mval: \u001b[0mNew cache created: /kaggle/working/datasets/hand-keypoints/val/labels.cache\n",
      "Plotting labels to runs/pose/train3/labels.jpg... \n",
      "\u001b[34m\u001b[1moptimizer:\u001b[0m 'optimizer=auto' found, ignoring 'lr0=0.01' and 'momentum=0.937' and determining best 'optimizer', 'lr0' and 'momentum' automatically... \n",
      "\u001b[34m\u001b[1moptimizer:\u001b[0m SGD(lr=0.01, momentum=0.9) with parameter groups 87 weight(decay=0.0), 97 weight(decay=0.0005), 96 bias(decay=0.0)\n",
      "Image sizes 640 train, 640 val\n",
      "Using 4 dataloader workers\n",
      "Logging results to \u001b[1mruns/pose/train3\u001b[0m\n",
      "Starting training for 100 epochs...\n",
      "\n",
      "      Epoch    GPU_mem   box_loss  pose_loss  kobj_loss   cls_loss   dfl_loss  Instances       Size\n"
     ]
    },
    {
     "name": "stderr",
     "output_type": "stream",
     "text": [
      "      1/100      2.54G      1.003      9.612     0.6916     0.8429      1.365         27        640: 100%|██████████| 1143/1143 [04:39<00:00,  4.10it/s]\n",
      "                 Class     Images  Instances      Box(P          R      mAP50  mAP50-95)     Pose(P          R      mAP50  mAP50-95): 100%|██████████| 244/244 [00:56<00:00,  4.33it/s]"
     ]
    },
    {
     "name": "stdout",
     "output_type": "stream",
     "text": [
      "                   all       7808       7808      0.942      0.943      0.978       0.78      0.255      0.142     0.0631    0.00762\n"
     ]
    },
    {
     "name": "stderr",
     "output_type": "stream",
     "text": [
      "\n"
     ]
    },
    {
     "name": "stdout",
     "output_type": "stream",
     "text": [
      "\n",
      "      Epoch    GPU_mem   box_loss  pose_loss  kobj_loss   cls_loss   dfl_loss  Instances       Size\n"
     ]
    },
    {
     "name": "stderr",
     "output_type": "stream",
     "text": [
      "      2/100      3.07G      0.883      7.172     0.6431     0.6274      1.248         31        640: 100%|██████████| 1143/1143 [04:26<00:00,  4.29it/s]\n",
      "                 Class     Images  Instances      Box(P          R      mAP50  mAP50-95)     Pose(P          R      mAP50  mAP50-95): 100%|██████████| 244/244 [00:55<00:00,  4.37it/s]"
     ]
    },
    {
     "name": "stdout",
     "output_type": "stream",
     "text": [
      "                   all       7808       7808      0.939      0.897      0.963      0.773      0.771      0.461      0.456      0.185\n"
     ]
    },
    {
     "name": "stderr",
     "output_type": "stream",
     "text": [
      "\n"
     ]
    },
    {
     "name": "stdout",
     "output_type": "stream",
     "text": [
      "\n",
      "      Epoch    GPU_mem   box_loss  pose_loss  kobj_loss   cls_loss   dfl_loss  Instances       Size\n"
     ]
    },
    {
     "name": "stderr",
     "output_type": "stream",
     "text": [
      "      3/100      3.08G     0.9436      6.486      0.595     0.6935       1.29         33        640: 100%|██████████| 1143/1143 [04:22<00:00,  4.36it/s]\n",
      "                 Class     Images  Instances      Box(P          R      mAP50  mAP50-95)     Pose(P          R      mAP50  mAP50-95): 100%|██████████| 244/244 [00:55<00:00,  4.36it/s]\n"
     ]
    },
    {
     "name": "stdout",
     "output_type": "stream",
     "text": [
      "                   all       7808       7808      0.909      0.826      0.919      0.685      0.374      0.248      0.109     0.0382\n",
      "\n",
      "      Epoch    GPU_mem   box_loss  pose_loss  kobj_loss   cls_loss   dfl_loss  Instances       Size\n"
     ]
    },
    {
     "name": "stderr",
     "output_type": "stream",
     "text": [
      "      4/100      3.16G      0.976      6.154     0.5301     0.7178      1.305         28        640: 100%|██████████| 1143/1143 [04:19<00:00,  4.41it/s]\n",
      "                 Class     Images  Instances      Box(P          R      mAP50  mAP50-95)     Pose(P          R      mAP50  mAP50-95): 100%|██████████| 244/244 [00:55<00:00,  4.38it/s]\n"
     ]
    },
    {
     "name": "stdout",
     "output_type": "stream",
     "text": [
      "                   all       7808       7808      0.916      0.867       0.93      0.726      0.576      0.404      0.284      0.134\n",
      "\n",
      "      Epoch    GPU_mem   box_loss  pose_loss  kobj_loss   cls_loss   dfl_loss  Instances       Size\n"
     ]
    },
    {
     "name": "stderr",
     "output_type": "stream",
     "text": [
      "      5/100      3.16G     0.9248      5.591     0.4718     0.6609      1.261         33        640: 100%|██████████| 1143/1143 [04:19<00:00,  4.41it/s]\n",
      "                 Class     Images  Instances      Box(P          R      mAP50  mAP50-95)     Pose(P          R      mAP50  mAP50-95): 100%|██████████| 244/244 [00:56<00:00,  4.35it/s]"
     ]
    },
    {
     "name": "stdout",
     "output_type": "stream",
     "text": [
      "                   all       7808       7808      0.919      0.931       0.97      0.794       0.78      0.601      0.579      0.359\n"
     ]
    },
    {
     "name": "stderr",
     "output_type": "stream",
     "text": [
      "\n"
     ]
    },
    {
     "name": "stdout",
     "output_type": "stream",
     "text": [
      "\n",
      "      Epoch    GPU_mem   box_loss  pose_loss  kobj_loss   cls_loss   dfl_loss  Instances       Size\n"
     ]
    },
    {
     "name": "stderr",
     "output_type": "stream",
     "text": [
      "      6/100      3.16G     0.8805      5.233     0.4349     0.6199      1.234         29        640: 100%|██████████| 1143/1143 [04:19<00:00,  4.41it/s]\n",
      "                 Class     Images  Instances      Box(P          R      mAP50  mAP50-95)     Pose(P          R      mAP50  mAP50-95): 100%|██████████| 244/244 [00:56<00:00,  4.32it/s]"
     ]
    },
    {
     "name": "stdout",
     "output_type": "stream",
     "text": [
      "                   all       7808       7808      0.955      0.948      0.982      0.811      0.809      0.667      0.684      0.444\n"
     ]
    },
    {
     "name": "stderr",
     "output_type": "stream",
     "text": [
      "\n"
     ]
    },
    {
     "name": "stdout",
     "output_type": "stream",
     "text": [
      "\n",
      "      Epoch    GPU_mem   box_loss  pose_loss  kobj_loss   cls_loss   dfl_loss  Instances       Size\n"
     ]
    },
    {
     "name": "stderr",
     "output_type": "stream",
     "text": [
      "      7/100      3.16G     0.8689       5.05     0.4113     0.6043      1.223         21        640: 100%|██████████| 1143/1143 [04:20<00:00,  4.38it/s]\n",
      "                 Class     Images  Instances      Box(P          R      mAP50  mAP50-95)     Pose(P          R      mAP50  mAP50-95): 100%|██████████| 244/244 [00:56<00:00,  4.35it/s]"
     ]
    },
    {
     "name": "stdout",
     "output_type": "stream",
     "text": [
      "                   all       7808       7808      0.954      0.956      0.983      0.808      0.776      0.636      0.606      0.382\n"
     ]
    },
    {
     "name": "stderr",
     "output_type": "stream",
     "text": [
      "\n"
     ]
    },
    {
     "name": "stdout",
     "output_type": "stream",
     "text": [
      "\n",
      "      Epoch    GPU_mem   box_loss  pose_loss  kobj_loss   cls_loss   dfl_loss  Instances       Size\n"
     ]
    },
    {
     "name": "stderr",
     "output_type": "stream",
     "text": [
      "      8/100      3.16G     0.8452      4.863     0.3916     0.5781      1.204         29        640: 100%|██████████| 1143/1143 [04:20<00:00,  4.39it/s]\n",
      "                 Class     Images  Instances      Box(P          R      mAP50  mAP50-95)     Pose(P          R      mAP50  mAP50-95): 100%|██████████| 244/244 [00:56<00:00,  4.33it/s]"
     ]
    },
    {
     "name": "stdout",
     "output_type": "stream",
     "text": [
      "                   all       7808       7808      0.951      0.956      0.985      0.824      0.787       0.67      0.659      0.438\n"
     ]
    },
    {
     "name": "stderr",
     "output_type": "stream",
     "text": [
      "\n"
     ]
    },
    {
     "name": "stdout",
     "output_type": "stream",
     "text": [
      "\n",
      "      Epoch    GPU_mem   box_loss  pose_loss  kobj_loss   cls_loss   dfl_loss  Instances       Size\n"
     ]
    },
    {
     "name": "stderr",
     "output_type": "stream",
     "text": [
      "      9/100      3.16G     0.8272      4.651     0.3797     0.5645      1.193         26        640: 100%|██████████| 1143/1143 [04:20<00:00,  4.39it/s]\n",
      "                 Class     Images  Instances      Box(P          R      mAP50  mAP50-95)     Pose(P          R      mAP50  mAP50-95): 100%|██████████| 244/244 [00:56<00:00,  4.36it/s]"
     ]
    },
    {
     "name": "stdout",
     "output_type": "stream",
     "text": [
      "                   all       7808       7808      0.956      0.955      0.985      0.832      0.796      0.675      0.668      0.451\n"
     ]
    },
    {
     "name": "stderr",
     "output_type": "stream",
     "text": [
      "\n"
     ]
    },
    {
     "name": "stdout",
     "output_type": "stream",
     "text": [
      "\n",
      "      Epoch    GPU_mem   box_loss  pose_loss  kobj_loss   cls_loss   dfl_loss  Instances       Size\n"
     ]
    },
    {
     "name": "stderr",
     "output_type": "stream",
     "text": [
      "     10/100      3.16G     0.8139      4.549     0.3714     0.5494      1.188         30        640: 100%|██████████| 1143/1143 [04:19<00:00,  4.40it/s]\n",
      "                 Class     Images  Instances      Box(P          R      mAP50  mAP50-95)     Pose(P          R      mAP50  mAP50-95): 100%|██████████| 244/244 [00:55<00:00,  4.36it/s]"
     ]
    },
    {
     "name": "stdout",
     "output_type": "stream",
     "text": [
      "                   all       7808       7808      0.959       0.96      0.987      0.836      0.808      0.716      0.716       0.49\n"
     ]
    },
    {
     "name": "stderr",
     "output_type": "stream",
     "text": [
      "\n"
     ]
    },
    {
     "name": "stdout",
     "output_type": "stream",
     "text": [
      "\n",
      "      Epoch    GPU_mem   box_loss  pose_loss  kobj_loss   cls_loss   dfl_loss  Instances       Size\n"
     ]
    },
    {
     "name": "stderr",
     "output_type": "stream",
     "text": [
      "     11/100      3.17G     0.8063      4.468     0.3641     0.5407      1.184         31        640: 100%|██████████| 1143/1143 [04:19<00:00,  4.41it/s]\n",
      "                 Class     Images  Instances      Box(P          R      mAP50  mAP50-95)     Pose(P          R      mAP50  mAP50-95): 100%|██████████| 244/244 [00:55<00:00,  4.40it/s]"
     ]
    },
    {
     "name": "stdout",
     "output_type": "stream",
     "text": [
      "                   all       7808       7808      0.957      0.963      0.986      0.844      0.833      0.697      0.739       0.52\n"
     ]
    },
    {
     "name": "stderr",
     "output_type": "stream",
     "text": [
      "\n"
     ]
    },
    {
     "name": "stdout",
     "output_type": "stream",
     "text": [
      "\n",
      "      Epoch    GPU_mem   box_loss  pose_loss  kobj_loss   cls_loss   dfl_loss  Instances       Size\n"
     ]
    },
    {
     "name": "stderr",
     "output_type": "stream",
     "text": [
      "     12/100      3.17G     0.7849      4.343     0.3572     0.5254      1.168         25        640: 100%|██████████| 1143/1143 [04:20<00:00,  4.39it/s]\n",
      "                 Class     Images  Instances      Box(P          R      mAP50  mAP50-95)     Pose(P          R      mAP50  mAP50-95): 100%|██████████| 244/244 [00:57<00:00,  4.27it/s]"
     ]
    },
    {
     "name": "stdout",
     "output_type": "stream",
     "text": [
      "                   all       7808       7808      0.965      0.962      0.986      0.848      0.821       0.73      0.747      0.532\n"
     ]
    },
    {
     "name": "stderr",
     "output_type": "stream",
     "text": [
      "\n"
     ]
    },
    {
     "name": "stdout",
     "output_type": "stream",
     "text": [
      "\n",
      "      Epoch    GPU_mem   box_loss  pose_loss  kobj_loss   cls_loss   dfl_loss  Instances       Size\n"
     ]
    },
    {
     "name": "stderr",
     "output_type": "stream",
     "text": [
      "     13/100      3.19G     0.7882      4.277     0.3515     0.5251      1.169         23        640: 100%|██████████| 1143/1143 [04:21<00:00,  4.37it/s]\n",
      "                 Class     Images  Instances      Box(P          R      mAP50  mAP50-95)     Pose(P          R      mAP50  mAP50-95): 100%|██████████| 244/244 [00:56<00:00,  4.28it/s]"
     ]
    },
    {
     "name": "stdout",
     "output_type": "stream",
     "text": [
      "                   all       7808       7808       0.96       0.96      0.987      0.848      0.828       0.73      0.743       0.52\n"
     ]
    },
    {
     "name": "stderr",
     "output_type": "stream",
     "text": [
      "\n"
     ]
    },
    {
     "name": "stdout",
     "output_type": "stream",
     "text": [
      "\n",
      "      Epoch    GPU_mem   box_loss  pose_loss  kobj_loss   cls_loss   dfl_loss  Instances       Size\n"
     ]
    },
    {
     "name": "stderr",
     "output_type": "stream",
     "text": [
      "     14/100       3.2G     0.7707      4.199     0.3452     0.5149       1.16         31        640: 100%|██████████| 1143/1143 [04:20<00:00,  4.38it/s]\n",
      "                 Class     Images  Instances      Box(P          R      mAP50  mAP50-95)     Pose(P          R      mAP50  mAP50-95): 100%|██████████| 244/244 [00:56<00:00,  4.34it/s]"
     ]
    },
    {
     "name": "stdout",
     "output_type": "stream",
     "text": [
      "                   all       7808       7808      0.968      0.956      0.987      0.853      0.844      0.749      0.769      0.552\n"
     ]
    },
    {
     "name": "stderr",
     "output_type": "stream",
     "text": [
      "\n"
     ]
    },
    {
     "name": "stdout",
     "output_type": "stream",
     "text": [
      "\n",
      "      Epoch    GPU_mem   box_loss  pose_loss  kobj_loss   cls_loss   dfl_loss  Instances       Size\n"
     ]
    },
    {
     "name": "stderr",
     "output_type": "stream",
     "text": [
      "                 Class     Images  Instances      Box(P          R      mAP50  mAP50-95)     Pose(P          R      mAP50  mAP50-95): 100%|██████████| 244/244 [00:56<00:00,  4.32it/s]"
     ]
    },
    {
     "name": "stdout",
     "output_type": "stream",
     "text": [
      "                   all       7808       7808      0.958      0.966      0.988      0.856       0.82      0.744      0.755      0.546\n"
     ]
    },
    {
     "name": "stderr",
     "output_type": "stream",
     "text": [
      "\n"
     ]
    },
    {
     "name": "stdout",
     "output_type": "stream",
     "text": [
      "\n",
      "      Epoch    GPU_mem   box_loss  pose_loss  kobj_loss   cls_loss   dfl_loss  Instances       Size\n"
     ]
    },
    {
     "name": "stderr",
     "output_type": "stream",
     "text": [
      "     16/100      3.22G     0.7608      4.066      0.333     0.5058      1.152         27        640: 100%|██████████| 1143/1143 [04:20<00:00,  4.39it/s]\n",
      "                 Class     Images  Instances      Box(P          R      mAP50  mAP50-95)     Pose(P          R      mAP50  mAP50-95): 100%|██████████| 244/244 [00:56<00:00,  4.35it/s]"
     ]
    },
    {
     "name": "stdout",
     "output_type": "stream",
     "text": [
      "                   all       7808       7808      0.965      0.967      0.989      0.858      0.823       0.75      0.754      0.548\n"
     ]
    },
    {
     "name": "stderr",
     "output_type": "stream",
     "text": [
      "\n"
     ]
    },
    {
     "name": "stdout",
     "output_type": "stream",
     "text": [
      "\n",
      "      Epoch    GPU_mem   box_loss  pose_loss  kobj_loss   cls_loss   dfl_loss  Instances       Size\n"
     ]
    },
    {
     "name": "stderr",
     "output_type": "stream",
     "text": [
      "     17/100      3.23G      0.757      4.012     0.3286     0.5006      1.147         21        640: 100%|██████████| 1143/1143 [04:19<00:00,  4.41it/s]\n",
      "                 Class     Images  Instances      Box(P          R      mAP50  mAP50-95)     Pose(P          R      mAP50  mAP50-95): 100%|██████████| 244/244 [00:56<00:00,  4.34it/s]"
     ]
    },
    {
     "name": "stdout",
     "output_type": "stream",
     "text": [
      "                   all       7808       7808      0.964      0.971      0.989      0.872       0.84      0.759      0.785      0.589\n"
     ]
    },
    {
     "name": "stderr",
     "output_type": "stream",
     "text": [
      "\n"
     ]
    },
    {
     "name": "stdout",
     "output_type": "stream",
     "text": [
      "\n",
      "      Epoch    GPU_mem   box_loss  pose_loss  kobj_loss   cls_loss   dfl_loss  Instances       Size\n"
     ]
    },
    {
     "name": "stderr",
     "output_type": "stream",
     "text": [
      "     18/100      3.24G      0.745      3.934     0.3225     0.4907      1.142         25        640: 100%|██████████| 1143/1143 [04:18<00:00,  4.42it/s]\n",
      "                 Class     Images  Instances      Box(P          R      mAP50  mAP50-95)     Pose(P          R      mAP50  mAP50-95): 100%|██████████| 244/244 [00:54<00:00,  4.45it/s]"
     ]
    },
    {
     "name": "stdout",
     "output_type": "stream",
     "text": [
      "                   all       7808       7808      0.967      0.972       0.99      0.873      0.826      0.774      0.781      0.598\n"
     ]
    },
    {
     "name": "stderr",
     "output_type": "stream",
     "text": [
      "\n"
     ]
    },
    {
     "name": "stdout",
     "output_type": "stream",
     "text": [
      "\n",
      "      Epoch    GPU_mem   box_loss  pose_loss  kobj_loss   cls_loss   dfl_loss  Instances       Size\n"
     ]
    },
    {
     "name": "stderr",
     "output_type": "stream",
     "text": [
      "     19/100      3.25G     0.7422      3.916     0.3195     0.4856       1.14         28        640: 100%|██████████| 1143/1143 [04:19<00:00,  4.40it/s]\n",
      "                 Class     Images  Instances      Box(P          R      mAP50  mAP50-95)     Pose(P          R      mAP50  mAP50-95): 100%|██████████| 244/244 [00:55<00:00,  4.39it/s]"
     ]
    },
    {
     "name": "stdout",
     "output_type": "stream",
     "text": [
      "                   all       7808       7808      0.968       0.97       0.99      0.874      0.826      0.772      0.771      0.588\n"
     ]
    },
    {
     "name": "stderr",
     "output_type": "stream",
     "text": [
      "\n"
     ]
    },
    {
     "name": "stdout",
     "output_type": "stream",
     "text": [
      "\n",
      "      Epoch    GPU_mem   box_loss  pose_loss  kobj_loss   cls_loss   dfl_loss  Instances       Size\n"
     ]
    },
    {
     "name": "stderr",
     "output_type": "stream",
     "text": [
      "     20/100      3.26G     0.7399      3.797     0.3117     0.4816      1.136         26        640: 100%|██████████| 1143/1143 [04:18<00:00,  4.42it/s]\n",
      "                 Class     Images  Instances      Box(P          R      mAP50  mAP50-95)     Pose(P          R      mAP50  mAP50-95): 100%|██████████| 244/244 [00:55<00:00,  4.36it/s]"
     ]
    },
    {
     "name": "stdout",
     "output_type": "stream",
     "text": [
      "                   all       7808       7808      0.961      0.974       0.99      0.878      0.823      0.769      0.769      0.599\n"
     ]
    },
    {
     "name": "stderr",
     "output_type": "stream",
     "text": [
      "\n"
     ]
    },
    {
     "name": "stdout",
     "output_type": "stream",
     "text": [
      "\n",
      "      Epoch    GPU_mem   box_loss  pose_loss  kobj_loss   cls_loss   dfl_loss  Instances       Size\n"
     ]
    },
    {
     "name": "stderr",
     "output_type": "stream",
     "text": [
      "     21/100      3.27G     0.7342      3.778      0.308     0.4797      1.133         23        640: 100%|██████████| 1143/1143 [04:20<00:00,  4.38it/s]\n",
      "                 Class     Images  Instances      Box(P          R      mAP50  mAP50-95)     Pose(P          R      mAP50  mAP50-95): 100%|██████████| 244/244 [00:56<00:00,  4.29it/s]"
     ]
    },
    {
     "name": "stdout",
     "output_type": "stream",
     "text": [
      "                   all       7808       7808      0.965      0.969      0.989      0.874      0.818      0.773       0.76      0.583\n"
     ]
    },
    {
     "name": "stderr",
     "output_type": "stream",
     "text": [
      "\n"
     ]
    },
    {
     "name": "stdout",
     "output_type": "stream",
     "text": [
      "\n",
      "      Epoch    GPU_mem   box_loss  pose_loss  kobj_loss   cls_loss   dfl_loss  Instances       Size\n"
     ]
    },
    {
     "name": "stderr",
     "output_type": "stream",
     "text": [
      "     22/100      3.29G     0.7308      3.727     0.3035     0.4715      1.132         31        640: 100%|██████████| 1143/1143 [04:18<00:00,  4.42it/s]\n",
      "                 Class     Images  Instances      Box(P          R      mAP50  mAP50-95)     Pose(P          R      mAP50  mAP50-95): 100%|██████████| 244/244 [00:55<00:00,  4.39it/s]"
     ]
    },
    {
     "name": "stdout",
     "output_type": "stream",
     "text": [
      "                   all       7808       7808      0.966      0.975       0.99      0.877      0.846      0.784      0.787      0.608\n"
     ]
    },
    {
     "name": "stderr",
     "output_type": "stream",
     "text": [
      "\n"
     ]
    },
    {
     "name": "stdout",
     "output_type": "stream",
     "text": [
      "\n",
      "      Epoch    GPU_mem   box_loss  pose_loss  kobj_loss   cls_loss   dfl_loss  Instances       Size\n"
     ]
    },
    {
     "name": "stderr",
     "output_type": "stream",
     "text": [
      "     23/100       3.3G      0.731      3.711     0.2996     0.4717      1.129         23        640: 100%|██████████| 1143/1143 [04:18<00:00,  4.42it/s]\n",
      "                 Class     Images  Instances      Box(P          R      mAP50  mAP50-95)     Pose(P          R      mAP50  mAP50-95): 100%|██████████| 244/244 [00:55<00:00,  4.39it/s]"
     ]
    },
    {
     "name": "stdout",
     "output_type": "stream",
     "text": [
      "                   all       7808       7808       0.97      0.973       0.99      0.879      0.837      0.795      0.793      0.625\n"
     ]
    },
    {
     "name": "stderr",
     "output_type": "stream",
     "text": [
      "\n"
     ]
    },
    {
     "name": "stdout",
     "output_type": "stream",
     "text": [
      "\n",
      "      Epoch    GPU_mem   box_loss  pose_loss  kobj_loss   cls_loss   dfl_loss  Instances       Size\n"
     ]
    },
    {
     "name": "stderr",
     "output_type": "stream",
     "text": [
      "     24/100      3.31G     0.7247      3.669     0.2951     0.4644      1.129         28        640: 100%|██████████| 1143/1143 [04:19<00:00,  4.40it/s]\n",
      "                 Class     Images  Instances      Box(P          R      mAP50  mAP50-95)     Pose(P          R      mAP50  mAP50-95): 100%|██████████| 244/244 [00:55<00:00,  4.40it/s]"
     ]
    },
    {
     "name": "stdout",
     "output_type": "stream",
     "text": [
      "                   all       7808       7808       0.97      0.975       0.99      0.882      0.845      0.799      0.814      0.642\n"
     ]
    },
    {
     "name": "stderr",
     "output_type": "stream",
     "text": [
      "\n"
     ]
    },
    {
     "name": "stdout",
     "output_type": "stream",
     "text": [
      "\n",
      "      Epoch    GPU_mem   box_loss  pose_loss  kobj_loss   cls_loss   dfl_loss  Instances       Size\n"
     ]
    },
    {
     "name": "stderr",
     "output_type": "stream",
     "text": [
      "     25/100      3.32G     0.7125      3.594     0.2949     0.4565      1.122         31        640: 100%|██████████| 1143/1143 [04:20<00:00,  4.39it/s]\n",
      "                 Class     Images  Instances      Box(P          R      mAP50  mAP50-95)     Pose(P          R      mAP50  mAP50-95): 100%|██████████| 244/244 [00:55<00:00,  4.36it/s]"
     ]
    },
    {
     "name": "stdout",
     "output_type": "stream",
     "text": [
      "                   all       7808       7808       0.97      0.973       0.99      0.884      0.853      0.802      0.815      0.649\n"
     ]
    },
    {
     "name": "stderr",
     "output_type": "stream",
     "text": [
      "\n"
     ]
    },
    {
     "name": "stdout",
     "output_type": "stream",
     "text": [
      "\n",
      "      Epoch    GPU_mem   box_loss  pose_loss  kobj_loss   cls_loss   dfl_loss  Instances       Size\n"
     ]
    },
    {
     "name": "stderr",
     "output_type": "stream",
     "text": [
      "     26/100      3.33G     0.7145      3.592     0.2925     0.4582      1.121         26        640: 100%|██████████| 1143/1143 [04:18<00:00,  4.41it/s]\n",
      "                 Class     Images  Instances      Box(P          R      mAP50  mAP50-95)     Pose(P          R      mAP50  mAP50-95): 100%|██████████| 244/244 [00:55<00:00,  4.37it/s]"
     ]
    },
    {
     "name": "stdout",
     "output_type": "stream",
     "text": [
      "                   all       7808       7808       0.97      0.973       0.99      0.882      0.847      0.802      0.808      0.642\n"
     ]
    },
    {
     "name": "stderr",
     "output_type": "stream",
     "text": [
      "\n"
     ]
    },
    {
     "name": "stdout",
     "output_type": "stream",
     "text": [
      "\n",
      "      Epoch    GPU_mem   box_loss  pose_loss  kobj_loss   cls_loss   dfl_loss  Instances       Size\n"
     ]
    },
    {
     "name": "stderr",
     "output_type": "stream",
     "text": [
      "     27/100      3.35G     0.7112      3.552     0.2889     0.4532       1.12         21        640: 100%|██████████| 1143/1143 [04:18<00:00,  4.41it/s]\n",
      "                 Class     Images  Instances      Box(P          R      mAP50  mAP50-95)     Pose(P          R      mAP50  mAP50-95): 100%|██████████| 244/244 [00:55<00:00,  4.38it/s]"
     ]
    },
    {
     "name": "stdout",
     "output_type": "stream",
     "text": [
      "                   all       7808       7808      0.966      0.978       0.99      0.887      0.855      0.813      0.831      0.665\n"
     ]
    },
    {
     "name": "stderr",
     "output_type": "stream",
     "text": [
      "\n"
     ]
    },
    {
     "name": "stdout",
     "output_type": "stream",
     "text": [
      "\n",
      "      Epoch    GPU_mem   box_loss  pose_loss  kobj_loss   cls_loss   dfl_loss  Instances       Size\n"
     ]
    },
    {
     "name": "stderr",
     "output_type": "stream",
     "text": [
      "     28/100      3.35G     0.7071      3.488     0.2878     0.4534      1.117         26        640: 100%|██████████| 1143/1143 [04:19<00:00,  4.40it/s]\n",
      "                 Class     Images  Instances      Box(P          R      mAP50  mAP50-95)     Pose(P          R      mAP50  mAP50-95): 100%|██████████| 244/244 [00:55<00:00,  4.40it/s]"
     ]
    },
    {
     "name": "stdout",
     "output_type": "stream",
     "text": [
      "                   all       7808       7808      0.971      0.975      0.991       0.89      0.852      0.814       0.83      0.667\n"
     ]
    },
    {
     "name": "stderr",
     "output_type": "stream",
     "text": [
      "\n"
     ]
    },
    {
     "name": "stdout",
     "output_type": "stream",
     "text": [
      "\n",
      "      Epoch    GPU_mem   box_loss  pose_loss  kobj_loss   cls_loss   dfl_loss  Instances       Size\n"
     ]
    },
    {
     "name": "stderr",
     "output_type": "stream",
     "text": [
      "     29/100      3.37G     0.7132      3.527      0.286     0.4537      1.121         25        640: 100%|██████████| 1143/1143 [04:19<00:00,  4.41it/s]\n",
      "                 Class     Images  Instances      Box(P          R      mAP50  mAP50-95)     Pose(P          R      mAP50  mAP50-95): 100%|██████████| 244/244 [00:55<00:00,  4.40it/s]"
     ]
    },
    {
     "name": "stdout",
     "output_type": "stream",
     "text": [
      "                   all       7808       7808       0.97      0.975       0.99       0.89      0.857      0.814      0.831      0.672\n"
     ]
    },
    {
     "name": "stderr",
     "output_type": "stream",
     "text": [
      "\n"
     ]
    },
    {
     "name": "stdout",
     "output_type": "stream",
     "text": [
      "\n",
      "      Epoch    GPU_mem   box_loss  pose_loss  kobj_loss   cls_loss   dfl_loss  Instances       Size\n"
     ]
    },
    {
     "name": "stderr",
     "output_type": "stream",
     "text": [
      "     30/100      3.38G     0.7036      3.468     0.2821     0.4512      1.113         26        640: 100%|██████████| 1143/1143 [04:19<00:00,  4.41it/s]\n",
      "                 Class     Images  Instances      Box(P          R      mAP50  mAP50-95)     Pose(P          R      mAP50  mAP50-95): 100%|██████████| 244/244 [00:55<00:00,  4.37it/s]"
     ]
    },
    {
     "name": "stdout",
     "output_type": "stream",
     "text": [
      "                   all       7808       7808      0.968      0.976       0.99      0.889      0.855      0.812      0.824      0.664\n"
     ]
    },
    {
     "name": "stderr",
     "output_type": "stream",
     "text": [
      "\n"
     ]
    },
    {
     "name": "stdout",
     "output_type": "stream",
     "text": [
      "\n",
      "      Epoch    GPU_mem   box_loss  pose_loss  kobj_loss   cls_loss   dfl_loss  Instances       Size\n"
     ]
    },
    {
     "name": "stderr",
     "output_type": "stream",
     "text": [
      "     31/100      3.39G     0.6996      3.415     0.2819     0.4473      1.115         31        640: 100%|██████████| 1143/1143 [04:19<00:00,  4.41it/s]\n",
      "                 Class     Images  Instances      Box(P          R      mAP50  mAP50-95)     Pose(P          R      mAP50  mAP50-95): 100%|██████████| 244/244 [00:55<00:00,  4.40it/s]"
     ]
    },
    {
     "name": "stdout",
     "output_type": "stream",
     "text": [
      "                   all       7808       7808       0.97      0.979      0.991      0.892      0.858       0.82      0.833      0.677\n"
     ]
    },
    {
     "name": "stderr",
     "output_type": "stream",
     "text": [
      "\n"
     ]
    },
    {
     "name": "stdout",
     "output_type": "stream",
     "text": [
      "\n",
      "      Epoch    GPU_mem   box_loss  pose_loss  kobj_loss   cls_loss   dfl_loss  Instances       Size\n"
     ]
    },
    {
     "name": "stderr",
     "output_type": "stream",
     "text": [
      "     32/100       3.4G     0.6948      3.315     0.2803     0.4436      1.112         25        640: 100%|██████████| 1143/1143 [04:19<00:00,  4.41it/s]\n",
      "                 Class     Images  Instances      Box(P          R      mAP50  mAP50-95)     Pose(P          R      mAP50  mAP50-95): 100%|██████████| 244/244 [00:55<00:00,  4.38it/s]"
     ]
    },
    {
     "name": "stdout",
     "output_type": "stream",
     "text": [
      "                   all       7808       7808      0.973      0.977      0.991      0.892      0.854      0.818      0.833      0.676\n"
     ]
    },
    {
     "name": "stderr",
     "output_type": "stream",
     "text": [
      "\n"
     ]
    },
    {
     "name": "stdout",
     "output_type": "stream",
     "text": [
      "\n",
      "      Epoch    GPU_mem   box_loss  pose_loss  kobj_loss   cls_loss   dfl_loss  Instances       Size\n"
     ]
    },
    {
     "name": "stderr",
     "output_type": "stream",
     "text": [
      "     33/100      3.41G     0.6928      3.242      0.277     0.4372      1.111         23        640: 100%|██████████| 1143/1143 [04:19<00:00,  4.40it/s]\n",
      "                 Class     Images  Instances      Box(P          R      mAP50  mAP50-95)     Pose(P          R      mAP50  mAP50-95): 100%|██████████| 244/244 [00:55<00:00,  4.41it/s]"
     ]
    },
    {
     "name": "stdout",
     "output_type": "stream",
     "text": [
      "                   all       7808       7808       0.97      0.978      0.991      0.893      0.858      0.823      0.837      0.685\n"
     ]
    },
    {
     "name": "stderr",
     "output_type": "stream",
     "text": [
      "\n"
     ]
    },
    {
     "name": "stdout",
     "output_type": "stream",
     "text": [
      "\n",
      "      Epoch    GPU_mem   box_loss  pose_loss  kobj_loss   cls_loss   dfl_loss  Instances       Size\n"
     ]
    },
    {
     "name": "stderr",
     "output_type": "stream",
     "text": [
      "     34/100      3.42G     0.6941      3.286     0.2747      0.438      1.108         30        640: 100%|██████████| 1143/1143 [04:19<00:00,  4.40it/s]\n",
      "                 Class     Images  Instances      Box(P          R      mAP50  mAP50-95)     Pose(P          R      mAP50  mAP50-95): 100%|██████████| 244/244 [00:55<00:00,  4.42it/s]"
     ]
    },
    {
     "name": "stdout",
     "output_type": "stream",
     "text": [
      "                   all       7808       7808      0.969      0.979       0.99      0.895      0.859      0.819      0.838       0.69\n"
     ]
    },
    {
     "name": "stderr",
     "output_type": "stream",
     "text": [
      "\n"
     ]
    },
    {
     "name": "stdout",
     "output_type": "stream",
     "text": [
      "\n",
      "      Epoch    GPU_mem   box_loss  pose_loss  kobj_loss   cls_loss   dfl_loss  Instances       Size\n"
     ]
    },
    {
     "name": "stderr",
     "output_type": "stream",
     "text": [
      "     35/100      3.43G     0.6882      3.205      0.273     0.4376      1.105         29        640: 100%|██████████| 1143/1143 [04:19<00:00,  4.41it/s]\n",
      "                 Class     Images  Instances      Box(P          R      mAP50  mAP50-95)     Pose(P          R      mAP50  mAP50-95): 100%|██████████| 244/244 [00:55<00:00,  4.41it/s]"
     ]
    },
    {
     "name": "stdout",
     "output_type": "stream",
     "text": [
      "                   all       7808       7808      0.968       0.98      0.991      0.896      0.853      0.817      0.832      0.686\n"
     ]
    },
    {
     "name": "stderr",
     "output_type": "stream",
     "text": [
      "\n"
     ]
    },
    {
     "name": "stdout",
     "output_type": "stream",
     "text": [
      "\n",
      "      Epoch    GPU_mem   box_loss  pose_loss  kobj_loss   cls_loss   dfl_loss  Instances       Size\n"
     ]
    },
    {
     "name": "stderr",
     "output_type": "stream",
     "text": [
      "     36/100      3.45G     0.6912       3.23     0.2736     0.4359      1.109         22        640: 100%|██████████| 1143/1143 [04:19<00:00,  4.41it/s]\n",
      "                 Class     Images  Instances      Box(P          R      mAP50  mAP50-95)     Pose(P          R      mAP50  mAP50-95): 100%|██████████| 244/244 [00:55<00:00,  4.39it/s]"
     ]
    },
    {
     "name": "stdout",
     "output_type": "stream",
     "text": [
      "                   all       7808       7808       0.97      0.979      0.991      0.898      0.865      0.828      0.846      0.695\n"
     ]
    },
    {
     "name": "stderr",
     "output_type": "stream",
     "text": [
      "\n"
     ]
    },
    {
     "name": "stdout",
     "output_type": "stream",
     "text": [
      "\n",
      "      Epoch    GPU_mem   box_loss  pose_loss  kobj_loss   cls_loss   dfl_loss  Instances       Size\n"
     ]
    },
    {
     "name": "stderr",
     "output_type": "stream",
     "text": [
      "     37/100      3.46G     0.6874        3.2     0.2698      0.437      1.106         34        640: 100%|██████████| 1143/1143 [04:19<00:00,  4.41it/s]\n",
      "                 Class     Images  Instances      Box(P          R      mAP50  mAP50-95)     Pose(P          R      mAP50  mAP50-95): 100%|██████████| 244/244 [00:55<00:00,  4.41it/s]"
     ]
    },
    {
     "name": "stdout",
     "output_type": "stream",
     "text": [
      "                   all       7808       7808      0.968       0.98      0.991      0.896      0.863      0.828      0.844      0.689\n"
     ]
    },
    {
     "name": "stderr",
     "output_type": "stream",
     "text": [
      "\n"
     ]
    },
    {
     "name": "stdout",
     "output_type": "stream",
     "text": [
      "\n",
      "      Epoch    GPU_mem   box_loss  pose_loss  kobj_loss   cls_loss   dfl_loss  Instances       Size\n"
     ]
    },
    {
     "name": "stderr",
     "output_type": "stream",
     "text": [
      "     38/100      3.47G     0.6778      3.138     0.2682     0.4289      1.101         29        640: 100%|██████████| 1143/1143 [04:19<00:00,  4.41it/s]\n",
      "                 Class     Images  Instances      Box(P          R      mAP50  mAP50-95)     Pose(P          R      mAP50  mAP50-95): 100%|██████████| 244/244 [00:54<00:00,  4.45it/s]"
     ]
    },
    {
     "name": "stdout",
     "output_type": "stream",
     "text": [
      "                   all       7808       7808      0.969       0.98      0.991      0.895      0.856      0.831      0.836      0.687\n"
     ]
    },
    {
     "name": "stderr",
     "output_type": "stream",
     "text": [
      "\n"
     ]
    },
    {
     "name": "stdout",
     "output_type": "stream",
     "text": [
      "\n",
      "      Epoch    GPU_mem   box_loss  pose_loss  kobj_loss   cls_loss   dfl_loss  Instances       Size\n"
     ]
    },
    {
     "name": "stderr",
     "output_type": "stream",
     "text": [
      "     39/100      3.48G     0.6799      3.167     0.2662      0.428      1.101         28        640: 100%|██████████| 1143/1143 [04:19<00:00,  4.41it/s]\n",
      "                 Class     Images  Instances      Box(P          R      mAP50  mAP50-95)     Pose(P          R      mAP50  mAP50-95): 100%|██████████| 244/244 [00:56<00:00,  4.30it/s]"
     ]
    },
    {
     "name": "stdout",
     "output_type": "stream",
     "text": [
      "                   all       7808       7808      0.969       0.98      0.991      0.895      0.859      0.831      0.835      0.688\n"
     ]
    },
    {
     "name": "stderr",
     "output_type": "stream",
     "text": [
      "\n"
     ]
    },
    {
     "name": "stdout",
     "output_type": "stream",
     "text": [
      "\n",
      "      Epoch    GPU_mem   box_loss  pose_loss  kobj_loss   cls_loss   dfl_loss  Instances       Size\n"
     ]
    },
    {
     "name": "stderr",
     "output_type": "stream",
     "text": [
      "     40/100      3.49G     0.6752       3.15     0.2662     0.4246      1.101         35        640: 100%|██████████| 1143/1143 [04:20<00:00,  4.38it/s]\n",
      "                 Class     Images  Instances      Box(P          R      mAP50  mAP50-95)     Pose(P          R      mAP50  mAP50-95): 100%|██████████| 244/244 [00:56<00:00,  4.32it/s]"
     ]
    },
    {
     "name": "stdout",
     "output_type": "stream",
     "text": [
      "                   all       7808       7808      0.969       0.98      0.991      0.895      0.862      0.831      0.843      0.693\n"
     ]
    },
    {
     "name": "stderr",
     "output_type": "stream",
     "text": [
      "\n"
     ]
    },
    {
     "name": "stdout",
     "output_type": "stream",
     "text": [
      "\n",
      "      Epoch    GPU_mem   box_loss  pose_loss  kobj_loss   cls_loss   dfl_loss  Instances       Size\n"
     ]
    },
    {
     "name": "stderr",
     "output_type": "stream",
     "text": [
      "     41/100       3.5G     0.6729      3.077     0.2609     0.4239      1.098         21        640: 100%|██████████| 1143/1143 [04:24<00:00,  4.33it/s]\n",
      "                 Class     Images  Instances      Box(P          R      mAP50  mAP50-95)     Pose(P          R      mAP50  mAP50-95): 100%|██████████| 244/244 [00:57<00:00,  4.25it/s]"
     ]
    },
    {
     "name": "stdout",
     "output_type": "stream",
     "text": [
      "                   all       7808       7808      0.971      0.978      0.991      0.898      0.862      0.837      0.846      0.699\n"
     ]
    },
    {
     "name": "stderr",
     "output_type": "stream",
     "text": [
      "\n"
     ]
    },
    {
     "name": "stdout",
     "output_type": "stream",
     "text": [
      "\n",
      "      Epoch    GPU_mem   box_loss  pose_loss  kobj_loss   cls_loss   dfl_loss  Instances       Size\n"
     ]
    },
    {
     "name": "stderr",
     "output_type": "stream",
     "text": [
      "     42/100      3.51G     0.6718      3.064     0.2622     0.4215      1.097         35        640: 100%|██████████| 1143/1143 [04:24<00:00,  4.32it/s]\n",
      "                 Class     Images  Instances      Box(P          R      mAP50  mAP50-95)     Pose(P          R      mAP50  mAP50-95): 100%|██████████| 244/244 [00:57<00:00,  4.27it/s]"
     ]
    },
    {
     "name": "stdout",
     "output_type": "stream",
     "text": [
      "                   all       7808       7808      0.971      0.977      0.991      0.899      0.863       0.84       0.85      0.703\n"
     ]
    },
    {
     "name": "stderr",
     "output_type": "stream",
     "text": [
      "\n"
     ]
    },
    {
     "name": "stdout",
     "output_type": "stream",
     "text": [
      "\n",
      "      Epoch    GPU_mem   box_loss  pose_loss  kobj_loss   cls_loss   dfl_loss  Instances       Size\n"
     ]
    },
    {
     "name": "stderr",
     "output_type": "stream",
     "text": [
      "     43/100      3.52G     0.6649       3.05     0.2601     0.4178      1.094         33        640: 100%|██████████| 1143/1143 [04:24<00:00,  4.33it/s]\n",
      "                 Class     Images  Instances      Box(P          R      mAP50  mAP50-95)     Pose(P          R      mAP50  mAP50-95): 100%|██████████| 244/244 [00:56<00:00,  4.29it/s]"
     ]
    },
    {
     "name": "stdout",
     "output_type": "stream",
     "text": [
      "                   all       7808       7808      0.971      0.978      0.991      0.899      0.866       0.84      0.849      0.701\n"
     ]
    },
    {
     "name": "stderr",
     "output_type": "stream",
     "text": [
      "\n"
     ]
    },
    {
     "name": "stdout",
     "output_type": "stream",
     "text": [
      "\n",
      "      Epoch    GPU_mem   box_loss  pose_loss  kobj_loss   cls_loss   dfl_loss  Instances       Size\n"
     ]
    },
    {
     "name": "stderr",
     "output_type": "stream",
     "text": [
      "     44/100      3.54G      0.666      3.053     0.2598     0.4174      1.093         27        640: 100%|██████████| 1143/1143 [04:24<00:00,  4.32it/s]\n",
      "                 Class     Images  Instances      Box(P          R      mAP50  mAP50-95)     Pose(P          R      mAP50  mAP50-95): 100%|██████████| 244/244 [00:57<00:00,  4.27it/s]"
     ]
    },
    {
     "name": "stdout",
     "output_type": "stream",
     "text": [
      "                   all       7808       7808      0.971      0.978      0.991      0.899      0.866       0.84      0.848      0.701\n"
     ]
    },
    {
     "name": "stderr",
     "output_type": "stream",
     "text": [
      "\n"
     ]
    },
    {
     "name": "stdout",
     "output_type": "stream",
     "text": [
      "\n",
      "      Epoch    GPU_mem   box_loss  pose_loss  kobj_loss   cls_loss   dfl_loss  Instances       Size\n"
     ]
    },
    {
     "name": "stderr",
     "output_type": "stream",
     "text": [
      "     45/100      3.55G     0.6684       3.01      0.256     0.4168      1.096         36        640: 100%|██████████| 1143/1143 [04:24<00:00,  4.33it/s]\n",
      "                 Class     Images  Instances      Box(P          R      mAP50  mAP50-95)     Pose(P          R      mAP50  mAP50-95): 100%|██████████| 244/244 [00:57<00:00,  4.27it/s]"
     ]
    },
    {
     "name": "stdout",
     "output_type": "stream",
     "text": [
      "                   all       7808       7808      0.969      0.981      0.991      0.899      0.865      0.841      0.849      0.703\n"
     ]
    },
    {
     "name": "stderr",
     "output_type": "stream",
     "text": [
      "\n"
     ]
    },
    {
     "name": "stdout",
     "output_type": "stream",
     "text": [
      "\n",
      "      Epoch    GPU_mem   box_loss  pose_loss  kobj_loss   cls_loss   dfl_loss  Instances       Size\n"
     ]
    },
    {
     "name": "stderr",
     "output_type": "stream",
     "text": [
      "     46/100      3.56G     0.6604       3.01     0.2554     0.4146      1.088         33        640: 100%|██████████| 1143/1143 [04:24<00:00,  4.33it/s]\n",
      "                 Class     Images  Instances      Box(P          R      mAP50  mAP50-95)     Pose(P          R      mAP50  mAP50-95): 100%|██████████| 244/244 [00:57<00:00,  4.27it/s]"
     ]
    },
    {
     "name": "stdout",
     "output_type": "stream",
     "text": [
      "                   all       7808       7808       0.97      0.981      0.991      0.902      0.864       0.84      0.852      0.709\n"
     ]
    },
    {
     "name": "stderr",
     "output_type": "stream",
     "text": [
      "\n"
     ]
    },
    {
     "name": "stdout",
     "output_type": "stream",
     "text": [
      "\n",
      "      Epoch    GPU_mem   box_loss  pose_loss  kobj_loss   cls_loss   dfl_loss  Instances       Size\n"
     ]
    },
    {
     "name": "stderr",
     "output_type": "stream",
     "text": [
      "     47/100      3.57G      0.663      2.976      0.255     0.4179      1.093         21        640: 100%|██████████| 1143/1143 [04:24<00:00,  4.32it/s]\n",
      "                 Class     Images  Instances      Box(P          R      mAP50  mAP50-95)     Pose(P          R      mAP50  mAP50-95): 100%|██████████| 244/244 [00:56<00:00,  4.32it/s]"
     ]
    },
    {
     "name": "stdout",
     "output_type": "stream",
     "text": [
      "                   all       7808       7808      0.971       0.98      0.991      0.903      0.867      0.842      0.855      0.714\n"
     ]
    },
    {
     "name": "stderr",
     "output_type": "stream",
     "text": [
      "\n"
     ]
    },
    {
     "name": "stdout",
     "output_type": "stream",
     "text": [
      "\n",
      "      Epoch    GPU_mem   box_loss  pose_loss  kobj_loss   cls_loss   dfl_loss  Instances       Size\n"
     ]
    },
    {
     "name": "stderr",
     "output_type": "stream",
     "text": [
      "     48/100      3.58G     0.6641      2.968     0.2542      0.417      1.093         25        640: 100%|██████████| 1143/1143 [04:23<00:00,  4.34it/s]\n",
      "                 Class     Images  Instances      Box(P          R      mAP50  mAP50-95)     Pose(P          R      mAP50  mAP50-95): 100%|██████████| 244/244 [00:56<00:00,  4.30it/s]"
     ]
    },
    {
     "name": "stdout",
     "output_type": "stream",
     "text": [
      "                   all       7808       7808       0.97      0.981      0.991      0.903      0.867      0.844      0.856      0.715\n"
     ]
    },
    {
     "name": "stderr",
     "output_type": "stream",
     "text": [
      "\n"
     ]
    },
    {
     "name": "stdout",
     "output_type": "stream",
     "text": [
      "\n",
      "      Epoch    GPU_mem   box_loss  pose_loss  kobj_loss   cls_loss   dfl_loss  Instances       Size\n"
     ]
    },
    {
     "name": "stderr",
     "output_type": "stream",
     "text": [
      "     49/100      3.59G      0.654      2.929     0.2515     0.4071      1.087         29        640: 100%|██████████| 1143/1143 [04:24<00:00,  4.33it/s]\n",
      "                 Class     Images  Instances      Box(P          R      mAP50  mAP50-95)     Pose(P          R      mAP50  mAP50-95): 100%|██████████| 244/244 [00:57<00:00,  4.28it/s]"
     ]
    },
    {
     "name": "stdout",
     "output_type": "stream",
     "text": [
      "                   all       7808       7808      0.971      0.981      0.991      0.903      0.865      0.845      0.856      0.715\n"
     ]
    },
    {
     "name": "stderr",
     "output_type": "stream",
     "text": [
      "\n"
     ]
    },
    {
     "name": "stdout",
     "output_type": "stream",
     "text": [
      "\n",
      "      Epoch    GPU_mem   box_loss  pose_loss  kobj_loss   cls_loss   dfl_loss  Instances       Size\n"
     ]
    },
    {
     "name": "stderr",
     "output_type": "stream",
     "text": [
      "     50/100       3.6G     0.6481      2.892     0.2523     0.4048      1.086         31        640: 100%|██████████| 1143/1143 [04:25<00:00,  4.30it/s]\n",
      "                 Class     Images  Instances      Box(P          R      mAP50  mAP50-95)     Pose(P          R      mAP50  mAP50-95): 100%|██████████| 244/244 [00:56<00:00,  4.29it/s]"
     ]
    },
    {
     "name": "stdout",
     "output_type": "stream",
     "text": [
      "                   all       7808       7808      0.972      0.981      0.991      0.903      0.867      0.848       0.86      0.716\n"
     ]
    },
    {
     "name": "stderr",
     "output_type": "stream",
     "text": [
      "\n"
     ]
    },
    {
     "name": "stdout",
     "output_type": "stream",
     "text": [
      "\n",
      "      Epoch    GPU_mem   box_loss  pose_loss  kobj_loss   cls_loss   dfl_loss  Instances       Size\n"
     ]
    },
    {
     "name": "stderr",
     "output_type": "stream",
     "text": [
      "     51/100      3.62G     0.6495      2.872     0.2498     0.4065      1.086         24        640: 100%|██████████| 1143/1143 [04:23<00:00,  4.33it/s]\n",
      "                 Class     Images  Instances      Box(P          R      mAP50  mAP50-95)     Pose(P          R      mAP50  mAP50-95): 100%|██████████| 244/244 [00:57<00:00,  4.26it/s]"
     ]
    },
    {
     "name": "stdout",
     "output_type": "stream",
     "text": [
      "                   all       7808       7808      0.973      0.981      0.991      0.903      0.868      0.849      0.862      0.718\n"
     ]
    },
    {
     "name": "stderr",
     "output_type": "stream",
     "text": [
      "\n"
     ]
    },
    {
     "name": "stdout",
     "output_type": "stream",
     "text": [
      "\n",
      "      Epoch    GPU_mem   box_loss  pose_loss  kobj_loss   cls_loss   dfl_loss  Instances       Size\n"
     ]
    },
    {
     "name": "stderr",
     "output_type": "stream",
     "text": [
      "     52/100      3.62G     0.6518      2.885     0.2463      0.407      1.085         31        640: 100%|██████████| 1143/1143 [04:25<00:00,  4.31it/s]\n",
      "                 Class     Images  Instances      Box(P          R      mAP50  mAP50-95)     Pose(P          R      mAP50  mAP50-95): 100%|██████████| 244/244 [00:58<00:00,  4.19it/s]"
     ]
    },
    {
     "name": "stdout",
     "output_type": "stream",
     "text": [
      "                   all       7808       7808      0.972      0.981      0.991      0.904      0.869      0.851      0.863       0.72\n"
     ]
    },
    {
     "name": "stderr",
     "output_type": "stream",
     "text": [
      "\n"
     ]
    },
    {
     "name": "stdout",
     "output_type": "stream",
     "text": [
      "\n",
      "      Epoch    GPU_mem   box_loss  pose_loss  kobj_loss   cls_loss   dfl_loss  Instances       Size\n"
     ]
    },
    {
     "name": "stderr",
     "output_type": "stream",
     "text": [
      "     53/100      3.64G     0.6462      2.837     0.2444     0.4005      1.081         32        640: 100%|██████████| 1143/1143 [04:26<00:00,  4.30it/s]\n",
      "                 Class     Images  Instances      Box(P          R      mAP50  mAP50-95)     Pose(P          R      mAP50  mAP50-95): 100%|██████████| 244/244 [00:58<00:00,  4.20it/s]"
     ]
    },
    {
     "name": "stdout",
     "output_type": "stream",
     "text": [
      "                   all       7808       7808      0.971      0.981      0.991      0.904      0.868       0.85      0.863      0.721\n"
     ]
    },
    {
     "name": "stderr",
     "output_type": "stream",
     "text": [
      "\n"
     ]
    },
    {
     "name": "stdout",
     "output_type": "stream",
     "text": [
      "\n",
      "      Epoch    GPU_mem   box_loss  pose_loss  kobj_loss   cls_loss   dfl_loss  Instances       Size\n"
     ]
    },
    {
     "name": "stderr",
     "output_type": "stream",
     "text": [
      "     54/100      3.65G     0.6468      2.828     0.2435     0.4021      1.083         33        640: 100%|██████████| 1143/1143 [04:25<00:00,  4.30it/s]\n",
      "                 Class     Images  Instances      Box(P          R      mAP50  mAP50-95)     Pose(P          R      mAP50  mAP50-95): 100%|██████████| 244/244 [00:57<00:00,  4.23it/s]"
     ]
    },
    {
     "name": "stdout",
     "output_type": "stream",
     "text": [
      "                   all       7808       7808      0.973      0.981      0.991      0.904      0.869      0.849      0.863      0.722\n"
     ]
    },
    {
     "name": "stderr",
     "output_type": "stream",
     "text": [
      "\n"
     ]
    },
    {
     "name": "stdout",
     "output_type": "stream",
     "text": [
      "\n",
      "      Epoch    GPU_mem   box_loss  pose_loss  kobj_loss   cls_loss   dfl_loss  Instances       Size\n"
     ]
    },
    {
     "name": "stderr",
     "output_type": "stream",
     "text": [
      "     55/100      3.66G     0.6416      2.814     0.2446     0.3995      1.082         27        640: 100%|██████████| 1143/1143 [04:25<00:00,  4.30it/s]\n",
      "                 Class     Images  Instances      Box(P          R      mAP50  mAP50-95)     Pose(P          R      mAP50  mAP50-95): 100%|██████████| 244/244 [00:57<00:00,  4.24it/s]"
     ]
    },
    {
     "name": "stdout",
     "output_type": "stream",
     "text": [
      "                   all       7808       7808      0.973      0.982      0.991      0.904      0.869      0.848      0.863      0.723\n"
     ]
    },
    {
     "name": "stderr",
     "output_type": "stream",
     "text": [
      "\n"
     ]
    },
    {
     "name": "stdout",
     "output_type": "stream",
     "text": [
      "\n",
      "      Epoch    GPU_mem   box_loss  pose_loss  kobj_loss   cls_loss   dfl_loss  Instances       Size\n"
     ]
    },
    {
     "name": "stderr",
     "output_type": "stream",
     "text": [
      "     56/100      3.67G     0.6407      2.808     0.2412     0.3958      1.079         28        640: 100%|██████████| 1143/1143 [04:25<00:00,  4.30it/s]\n",
      "                 Class     Images  Instances      Box(P          R      mAP50  mAP50-95)     Pose(P          R      mAP50  mAP50-95): 100%|██████████| 244/244 [00:57<00:00,  4.22it/s]"
     ]
    },
    {
     "name": "stdout",
     "output_type": "stream",
     "text": [
      "                   all       7808       7808      0.973      0.982      0.991      0.905       0.87      0.849      0.864      0.724\n"
     ]
    },
    {
     "name": "stderr",
     "output_type": "stream",
     "text": [
      "\n"
     ]
    },
    {
     "name": "stdout",
     "output_type": "stream",
     "text": [
      "\n",
      "      Epoch    GPU_mem   box_loss  pose_loss  kobj_loss   cls_loss   dfl_loss  Instances       Size\n"
     ]
    },
    {
     "name": "stderr",
     "output_type": "stream",
     "text": [
      "     57/100      3.68G     0.6367      2.792     0.2416     0.3959      1.077         23        640: 100%|██████████| 1143/1143 [04:25<00:00,  4.30it/s]\n",
      "                 Class     Images  Instances      Box(P          R      mAP50  mAP50-95)     Pose(P          R      mAP50  mAP50-95): 100%|██████████| 244/244 [00:57<00:00,  4.24it/s]"
     ]
    },
    {
     "name": "stdout",
     "output_type": "stream",
     "text": [
      "                   all       7808       7808      0.973      0.981      0.991      0.905      0.871      0.848      0.864      0.725\n"
     ]
    },
    {
     "name": "stderr",
     "output_type": "stream",
     "text": [
      "\n"
     ]
    },
    {
     "name": "stdout",
     "output_type": "stream",
     "text": [
      "\n",
      "      Epoch    GPU_mem   box_loss  pose_loss  kobj_loss   cls_loss   dfl_loss  Instances       Size\n"
     ]
    },
    {
     "name": "stderr",
     "output_type": "stream",
     "text": [
      "     58/100      3.69G     0.6354      2.748     0.2392     0.3914      1.078         23        640: 100%|██████████| 1143/1143 [04:25<00:00,  4.31it/s]\n",
      "                 Class     Images  Instances      Box(P          R      mAP50  mAP50-95)     Pose(P          R      mAP50  mAP50-95): 100%|██████████| 244/244 [00:57<00:00,  4.23it/s]"
     ]
    },
    {
     "name": "stdout",
     "output_type": "stream",
     "text": [
      "                   all       7808       7808      0.973      0.981      0.991      0.906      0.872      0.848      0.865      0.726\n"
     ]
    },
    {
     "name": "stderr",
     "output_type": "stream",
     "text": [
      "\n"
     ]
    },
    {
     "name": "stdout",
     "output_type": "stream",
     "text": [
      "\n",
      "      Epoch    GPU_mem   box_loss  pose_loss  kobj_loss   cls_loss   dfl_loss  Instances       Size\n"
     ]
    },
    {
     "name": "stderr",
     "output_type": "stream",
     "text": [
      "     59/100      3.71G     0.6326      2.767      0.241     0.3926      1.075         30        640: 100%|██████████| 1143/1143 [04:25<00:00,  4.31it/s]\n",
      "                 Class     Images  Instances      Box(P          R      mAP50  mAP50-95)     Pose(P          R      mAP50  mAP50-95): 100%|██████████| 244/244 [00:57<00:00,  4.24it/s]"
     ]
    },
    {
     "name": "stdout",
     "output_type": "stream",
     "text": [
      "                   all       7808       7808      0.974      0.981      0.991      0.906      0.872      0.849      0.865      0.727\n"
     ]
    },
    {
     "name": "stderr",
     "output_type": "stream",
     "text": [
      "\n"
     ]
    },
    {
     "name": "stdout",
     "output_type": "stream",
     "text": [
      "\n",
      "      Epoch    GPU_mem   box_loss  pose_loss  kobj_loss   cls_loss   dfl_loss  Instances       Size\n"
     ]
    },
    {
     "name": "stderr",
     "output_type": "stream",
     "text": [
      "     60/100      3.71G     0.6337      2.721     0.2385     0.3889      1.076         35        640: 100%|██████████| 1143/1143 [04:24<00:00,  4.32it/s]\n",
      "                 Class     Images  Instances      Box(P          R      mAP50  mAP50-95)     Pose(P          R      mAP50  mAP50-95): 100%|██████████| 244/244 [00:57<00:00,  4.21it/s]"
     ]
    },
    {
     "name": "stdout",
     "output_type": "stream",
     "text": [
      "                   all       7808       7808      0.974       0.98      0.991      0.906      0.873       0.85      0.866      0.727\n"
     ]
    },
    {
     "name": "stderr",
     "output_type": "stream",
     "text": [
      "\n"
     ]
    },
    {
     "name": "stdout",
     "output_type": "stream",
     "text": [
      "\n",
      "      Epoch    GPU_mem   box_loss  pose_loss  kobj_loss   cls_loss   dfl_loss  Instances       Size\n"
     ]
    },
    {
     "name": "stderr",
     "output_type": "stream",
     "text": [
      "     61/100      3.73G     0.6322      2.718      0.238     0.3898      1.077         29        640: 100%|██████████| 1143/1143 [04:24<00:00,  4.31it/s]\n",
      "                 Class     Images  Instances      Box(P          R      mAP50  mAP50-95)     Pose(P          R      mAP50  mAP50-95): 100%|██████████| 244/244 [00:57<00:00,  4.28it/s]"
     ]
    },
    {
     "name": "stdout",
     "output_type": "stream",
     "text": [
      "                   all       7808       7808      0.974      0.981      0.991      0.907      0.873       0.85      0.866      0.728\n"
     ]
    },
    {
     "name": "stderr",
     "output_type": "stream",
     "text": [
      "\n"
     ]
    },
    {
     "name": "stdout",
     "output_type": "stream",
     "text": [
      "\n",
      "      Epoch    GPU_mem   box_loss  pose_loss  kobj_loss   cls_loss   dfl_loss  Instances       Size\n"
     ]
    },
    {
     "name": "stderr",
     "output_type": "stream",
     "text": [
      "     62/100      3.74G     0.6303      2.713     0.2377     0.3882      1.073         33        640: 100%|██████████| 1143/1143 [04:24<00:00,  4.33it/s]\n",
      "                 Class     Images  Instances      Box(P          R      mAP50  mAP50-95)     Pose(P          R      mAP50  mAP50-95): 100%|██████████| 244/244 [00:57<00:00,  4.25it/s]"
     ]
    },
    {
     "name": "stdout",
     "output_type": "stream",
     "text": [
      "                   all       7808       7808      0.974      0.981      0.991      0.907      0.874       0.85      0.867      0.728\n"
     ]
    },
    {
     "name": "stderr",
     "output_type": "stream",
     "text": [
      "\n"
     ]
    },
    {
     "name": "stdout",
     "output_type": "stream",
     "text": [
      "\n",
      "      Epoch    GPU_mem   box_loss  pose_loss  kobj_loss   cls_loss   dfl_loss  Instances       Size\n"
     ]
    },
    {
     "name": "stderr",
     "output_type": "stream",
     "text": [
      "     63/100      3.75G     0.6277      2.709     0.2366     0.3858      1.074         29        640: 100%|██████████| 1143/1143 [04:24<00:00,  4.32it/s]\n",
      "                 Class     Images  Instances      Box(P          R      mAP50  mAP50-95)     Pose(P          R      mAP50  mAP50-95): 100%|██████████| 244/244 [00:57<00:00,  4.27it/s]"
     ]
    },
    {
     "name": "stdout",
     "output_type": "stream",
     "text": [
      "                   all       7808       7808      0.974      0.981      0.991      0.907      0.875      0.851      0.867      0.729\n"
     ]
    },
    {
     "name": "stderr",
     "output_type": "stream",
     "text": [
      "\n"
     ]
    },
    {
     "name": "stdout",
     "output_type": "stream",
     "text": [
      "\n",
      "      Epoch    GPU_mem   box_loss  pose_loss  kobj_loss   cls_loss   dfl_loss  Instances       Size\n"
     ]
    },
    {
     "name": "stderr",
     "output_type": "stream",
     "text": [
      "     64/100      3.76G     0.6256      2.685     0.2338     0.3821      1.074         28        640: 100%|██████████| 1143/1143 [04:24<00:00,  4.32it/s]\n",
      "                 Class     Images  Instances      Box(P          R      mAP50  mAP50-95)     Pose(P          R      mAP50  mAP50-95): 100%|██████████| 244/244 [00:57<00:00,  4.23it/s]"
     ]
    },
    {
     "name": "stdout",
     "output_type": "stream",
     "text": [
      "                   all       7808       7808      0.974      0.981      0.991      0.907      0.876      0.852      0.867       0.73\n"
     ]
    },
    {
     "name": "stderr",
     "output_type": "stream",
     "text": [
      "\n"
     ]
    },
    {
     "name": "stdout",
     "output_type": "stream",
     "text": [
      "\n",
      "      Epoch    GPU_mem   box_loss  pose_loss  kobj_loss   cls_loss   dfl_loss  Instances       Size\n"
     ]
    },
    {
     "name": "stderr",
     "output_type": "stream",
     "text": [
      "     65/100      3.77G     0.6203      2.644     0.2332     0.3839      1.069         22        640: 100%|██████████| 1143/1143 [04:24<00:00,  4.32it/s]\n",
      "                 Class     Images  Instances      Box(P          R      mAP50  mAP50-95)     Pose(P          R      mAP50  mAP50-95): 100%|██████████| 244/244 [00:57<00:00,  4.27it/s]"
     ]
    },
    {
     "name": "stdout",
     "output_type": "stream",
     "text": [
      "                   all       7808       7808      0.974      0.981      0.991      0.907      0.876      0.853      0.867       0.73\n"
     ]
    },
    {
     "name": "stderr",
     "output_type": "stream",
     "text": [
      "\n"
     ]
    },
    {
     "name": "stdout",
     "output_type": "stream",
     "text": [
      "\n",
      "      Epoch    GPU_mem   box_loss  pose_loss  kobj_loss   cls_loss   dfl_loss  Instances       Size\n"
     ]
    },
    {
     "name": "stderr",
     "output_type": "stream",
     "text": [
      "     66/100      3.78G     0.6211      2.634     0.2324     0.3812       1.07         35        640: 100%|██████████| 1143/1143 [04:25<00:00,  4.30it/s]\n",
      "                 Class     Images  Instances      Box(P          R      mAP50  mAP50-95)     Pose(P          R      mAP50  mAP50-95): 100%|██████████| 244/244 [00:58<00:00,  4.19it/s]"
     ]
    },
    {
     "name": "stdout",
     "output_type": "stream",
     "text": [
      "                   all       7808       7808      0.973      0.981      0.991      0.907      0.875      0.853      0.867      0.731\n"
     ]
    },
    {
     "name": "stderr",
     "output_type": "stream",
     "text": [
      "\n"
     ]
    },
    {
     "name": "stdout",
     "output_type": "stream",
     "text": [
      "\n",
      "      Epoch    GPU_mem   box_loss  pose_loss  kobj_loss   cls_loss   dfl_loss  Instances       Size\n"
     ]
    },
    {
     "name": "stderr",
     "output_type": "stream",
     "text": [
      "     67/100       3.8G     0.6169      2.637     0.2329     0.3846       1.07         21        640: 100%|██████████| 1143/1143 [04:24<00:00,  4.32it/s]\n",
      "                 Class     Images  Instances      Box(P          R      mAP50  mAP50-95)     Pose(P          R      mAP50  mAP50-95): 100%|██████████| 244/244 [00:57<00:00,  4.27it/s]"
     ]
    },
    {
     "name": "stdout",
     "output_type": "stream",
     "text": [
      "                   all       7808       7808      0.973      0.981      0.991      0.907      0.876      0.853      0.867       0.73\n"
     ]
    },
    {
     "name": "stderr",
     "output_type": "stream",
     "text": [
      "\n"
     ]
    },
    {
     "name": "stdout",
     "output_type": "stream",
     "text": [
      "\n",
      "      Epoch    GPU_mem   box_loss  pose_loss  kobj_loss   cls_loss   dfl_loss  Instances       Size\n"
     ]
    },
    {
     "name": "stderr",
     "output_type": "stream",
     "text": [
      "     68/100       3.8G     0.6131      2.602     0.2319     0.3785      1.065         34        640: 100%|██████████| 1143/1143 [04:24<00:00,  4.32it/s]\n",
      "                 Class     Images  Instances      Box(P          R      mAP50  mAP50-95)     Pose(P          R      mAP50  mAP50-95): 100%|██████████| 244/244 [00:57<00:00,  4.27it/s]"
     ]
    },
    {
     "name": "stdout",
     "output_type": "stream",
     "text": [
      "                   all       7808       7808      0.973      0.981      0.991      0.907      0.876      0.853      0.868      0.731\n"
     ]
    },
    {
     "name": "stderr",
     "output_type": "stream",
     "text": [
      "\n"
     ]
    },
    {
     "name": "stdout",
     "output_type": "stream",
     "text": [
      "\n",
      "      Epoch    GPU_mem   box_loss  pose_loss  kobj_loss   cls_loss   dfl_loss  Instances       Size\n"
     ]
    },
    {
     "name": "stderr",
     "output_type": "stream",
     "text": [
      "     69/100      3.82G     0.6112      2.584     0.2321     0.3783      1.066         28        640: 100%|██████████| 1143/1143 [04:26<00:00,  4.29it/s]\n",
      "                 Class     Images  Instances      Box(P          R      mAP50  mAP50-95)     Pose(P          R      mAP50  mAP50-95): 100%|██████████| 244/244 [00:56<00:00,  4.29it/s]"
     ]
    },
    {
     "name": "stdout",
     "output_type": "stream",
     "text": [
      "                   all       7808       7808      0.973      0.981      0.991      0.908      0.877      0.854      0.868      0.732\n"
     ]
    },
    {
     "name": "stderr",
     "output_type": "stream",
     "text": [
      "\n"
     ]
    },
    {
     "name": "stdout",
     "output_type": "stream",
     "text": [
      "\n",
      "      Epoch    GPU_mem   box_loss  pose_loss  kobj_loss   cls_loss   dfl_loss  Instances       Size\n"
     ]
    },
    {
     "name": "stderr",
     "output_type": "stream",
     "text": [
      "     70/100      3.83G     0.6122      2.545     0.2293     0.3731      1.064         26        640: 100%|██████████| 1143/1143 [04:25<00:00,  4.30it/s]\n",
      "                 Class     Images  Instances      Box(P          R      mAP50  mAP50-95)     Pose(P          R      mAP50  mAP50-95): 100%|██████████| 244/244 [00:57<00:00,  4.23it/s]"
     ]
    },
    {
     "name": "stdout",
     "output_type": "stream",
     "text": [
      "                   all       7808       7808      0.974      0.981      0.991      0.908      0.876      0.854      0.868      0.732\n"
     ]
    },
    {
     "name": "stderr",
     "output_type": "stream",
     "text": [
      "\n"
     ]
    },
    {
     "name": "stdout",
     "output_type": "stream",
     "text": [
      "\n",
      "      Epoch    GPU_mem   box_loss  pose_loss  kobj_loss   cls_loss   dfl_loss  Instances       Size\n"
     ]
    },
    {
     "name": "stderr",
     "output_type": "stream",
     "text": [
      "     71/100      3.84G     0.6089      2.552      0.229     0.3719      1.065         32        640: 100%|██████████| 1143/1143 [04:26<00:00,  4.29it/s]\n",
      "                 Class     Images  Instances      Box(P          R      mAP50  mAP50-95)     Pose(P          R      mAP50  mAP50-95): 100%|██████████| 244/244 [00:57<00:00,  4.21it/s]"
     ]
    },
    {
     "name": "stdout",
     "output_type": "stream",
     "text": [
      "                   all       7808       7808      0.974      0.981      0.991      0.908      0.877      0.855      0.868      0.733\n"
     ]
    },
    {
     "name": "stderr",
     "output_type": "stream",
     "text": [
      "\n"
     ]
    },
    {
     "name": "stdout",
     "output_type": "stream",
     "text": [
      "\n",
      "      Epoch    GPU_mem   box_loss  pose_loss  kobj_loss   cls_loss   dfl_loss  Instances       Size\n"
     ]
    },
    {
     "name": "stderr",
     "output_type": "stream",
     "text": [
      "     72/100      3.85G     0.6035       2.52     0.2274     0.3702      1.062         26        640: 100%|██████████| 1143/1143 [04:26<00:00,  4.29it/s]\n",
      "                 Class     Images  Instances      Box(P          R      mAP50  mAP50-95)     Pose(P          R      mAP50  mAP50-95): 100%|██████████| 244/244 [00:57<00:00,  4.22it/s]"
     ]
    },
    {
     "name": "stdout",
     "output_type": "stream",
     "text": [
      "                   all       7808       7808      0.974      0.981      0.991      0.908      0.877      0.855      0.868      0.734\n"
     ]
    },
    {
     "name": "stderr",
     "output_type": "stream",
     "text": [
      "\n"
     ]
    },
    {
     "name": "stdout",
     "output_type": "stream",
     "text": [
      "\n",
      "      Epoch    GPU_mem   box_loss  pose_loss  kobj_loss   cls_loss   dfl_loss  Instances       Size\n"
     ]
    },
    {
     "name": "stderr",
     "output_type": "stream",
     "text": [
      "     73/100      3.86G      0.604       2.51      0.227     0.3725      1.061         25        640: 100%|██████████| 1143/1143 [04:26<00:00,  4.28it/s]\n",
      "                 Class     Images  Instances      Box(P          R      mAP50  mAP50-95)     Pose(P          R      mAP50  mAP50-95): 100%|██████████| 244/244 [00:58<00:00,  4.17it/s]"
     ]
    },
    {
     "name": "stdout",
     "output_type": "stream",
     "text": [
      "                   all       7808       7808      0.974      0.981      0.991      0.908      0.877      0.855      0.869      0.734\n"
     ]
    },
    {
     "name": "stderr",
     "output_type": "stream",
     "text": [
      "\n"
     ]
    },
    {
     "name": "stdout",
     "output_type": "stream",
     "text": [
      "\n",
      "      Epoch    GPU_mem   box_loss  pose_loss  kobj_loss   cls_loss   dfl_loss  Instances       Size\n"
     ]
    },
    {
     "name": "stderr",
     "output_type": "stream",
     "text": [
      "     74/100      3.88G     0.6038      2.507     0.2262     0.3724      1.061         23        640: 100%|██████████| 1143/1143 [04:26<00:00,  4.29it/s]\n",
      "                 Class     Images  Instances      Box(P          R      mAP50  mAP50-95)     Pose(P          R      mAP50  mAP50-95): 100%|██████████| 244/244 [00:58<00:00,  4.18it/s]"
     ]
    },
    {
     "name": "stdout",
     "output_type": "stream",
     "text": [
      "                   all       7808       7808      0.974       0.98      0.991      0.908      0.878      0.856       0.87      0.735\n"
     ]
    },
    {
     "name": "stderr",
     "output_type": "stream",
     "text": [
      "\n"
     ]
    },
    {
     "name": "stdout",
     "output_type": "stream",
     "text": [
      "\n",
      "      Epoch    GPU_mem   box_loss  pose_loss  kobj_loss   cls_loss   dfl_loss  Instances       Size\n"
     ]
    },
    {
     "name": "stderr",
     "output_type": "stream",
     "text": [
      "     75/100      3.89G     0.5989      2.473     0.2253     0.3651      1.059         27        640: 100%|██████████| 1143/1143 [04:26<00:00,  4.28it/s]\n",
      "                 Class     Images  Instances      Box(P          R      mAP50  mAP50-95)     Pose(P          R      mAP50  mAP50-95): 100%|██████████| 244/244 [00:58<00:00,  4.21it/s]"
     ]
    },
    {
     "name": "stdout",
     "output_type": "stream",
     "text": [
      "                   all       7808       7808      0.974       0.98      0.991      0.908      0.878      0.856      0.871      0.736\n"
     ]
    },
    {
     "name": "stderr",
     "output_type": "stream",
     "text": [
      "\n"
     ]
    },
    {
     "name": "stdout",
     "output_type": "stream",
     "text": [
      "\n",
      "      Epoch    GPU_mem   box_loss  pose_loss  kobj_loss   cls_loss   dfl_loss  Instances       Size\n"
     ]
    },
    {
     "name": "stderr",
     "output_type": "stream",
     "text": [
      "     76/100       3.9G     0.5991      2.453     0.2248     0.3679       1.06         28        640: 100%|██████████| 1143/1143 [04:25<00:00,  4.30it/s]\n",
      "                 Class     Images  Instances      Box(P          R      mAP50  mAP50-95)     Pose(P          R      mAP50  mAP50-95): 100%|██████████| 244/244 [00:58<00:00,  4.17it/s]"
     ]
    },
    {
     "name": "stdout",
     "output_type": "stream",
     "text": [
      "                   all       7808       7808      0.974       0.98      0.991      0.909      0.878      0.856      0.871      0.736\n"
     ]
    },
    {
     "name": "stderr",
     "output_type": "stream",
     "text": [
      "\n"
     ]
    },
    {
     "name": "stdout",
     "output_type": "stream",
     "text": [
      "\n",
      "      Epoch    GPU_mem   box_loss  pose_loss  kobj_loss   cls_loss   dfl_loss  Instances       Size\n"
     ]
    },
    {
     "name": "stderr",
     "output_type": "stream",
     "text": [
      "     77/100      3.91G     0.5932      2.429     0.2229     0.3651      1.056         26        640: 100%|██████████| 1143/1143 [04:26<00:00,  4.29it/s]\n",
      "                 Class     Images  Instances      Box(P          R      mAP50  mAP50-95)     Pose(P          R      mAP50  mAP50-95): 100%|██████████| 244/244 [00:58<00:00,  4.20it/s]"
     ]
    },
    {
     "name": "stdout",
     "output_type": "stream",
     "text": [
      "                   all       7808       7808      0.974      0.981      0.991      0.909      0.879      0.857      0.874      0.738\n"
     ]
    },
    {
     "name": "stderr",
     "output_type": "stream",
     "text": [
      "\n"
     ]
    },
    {
     "name": "stdout",
     "output_type": "stream",
     "text": [
      "\n",
      "      Epoch    GPU_mem   box_loss  pose_loss  kobj_loss   cls_loss   dfl_loss  Instances       Size\n"
     ]
    },
    {
     "name": "stderr",
     "output_type": "stream",
     "text": [
      "     78/100      3.92G     0.5936      2.427     0.2218     0.3636      1.057         26        640: 100%|██████████| 1143/1143 [04:25<00:00,  4.30it/s]\n",
      "                 Class     Images  Instances      Box(P          R      mAP50  mAP50-95)     Pose(P          R      mAP50  mAP50-95): 100%|██████████| 244/244 [00:57<00:00,  4.22it/s]"
     ]
    },
    {
     "name": "stdout",
     "output_type": "stream",
     "text": [
      "                   all       7808       7808      0.974      0.981      0.991      0.909      0.879      0.857      0.874      0.738\n"
     ]
    },
    {
     "name": "stderr",
     "output_type": "stream",
     "text": [
      "\n"
     ]
    },
    {
     "name": "stdout",
     "output_type": "stream",
     "text": [
      "\n",
      "      Epoch    GPU_mem   box_loss  pose_loss  kobj_loss   cls_loss   dfl_loss  Instances       Size\n"
     ]
    },
    {
     "name": "stderr",
     "output_type": "stream",
     "text": [
      "     79/100      3.93G     0.5912      2.403     0.2206     0.3581      1.053         27        640: 100%|██████████| 1143/1143 [04:26<00:00,  4.30it/s]\n",
      "                 Class     Images  Instances      Box(P          R      mAP50  mAP50-95)     Pose(P          R      mAP50  mAP50-95): 100%|██████████| 244/244 [00:57<00:00,  4.21it/s]"
     ]
    },
    {
     "name": "stdout",
     "output_type": "stream",
     "text": [
      "                   all       7808       7808      0.975       0.98      0.991      0.909      0.879      0.858      0.874      0.738\n"
     ]
    },
    {
     "name": "stderr",
     "output_type": "stream",
     "text": [
      "\n"
     ]
    },
    {
     "name": "stdout",
     "output_type": "stream",
     "text": [
      "\n",
      "      Epoch    GPU_mem   box_loss  pose_loss  kobj_loss   cls_loss   dfl_loss  Instances       Size\n"
     ]
    },
    {
     "name": "stderr",
     "output_type": "stream",
     "text": [
      "     80/100      3.94G      0.588      2.378     0.2192     0.3608      1.053         30        640: 100%|██████████| 1143/1143 [04:26<00:00,  4.29it/s]\n",
      "                 Class     Images  Instances      Box(P          R      mAP50  mAP50-95)     Pose(P          R      mAP50  mAP50-95): 100%|██████████| 244/244 [00:57<00:00,  4.23it/s]"
     ]
    },
    {
     "name": "stdout",
     "output_type": "stream",
     "text": [
      "                   all       7808       7808      0.975       0.98      0.991      0.909       0.88      0.858      0.874      0.739\n"
     ]
    },
    {
     "name": "stderr",
     "output_type": "stream",
     "text": [
      "\n"
     ]
    },
    {
     "name": "stdout",
     "output_type": "stream",
     "text": [
      "\n",
      "      Epoch    GPU_mem   box_loss  pose_loss  kobj_loss   cls_loss   dfl_loss  Instances       Size\n"
     ]
    },
    {
     "name": "stderr",
     "output_type": "stream",
     "text": [
      "     81/100      3.96G     0.5881      2.364     0.2191      0.358      1.055         33        640: 100%|██████████| 1143/1143 [04:26<00:00,  4.30it/s]\n",
      "                 Class     Images  Instances      Box(P          R      mAP50  mAP50-95)     Pose(P          R      mAP50  mAP50-95): 100%|██████████| 244/244 [00:57<00:00,  4.21it/s]"
     ]
    },
    {
     "name": "stdout",
     "output_type": "stream",
     "text": [
      "                   all       7808       7808      0.975       0.98      0.991       0.91       0.88      0.858      0.875      0.739\n"
     ]
    },
    {
     "name": "stderr",
     "output_type": "stream",
     "text": [
      "\n"
     ]
    },
    {
     "name": "stdout",
     "output_type": "stream",
     "text": [
      "\n",
      "      Epoch    GPU_mem   box_loss  pose_loss  kobj_loss   cls_loss   dfl_loss  Instances       Size\n"
     ]
    },
    {
     "name": "stderr",
     "output_type": "stream",
     "text": [
      "     82/100      3.96G     0.5857      2.365     0.2186     0.3572      1.052         34        640: 100%|██████████| 1143/1143 [04:26<00:00,  4.29it/s]\n",
      "                 Class     Images  Instances      Box(P          R      mAP50  mAP50-95)     Pose(P          R      mAP50  mAP50-95): 100%|██████████| 244/244 [00:57<00:00,  4.22it/s]"
     ]
    },
    {
     "name": "stdout",
     "output_type": "stream",
     "text": [
      "                   all       7808       7808      0.976       0.98      0.991       0.91       0.88      0.858      0.875       0.74\n"
     ]
    },
    {
     "name": "stderr",
     "output_type": "stream",
     "text": [
      "\n"
     ]
    },
    {
     "name": "stdout",
     "output_type": "stream",
     "text": [
      "\n",
      "      Epoch    GPU_mem   box_loss  pose_loss  kobj_loss   cls_loss   dfl_loss  Instances       Size\n"
     ]
    },
    {
     "name": "stderr",
     "output_type": "stream",
     "text": [
      "     83/100      3.98G     0.5805      2.354     0.2188     0.3531       1.05         29        640: 100%|██████████| 1143/1143 [04:24<00:00,  4.32it/s]\n",
      "                 Class     Images  Instances      Box(P          R      mAP50  mAP50-95)     Pose(P          R      mAP50  mAP50-95): 100%|██████████| 244/244 [00:58<00:00,  4.16it/s]"
     ]
    },
    {
     "name": "stdout",
     "output_type": "stream",
     "text": [
      "                   all       7808       7808      0.976       0.98      0.991       0.91      0.881      0.858      0.876      0.741\n"
     ]
    },
    {
     "name": "stderr",
     "output_type": "stream",
     "text": [
      "\n"
     ]
    },
    {
     "name": "stdout",
     "output_type": "stream",
     "text": [
      "\n",
      "      Epoch    GPU_mem   box_loss  pose_loss  kobj_loss   cls_loss   dfl_loss  Instances       Size\n"
     ]
    },
    {
     "name": "stderr",
     "output_type": "stream",
     "text": [
      "     84/100      3.99G     0.5754      2.306     0.2168     0.3503      1.047         21        640: 100%|██████████| 1143/1143 [04:23<00:00,  4.33it/s]\n",
      "                 Class     Images  Instances      Box(P          R      mAP50  mAP50-95)     Pose(P          R      mAP50  mAP50-95): 100%|██████████| 244/244 [00:57<00:00,  4.26it/s]"
     ]
    },
    {
     "name": "stdout",
     "output_type": "stream",
     "text": [
      "                   all       7808       7808      0.976       0.98      0.991       0.91      0.881      0.859      0.877      0.742\n"
     ]
    },
    {
     "name": "stderr",
     "output_type": "stream",
     "text": [
      "\n"
     ]
    },
    {
     "name": "stdout",
     "output_type": "stream",
     "text": [
      "\n",
      "      Epoch    GPU_mem   box_loss  pose_loss  kobj_loss   cls_loss   dfl_loss  Instances       Size\n"
     ]
    },
    {
     "name": "stderr",
     "output_type": "stream",
     "text": [
      "     85/100         4G     0.5774      2.309     0.2169     0.3526      1.047         21        640: 100%|██████████| 1143/1143 [04:24<00:00,  4.32it/s]\n",
      "                 Class     Images  Instances      Box(P          R      mAP50  mAP50-95)     Pose(P          R      mAP50  mAP50-95): 100%|██████████| 244/244 [00:57<00:00,  4.22it/s]"
     ]
    },
    {
     "name": "stdout",
     "output_type": "stream",
     "text": [
      "                   all       7808       7808      0.976       0.98      0.991      0.911      0.881      0.859      0.877      0.742\n"
     ]
    },
    {
     "name": "stderr",
     "output_type": "stream",
     "text": [
      "\n"
     ]
    },
    {
     "name": "stdout",
     "output_type": "stream",
     "text": [
      "\n",
      "      Epoch    GPU_mem   box_loss  pose_loss  kobj_loss   cls_loss   dfl_loss  Instances       Size\n"
     ]
    },
    {
     "name": "stderr",
     "output_type": "stream",
     "text": [
      "     86/100      4.01G     0.5782      2.298     0.2175     0.3499      1.049         29        640: 100%|██████████| 1143/1143 [04:23<00:00,  4.33it/s]\n",
      "                 Class     Images  Instances      Box(P          R      mAP50  mAP50-95)     Pose(P          R      mAP50  mAP50-95): 100%|██████████| 244/244 [00:57<00:00,  4.28it/s]"
     ]
    },
    {
     "name": "stdout",
     "output_type": "stream",
     "text": [
      "                   all       7808       7808      0.976       0.98      0.992      0.911      0.881      0.859      0.877      0.743\n"
     ]
    },
    {
     "name": "stderr",
     "output_type": "stream",
     "text": [
      "\n"
     ]
    },
    {
     "name": "stdout",
     "output_type": "stream",
     "text": [
      "\n",
      "      Epoch    GPU_mem   box_loss  pose_loss  kobj_loss   cls_loss   dfl_loss  Instances       Size\n"
     ]
    },
    {
     "name": "stderr",
     "output_type": "stream",
     "text": [
      "     87/100      4.02G     0.5735      2.285      0.216     0.3472      1.044         28        640: 100%|██████████| 1143/1143 [04:24<00:00,  4.32it/s]\n",
      "                 Class     Images  Instances      Box(P          R      mAP50  mAP50-95)     Pose(P          R      mAP50  mAP50-95): 100%|██████████| 244/244 [00:57<00:00,  4.24it/s]"
     ]
    },
    {
     "name": "stdout",
     "output_type": "stream",
     "text": [
      "                   all       7808       7808      0.976       0.98      0.992      0.911      0.884      0.858      0.878      0.743\n"
     ]
    },
    {
     "name": "stderr",
     "output_type": "stream",
     "text": [
      "\n"
     ]
    },
    {
     "name": "stdout",
     "output_type": "stream",
     "text": [
      "\n",
      "      Epoch    GPU_mem   box_loss  pose_loss  kobj_loss   cls_loss   dfl_loss  Instances       Size\n"
     ]
    },
    {
     "name": "stderr",
     "output_type": "stream",
     "text": [
      "     88/100      4.03G     0.5667      2.249     0.2124     0.3444      1.043         34        640: 100%|██████████| 1143/1143 [04:25<00:00,  4.31it/s]\n",
      "                 Class     Images  Instances      Box(P          R      mAP50  mAP50-95)     Pose(P          R      mAP50  mAP50-95): 100%|██████████| 244/244 [00:57<00:00,  4.23it/s]"
     ]
    },
    {
     "name": "stdout",
     "output_type": "stream",
     "text": [
      "                   all       7808       7808      0.976      0.981      0.992      0.911      0.883      0.858      0.878      0.744\n"
     ]
    },
    {
     "name": "stderr",
     "output_type": "stream",
     "text": [
      "\n"
     ]
    },
    {
     "name": "stdout",
     "output_type": "stream",
     "text": [
      "\n",
      "      Epoch    GPU_mem   box_loss  pose_loss  kobj_loss   cls_loss   dfl_loss  Instances       Size\n"
     ]
    },
    {
     "name": "stderr",
     "output_type": "stream",
     "text": [
      "     89/100      4.04G     0.5666       2.23     0.2145     0.3445      1.045         32        640: 100%|██████████| 1143/1143 [04:24<00:00,  4.32it/s]\n",
      "                 Class     Images  Instances      Box(P          R      mAP50  mAP50-95)     Pose(P          R      mAP50  mAP50-95): 100%|██████████| 244/244 [00:57<00:00,  4.26it/s]"
     ]
    },
    {
     "name": "stdout",
     "output_type": "stream",
     "text": [
      "                   all       7808       7808      0.976      0.981      0.992      0.911      0.883      0.858      0.878      0.745\n"
     ]
    },
    {
     "name": "stderr",
     "output_type": "stream",
     "text": [
      "\n"
     ]
    },
    {
     "name": "stdout",
     "output_type": "stream",
     "text": [
      "\n",
      "      Epoch    GPU_mem   box_loss  pose_loss  kobj_loss   cls_loss   dfl_loss  Instances       Size\n"
     ]
    },
    {
     "name": "stderr",
     "output_type": "stream",
     "text": [
      "     90/100      4.06G     0.5674      2.222      0.214      0.342      1.044         27        640: 100%|██████████| 1143/1143 [04:24<00:00,  4.31it/s]\n",
      "                 Class     Images  Instances      Box(P          R      mAP50  mAP50-95)     Pose(P          R      mAP50  mAP50-95): 100%|██████████| 244/244 [00:58<00:00,  4.21it/s]"
     ]
    },
    {
     "name": "stdout",
     "output_type": "stream",
     "text": [
      "                   all       7808       7808      0.976      0.982      0.992      0.912      0.883      0.859      0.879      0.746\n"
     ]
    },
    {
     "name": "stderr",
     "output_type": "stream",
     "text": [
      "\n"
     ]
    },
    {
     "name": "stdout",
     "output_type": "stream",
     "text": [
      "Closing dataloader mosaic\n",
      "\u001b[34m\u001b[1malbumentations: \u001b[0mBlur(p=0.01, blur_limit=(3, 7)), MedianBlur(p=0.01, blur_limit=(3, 7)), ToGray(p=0.01, num_output_channels=3, method='weighted_average'), CLAHE(p=0.01, clip_limit=(1.0, 4.0), tile_grid_size=(8, 8))\n",
      "\n",
      "      Epoch    GPU_mem   box_loss  pose_loss  kobj_loss   cls_loss   dfl_loss  Instances       Size\n"
     ]
    },
    {
     "name": "stderr",
     "output_type": "stream",
     "text": [
      "     91/100      4.07G      0.462      1.656    0.06835     0.2512      0.983         13        640: 100%|██████████| 1143/1143 [04:23<00:00,  4.34it/s]\n",
      "                 Class     Images  Instances      Box(P          R      mAP50  mAP50-95)     Pose(P          R      mAP50  mAP50-95): 100%|██████████| 244/244 [00:57<00:00,  4.22it/s]"
     ]
    },
    {
     "name": "stdout",
     "output_type": "stream",
     "text": [
      "                   all       7808       7808      0.977      0.981      0.992      0.912      0.884      0.858      0.879      0.747\n"
     ]
    },
    {
     "name": "stderr",
     "output_type": "stream",
     "text": [
      "\n"
     ]
    },
    {
     "name": "stdout",
     "output_type": "stream",
     "text": [
      "\n",
      "      Epoch    GPU_mem   box_loss  pose_loss  kobj_loss   cls_loss   dfl_loss  Instances       Size\n"
     ]
    },
    {
     "name": "stderr",
     "output_type": "stream",
     "text": [
      "     92/100      4.08G     0.4538      1.602    0.06545     0.2419     0.9755         13        640: 100%|██████████| 1143/1143 [04:22<00:00,  4.36it/s]\n",
      "                 Class     Images  Instances      Box(P          R      mAP50  mAP50-95)     Pose(P          R      mAP50  mAP50-95): 100%|██████████| 244/244 [00:58<00:00,  4.20it/s]"
     ]
    },
    {
     "name": "stdout",
     "output_type": "stream",
     "text": [
      "                   all       7808       7808      0.977      0.982      0.992      0.913      0.885      0.861       0.88      0.747\n"
     ]
    },
    {
     "name": "stderr",
     "output_type": "stream",
     "text": [
      "\n"
     ]
    },
    {
     "name": "stdout",
     "output_type": "stream",
     "text": [
      "\n",
      "      Epoch    GPU_mem   box_loss  pose_loss  kobj_loss   cls_loss   dfl_loss  Instances       Size\n"
     ]
    },
    {
     "name": "stderr",
     "output_type": "stream",
     "text": [
      "     93/100      4.09G     0.4472      1.579    0.06327     0.2402     0.9737         13        640: 100%|██████████| 1143/1143 [04:22<00:00,  4.36it/s]\n",
      "                 Class     Images  Instances      Box(P          R      mAP50  mAP50-95)     Pose(P          R      mAP50  mAP50-95): 100%|██████████| 244/244 [00:57<00:00,  4.23it/s]"
     ]
    },
    {
     "name": "stdout",
     "output_type": "stream",
     "text": [
      "                   all       7808       7808      0.977      0.982      0.992      0.913      0.885      0.861      0.881      0.749\n"
     ]
    },
    {
     "name": "stderr",
     "output_type": "stream",
     "text": [
      "\n"
     ]
    },
    {
     "name": "stdout",
     "output_type": "stream",
     "text": [
      "\n",
      "      Epoch    GPU_mem   box_loss  pose_loss  kobj_loss   cls_loss   dfl_loss  Instances       Size\n"
     ]
    },
    {
     "name": "stderr",
     "output_type": "stream",
     "text": [
      "     94/100       4.1G     0.4406       1.55    0.06163     0.2348     0.9686         13        640: 100%|██████████| 1143/1143 [04:21<00:00,  4.37it/s]\n",
      "                 Class     Images  Instances      Box(P          R      mAP50  mAP50-95)     Pose(P          R      mAP50  mAP50-95): 100%|██████████| 244/244 [00:57<00:00,  4.24it/s]"
     ]
    },
    {
     "name": "stdout",
     "output_type": "stream",
     "text": [
      "                   all       7808       7808      0.977      0.982      0.992      0.913      0.885      0.861      0.881       0.75\n"
     ]
    },
    {
     "name": "stderr",
     "output_type": "stream",
     "text": [
      "\n"
     ]
    },
    {
     "name": "stdout",
     "output_type": "stream",
     "text": [
      "\n",
      "      Epoch    GPU_mem   box_loss  pose_loss  kobj_loss   cls_loss   dfl_loss  Instances       Size\n"
     ]
    },
    {
     "name": "stderr",
     "output_type": "stream",
     "text": [
      "     95/100      4.12G     0.4361      1.537    0.06213     0.2342     0.9668         13        640: 100%|██████████| 1143/1143 [04:20<00:00,  4.39it/s]\n",
      "                 Class     Images  Instances      Box(P          R      mAP50  mAP50-95)     Pose(P          R      mAP50  mAP50-95): 100%|██████████| 244/244 [00:57<00:00,  4.24it/s]"
     ]
    },
    {
     "name": "stdout",
     "output_type": "stream",
     "text": [
      "                   all       7808       7808      0.978      0.982      0.992      0.914      0.886      0.861      0.882      0.751\n"
     ]
    },
    {
     "name": "stderr",
     "output_type": "stream",
     "text": [
      "\n"
     ]
    },
    {
     "name": "stdout",
     "output_type": "stream",
     "text": [
      "\n",
      "      Epoch    GPU_mem   box_loss  pose_loss  kobj_loss   cls_loss   dfl_loss  Instances       Size\n"
     ]
    },
    {
     "name": "stderr",
     "output_type": "stream",
     "text": [
      "     96/100      4.12G      0.434      1.508    0.06176     0.2322      0.965         13        640: 100%|██████████| 1143/1143 [04:21<00:00,  4.37it/s]\n",
      "                 Class     Images  Instances      Box(P          R      mAP50  mAP50-95)     Pose(P          R      mAP50  mAP50-95): 100%|██████████| 244/244 [00:57<00:00,  4.22it/s]"
     ]
    },
    {
     "name": "stdout",
     "output_type": "stream",
     "text": [
      "                   all       7808       7808      0.978      0.982      0.992      0.914      0.887      0.862      0.883      0.753\n"
     ]
    },
    {
     "name": "stderr",
     "output_type": "stream",
     "text": [
      "\n"
     ]
    },
    {
     "name": "stdout",
     "output_type": "stream",
     "text": [
      "\n",
      "      Epoch    GPU_mem   box_loss  pose_loss  kobj_loss   cls_loss   dfl_loss  Instances       Size\n"
     ]
    },
    {
     "name": "stderr",
     "output_type": "stream",
     "text": [
      "     97/100      4.14G     0.4285      1.479    0.05895     0.2277     0.9614         13        640: 100%|██████████| 1143/1143 [04:21<00:00,  4.36it/s]\n",
      "                 Class     Images  Instances      Box(P          R      mAP50  mAP50-95)     Pose(P          R      mAP50  mAP50-95): 100%|██████████| 244/244 [00:57<00:00,  4.25it/s]"
     ]
    },
    {
     "name": "stdout",
     "output_type": "stream",
     "text": [
      "                   all       7808       7808      0.978      0.982      0.992      0.915      0.887      0.863      0.884      0.754\n"
     ]
    },
    {
     "name": "stderr",
     "output_type": "stream",
     "text": [
      "\n"
     ]
    },
    {
     "name": "stdout",
     "output_type": "stream",
     "text": [
      "\n",
      "      Epoch    GPU_mem   box_loss  pose_loss  kobj_loss   cls_loss   dfl_loss  Instances       Size\n"
     ]
    },
    {
     "name": "stderr",
     "output_type": "stream",
     "text": [
      "     98/100      4.15G     0.4252      1.462    0.05864     0.2271     0.9609         13        640: 100%|██████████| 1143/1143 [04:21<00:00,  4.37it/s]\n",
      "                 Class     Images  Instances      Box(P          R      mAP50  mAP50-95)     Pose(P          R      mAP50  mAP50-95): 100%|██████████| 244/244 [00:57<00:00,  4.24it/s]"
     ]
    },
    {
     "name": "stdout",
     "output_type": "stream",
     "text": [
      "                   all       7808       7808      0.978      0.982      0.992      0.915       0.89      0.863      0.886      0.755\n"
     ]
    },
    {
     "name": "stderr",
     "output_type": "stream",
     "text": [
      "\n"
     ]
    },
    {
     "name": "stdout",
     "output_type": "stream",
     "text": [
      "\n",
      "      Epoch    GPU_mem   box_loss  pose_loss  kobj_loss   cls_loss   dfl_loss  Instances       Size\n"
     ]
    },
    {
     "name": "stderr",
     "output_type": "stream",
     "text": [
      "     99/100      4.16G     0.4209      1.446    0.05909     0.2238     0.9572         13        640: 100%|██████████| 1143/1143 [04:21<00:00,  4.38it/s]\n",
      "                 Class     Images  Instances      Box(P          R      mAP50  mAP50-95)     Pose(P          R      mAP50  mAP50-95): 100%|██████████| 244/244 [00:57<00:00,  4.21it/s]"
     ]
    },
    {
     "name": "stdout",
     "output_type": "stream",
     "text": [
      "                   all       7808       7808      0.978      0.982      0.992      0.915       0.89      0.864      0.888      0.756\n"
     ]
    },
    {
     "name": "stderr",
     "output_type": "stream",
     "text": [
      "\n"
     ]
    },
    {
     "name": "stdout",
     "output_type": "stream",
     "text": [
      "\n",
      "      Epoch    GPU_mem   box_loss  pose_loss  kobj_loss   cls_loss   dfl_loss  Instances       Size\n"
     ]
    },
    {
     "name": "stderr",
     "output_type": "stream",
     "text": [
      "    100/100      4.17G      0.418      1.432    0.05825     0.2216     0.9595         13        640: 100%|██████████| 1143/1143 [04:21<00:00,  4.37it/s]\n",
      "                 Class     Images  Instances      Box(P          R      mAP50  mAP50-95)     Pose(P          R      mAP50  mAP50-95): 100%|██████████| 244/244 [00:57<00:00,  4.27it/s]"
     ]
    },
    {
     "name": "stdout",
     "output_type": "stream",
     "text": [
      "                   all       7808       7808      0.979      0.982      0.992      0.916      0.891      0.865      0.889      0.757\n"
     ]
    },
    {
     "name": "stderr",
     "output_type": "stream",
     "text": [
      "\n"
     ]
    },
    {
     "name": "stdout",
     "output_type": "stream",
     "text": [
      "\n",
      "100 epochs completed in 8.894 hours.\n",
      "Optimizer stripped from runs/pose/train3/weights/last.pt, 6.3MB\n",
      "Optimizer stripped from runs/pose/train3/weights/best.pt, 6.3MB\n",
      "\n",
      "Validating runs/pose/train3/weights/best.pt...\n",
      "Ultralytics 8.3.141 🚀 Python-3.11.11 torch-2.6.0+cu124 CUDA:0 (Tesla P100-PCIE-16GB, 16269MiB)\n",
      "YOLO11n-pose summary (fused): 109 layers, 2,956,000 parameters, 0 gradients, 7.8 GFLOPs\n"
     ]
    },
    {
     "name": "stderr",
     "output_type": "stream",
     "text": [
      "                 Class     Images  Instances      Box(P          R      mAP50  mAP50-95)     Pose(P          R      mAP50  mAP50-95): 100%|██████████| 244/244 [00:59<00:00,  4.11it/s]\n"
     ]
    },
    {
     "name": "stdout",
     "output_type": "stream",
     "text": [
      "                   all       7808       7808      0.979      0.982      0.992      0.916      0.891      0.865      0.889      0.757\n"
     ]
    },
    {
     "name": "stderr",
     "output_type": "stream",
     "text": [
      "/usr/local/lib/python3.11/dist-packages/matplotlib/colors.py:721: RuntimeWarning: invalid value encountered in less\n",
      "  xa[xa < 0] = -1\n",
      "/usr/local/lib/python3.11/dist-packages/matplotlib/colors.py:721: RuntimeWarning: invalid value encountered in less\n",
      "  xa[xa < 0] = -1\n"
     ]
    },
    {
     "name": "stdout",
     "output_type": "stream",
     "text": [
      "Speed: 0.2ms preprocess, 2.3ms inference, 0.0ms loss, 0.9ms postprocess per image\n",
      "Results saved to \u001b[1mruns/pose/train3\u001b[0m\n"
     ]
    }
   ],
   "source": [
    "from ultralytics import YOLO\n",
    "\n",
    "# Load a model\n",
    "model = YOLO(\"yolo11n-pose.pt\")  # load a pretrained model (recommended for training)\n",
    "\n",
    "# Train the model\n",
    "results = model.train(data=\"hand-keypoints.yaml\", epochs=100, imgsz=640)"
   ]
  },
  {
   "cell_type": "code",
   "execution_count": 9,
   "metadata": {
    "execution": {
     "iopub.execute_input": "2025-05-22T14:34:10.823577Z",
     "iopub.status.busy": "2025-05-22T14:34:10.823002Z",
     "iopub.status.idle": "2025-05-22T14:34:11.674864Z",
     "shell.execute_reply": "2025-05-22T14:34:11.673960Z",
     "shell.execute_reply.started": "2025-05-22T14:34:10.823553Z"
    },
    "trusted": true
   },
   "outputs": [
    {
     "data": {
      "text/plain": [
       "'/kaggle/working/runs.zip'"
      ]
     },
     "execution_count": 9,
     "metadata": {},
     "output_type": "execute_result"
    }
   ],
   "source": [
    "import shutil\n",
    "\n",
    "shutil.make_archive(\"/kaggle/working/runs\", 'zip', \"/kaggle/working/runs\")\n"
   ]
  },
  {
   "cell_type": "code",
   "execution_count": 11,
   "metadata": {
    "execution": {
     "iopub.execute_input": "2025-05-22T14:41:20.902730Z",
     "iopub.status.busy": "2025-05-22T14:41:20.902036Z",
     "iopub.status.idle": "2025-05-22T14:41:21.248228Z",
     "shell.execute_reply": "2025-05-22T14:41:21.247687Z",
     "shell.execute_reply.started": "2025-05-22T14:41:20.902706Z"
    },
    "trusted": true
   },
   "outputs": [
    {
     "name": "stdout",
     "output_type": "stream",
     "text": [
      "\n",
      "image 1/1 /kaggle/input/tangan/Screenshot 2025-05-22 213310.png: 640x512 1 hand, 60.7ms\n",
      "Speed: 2.2ms preprocess, 60.7ms inference, 3.0ms postprocess per image at shape (1, 3, 640, 512)\n",
      "Results saved to \u001b[1mruns/pose/predict\u001b[0m\n"
     ]
    }
   ],
   "source": [
    "from ultralytics import YOLO\n",
    "\n",
    "# Load model terbaik\n",
    "model = YOLO('/kaggle/working/runs/pose/train3/weights/best.pt')  # Ganti path sesuai file kamu\n",
    "\n",
    "# Prediksi satu gambar\n",
    "results = model.predict(\n",
    "    source='/kaggle/input/tangan/Screenshot 2025-05-22 213310.png',   # Ganti dengan gambar atau folder gambar\n",
    "    save=True,                           # Simpan hasil prediksi\n",
    "    conf=0.5,                            # Confidence threshold\n",
    "    imgsz=640                            # Ukuran gambar\n",
    ")\n"
   ]
  }
 ],
 "metadata": {
  "kaggle": {
   "accelerator": "gpu",
   "dataSources": [
    {
     "datasetId": 7487738,
     "sourceId": 11910514,
     "sourceType": "datasetVersion"
    },
    {
     "datasetId": 7487844,
     "sourceId": 11910674,
     "sourceType": "datasetVersion"
    }
   ],
   "dockerImageVersionId": 31041,
   "isGpuEnabled": true,
   "isInternetEnabled": true,
   "language": "python",
   "sourceType": "notebook"
  },
  "kernelspec": {
   "display_name": "Python 3",
   "language": "python",
   "name": "python3"
  },
  "language_info": {
   "codemirror_mode": {
    "name": "ipython",
    "version": 3
   },
   "file_extension": ".py",
   "mimetype": "text/x-python",
   "name": "python",
   "nbconvert_exporter": "python",
   "pygments_lexer": "ipython3",
   "version": "3.11.9"
  }
 },
 "nbformat": 4,
 "nbformat_minor": 4
}
